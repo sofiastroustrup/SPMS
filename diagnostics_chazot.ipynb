{
 "cells": [
  {
   "cell_type": "code",
   "execution_count": null,
   "metadata": {},
   "outputs": [],
   "source": [
    "import os\n",
    "import numpy as np\n",
    "import matplotlib.backends.backend_pdf as backend_pdf\n",
    "import matplotlib.pyplot as plt\n",
    "import arviz\n",
    "import seaborn as sns\n",
    "from ete3 import Tree\n",
    "\n",
    "from plotting import *"
   ]
  },
  {
   "cell_type": "markdown",
   "metadata": {},
   "source": [
    "# Diagnostics notebook"
   ]
  },
  {
   "cell_type": "code",
   "execution_count": null,
   "metadata": {},
   "outputs": [],
   "source": [
    "#  this will be read in as variable from the script.. \n",
    "MCMC_iter = 10 #10000 in the paper \n",
    "burnin = 2 # 2000 in the paper \n",
    "nthin = 1 # see from script/running conditions, not used for plotting\n",
    "folder_runs = '_butterfly-analysis/runs/'\n",
    "nxd=40\n",
    "treefile = 'data/chazot_full_tree.nw'\n",
    "pars_name = ['kalpha', 'gtheta']\n",
    "rep_path = len(pars_name)+1\n",
    "chains = os.listdir(folder_runs) # use all chains in data seed folder \n",
    "chains = [c for c in chains if c[0] not in ['_', '.']] # remove files starting with underscore\n",
    "print(chains)\n",
    "temp_name = ['' for i in range(len(chains))]\n"
   ]
  },
  {
   "cell_type": "code",
   "execution_count": null,
   "metadata": {},
   "outputs": [],
   "source": [
    "# get levelorder tree \n",
    "phylogeny = Tree(treefile, format=1)\n",
    "leafidx = []\n",
    "inneridx = []\n",
    "i = 0\n",
    "for node in phylogeny.traverse('levelorder'):\n",
    "    if node.is_leaf():\n",
    "        print(node.name)\n",
    "        leafidx.append(i)\n",
    "    else:\n",
    "        inneridx.append(i)\n",
    "    i+=1\n",
    "print(leafidx)\n",
    "print(inneridx)\n",
    "nnodes = len(leafidx) + len(inneridx)   "
   ]
  },
  {
   "cell_type": "code",
   "execution_count": null,
   "metadata": {},
   "outputs": [],
   "source": [
    "print(phylogeny)"
   ]
  },
  {
   "cell_type": "code",
   "execution_count": null,
   "metadata": {},
   "outputs": [],
   "source": [
    "# read in data and MCMC chains\n",
    "raw_trees = [np.genfromtxt(folder_runs + chains[i]+'/'+temp_name[i]+\"tree_nodes.csv\", delimiter = \",\") for i in range(len(chains))]\n",
    "tree_counters = [np.genfromtxt(folder_runs + chains[i]+'/'+temp_name[i]+\"tree_counter.csv\", delimiter = \",\").astype(int) for i in range(len(chains))]\n",
    "flat_trees_raw = [raw_trees[i].reshape(len(tree_counters[i]),nnodes,nxd) for i in range(len(raw_trees))]\n",
    "#flat_true_tree = np.genfromtxt(folder_simdata+\"flat_true_tree.csv\", delimiter = \",\")\n",
    "super_root = [np.genfromtxt(folder_runs + chains[i]+'/'+temp_name[i]+\"inference_root_start.csv\", delimiter = \",\") for i in range(len(chains))]\n",
    "_super_root = [np.concatenate((super_root[i], super_root[i][0:2])) for i in range(len(chains))]\n",
    "_super_root = np.unique(np.array(_super_root), axis=0)\n",
    "\n",
    "\n",
    "# In[12]:\n",
    "flat_trees = np.array([np.repeat(flat_trees_raw[i], tree_counters[i], axis=0)[burnin*rep_path:(MCMC_iter//nthin)*rep_path] for i in range(len(flat_trees_raw))])\n",
    "flat_trees.shape"
   ]
  },
  {
   "cell_type": "code",
   "execution_count": null,
   "metadata": {},
   "outputs": [],
   "source": [
    "# create output folder\n",
    "outputfolder = folder_runs\n",
    "path = outputfolder+'_*'+'-'.join(chains)\n",
    "if not os.path.isdir(path): \n",
    "    os.mkdir(path)\n",
    "    os.mkdir(path+'/stats')"
   ]
  },
  {
   "cell_type": "markdown",
   "metadata": {},
   "source": [
    "## Gelman-Rubin convergence diagnostics"
   ]
  },
  {
   "cell_type": "code",
   "execution_count": null,
   "metadata": {},
   "outputs": [],
   "source": [
    "\n",
    "# get rhat and ESS for all nodes and dimensions\n",
    "rhats = []\n",
    "esss = []\n",
    "for idx in range(flat_trees.shape[2]):  # calculate for all nodes \n",
    "    innernodes = flat_trees[:,:,idx, :]\n",
    "    keys = list(range(innernodes.shape[2]))\n",
    "    MCMCres = arviz.convert_to_dataset({k:innernodes[:,:,i] for i,k in enumerate(keys)})\n",
    "    rhats.append(arviz.rhat(MCMCres).to_array().to_numpy())\n",
    "    esss.append(arviz.ess(MCMCres).to_array().to_numpy())\n",
    "\n",
    "# save rhat for plotting\n",
    "np.savetxt(path+'/stats/'+\"rhats_paths.csv\",np.array(rhats), delimiter=\",\")"
   ]
  },
  {
   "cell_type": "markdown",
   "metadata": {},
   "source": [
    "## Plot traces and diagnostics paths"
   ]
  },
  {
   "cell_type": "code",
   "execution_count": null,
   "metadata": {},
   "outputs": [],
   "source": [
    "plot_traces_tree(flat_trees, inneridx, esss, rhats,None, outpath = path + f'/trace-innernodes_burnin={burnin}_MCMCiter={MCMC_iter}.pdf')"
   ]
  },
  {
   "cell_type": "code",
   "execution_count": null,
   "metadata": {},
   "outputs": [],
   "source": [
    "summary_rhat(rhats, inneridx, outpath = path + f'/summary_rhat_burnin={burnin}_MCMCiter={MCMC_iter}.pdf')"
   ]
  },
  {
   "cell_type": "code",
   "execution_count": null,
   "metadata": {},
   "outputs": [],
   "source": [
    "sns.violinplot(np.array(rhats).flatten())\n",
    "plt.hlines(y=1.1, xmin=-0.5, xmax=0.5, color='red', linestyle='--')\n",
    "plt.savefig(path + f'/summary_rhat_allnodes_burnin={burnin}_MCMCiter={MCMC_iter}.pdf')"
   ]
  },
  {
   "cell_type": "markdown",
   "metadata": {},
   "source": [
    "## Plot posterior path"
   ]
  },
  {
   "cell_type": "code",
   "execution_count": null,
   "metadata": {},
   "outputs": [],
   "source": [
    "plot_posterior(flat_trees, inneridx, outpath = path + f'/posterior_samples_burnin={burnin}_MCMCiter={MCMC_iter}.png', flat_true_tree=False, sample_n=50, nxd=60)"
   ]
  },
  {
   "cell_type": "markdown",
   "metadata": {},
   "source": [
    "## Plot parameters "
   ]
  },
  {
   "cell_type": "code",
   "execution_count": null,
   "metadata": {},
   "outputs": [],
   "source": [
    "par = pars_name[0]\n",
    "o = [np.genfromtxt(folder_runs + chains[i]+'/'+par+\"s.csv\", delimiter = \",\")[:MCMC_iter] for i in range(3)]\n",
    "o[1].shape"
   ]
  },
  {
   "cell_type": "code",
   "execution_count": null,
   "metadata": {},
   "outputs": [],
   "source": [
    "raw_pars = np.array([[np.genfromtxt(folder_runs + chains[i]+'/'+par+\"s.csv\", delimiter = \",\")[:MCMC_iter] for i in range(len(chains))] for par in pars_name])\n",
    "#raw_acceptpars = np.array([[np.genfromtxt(folder_runs + chains[i]+'/'+temp_name[i]+f\"accept{par}.csv\", delimiter = \",\") for i in range(len(chains))] for par in pars_name])\n",
    "#true_pars = [np.genfromtxt(folder_simdata +p+\"_sim.csv\", delimiter = \",\") for p in pars_name]"
   ]
  },
  {
   "cell_type": "code",
   "execution_count": null,
   "metadata": {},
   "outputs": [],
   "source": [
    "pars = raw_pars[:,:,burnin:MCMC_iter]\n",
    "pars.shape\n",
    "#acceptpars = raw_acceptpars[:,:,burnin:MCMC_iter]\n",
    "#acceptance_rate = np.mean(acceptpars, axis=2) # add when neccesary information is stored "
   ]
  },
  {
   "cell_type": "code",
   "execution_count": null,
   "metadata": {},
   "outputs": [],
   "source": [
    "parsdict = dict(zip(pars_name, pars)) \n",
    "MCMC_result = parsdict \n",
    "parsres = arviz.convert_to_dataset(MCMC_result)\n",
    "rhat = arviz.rhat(parsres)\n",
    "mcse = arviz.mcse(parsres)\n",
    "ess = arviz.ess(parsres)\n",
    "arviz.summary(parsres, hdi_prob=0.95, round_to=4)\n",
    "\n",
    "\n",
    "\n"
   ]
  },
  {
   "cell_type": "code",
   "execution_count": null,
   "metadata": {},
   "outputs": [],
   "source": [
    "# save rhat for plotting\n",
    "rhats_par = np.array([rhat['kalpha'], rhat['gtheta']])\n",
    "np.savetxt(path+'/stats/'+\"rhats_pars.csv\",np.array(rhats_par), delimiter=\",\")\n",
    "\n",
    "keys = pars_name\n",
    "print(keys)\n",
    "print([pars[i].shape for i in range(len(pars))])"
   ]
  },
  {
   "cell_type": "code",
   "execution_count": null,
   "metadata": {},
   "outputs": [],
   "source": [
    "keys = ['kalpha', 'gtheta']\n",
    "colors = sns.color_palette('pastel', len(chains))\n",
    "fig, axes = plt.subplots(nrows=len(keys), ncols=2, figsize=(20,10), sharex=False)\n",
    "p = 0\n",
    "for i, ax in zip(range(len(axes.flat)), axes.flat): \n",
    "        if i%2 == 0: \n",
    "            for j in range(pars[p].shape[0]): #loop over chains \n",
    "                ax.plot(pars[p][j,:], color=colors[j], alpha=0.5)\n",
    "            #ax.hlines(y=true_vals[p], xmin=0, xmax=pars[p].shape[1], color='skyblue')\n",
    "            if keys[p] == 'kalpha':\n",
    "                ax.set_title(r'${\\alpha}$,'+r' $\\hat{R}$: ' + f'{round(float(np.array(rhat[keys[p]])),2)} \\n (ESS: {round(float(np.array(ess[keys[p]])),2)}) ')\n",
    "            if keys[p] == 'gtheta':\n",
    "                ax.set_title(r'${\\sigma}$,'+r' $\\hat{R}$: ' + f'{round(float(np.array(rhat[keys[p]])),2)} \\n (ESS: {round(float(np.array(ess[keys[p]])),2)}) ')\n",
    "        else:\n",
    "            for j in range(pars[p].shape[0]):\n",
    "                sns.kdeplot(pars[p][j,:], ax=ax)\n",
    "                sns.rugplot(pars[p][j,:], ax=ax)\n",
    "            if keys[p] == 'kalpha':\n",
    "                ax.set_title(r'${\\alpha}$,'+r' $\\hat{R}$: ' + f'{round(float(np.array(rhat[keys[p]])),2)} \\n (ESS: {round(float(np.array(ess[keys[p]])),2)}) ')\n",
    "            if keys[p] == 'gtheta':\n",
    "                ax.set_title(r'${\\sigma}$,'+r' $\\hat{R}$: ' + f'{round(float(np.array(rhat[keys[p]])),2)} \\n (ESS: {round(float(np.array(ess[keys[p]])),2)}) ')\n",
    "            p+=1\n",
    "            #ax.legend(loc='upper right')\n",
    "#fig.suptitle(f\"Iter: {MCMC_iter}, Burnin: {burnin} \\n\", fontsize=15)\n",
    "fig.tight_layout()\n",
    "fig.savefig(path+f'/pars_burnin={burnin}_MCMCiter={MCMC_iter}.pdf')\n",
    "\n"
   ]
  },
  {
   "cell_type": "code",
   "execution_count": null,
   "metadata": {},
   "outputs": [],
   "source": []
  },
  {
   "cell_type": "code",
   "execution_count": null,
   "metadata": {},
   "outputs": [],
   "source": []
  }
 ],
 "metadata": {
  "kernelspec": {
   "display_name": "Python 3",
   "language": "python",
   "name": "python3"
  },
  "language_info": {
   "codemirror_mode": {
    "name": "ipython",
    "version": 3
   },
   "file_extension": ".py",
   "mimetype": "text/x-python",
   "name": "python",
   "nbconvert_exporter": "python",
   "pygments_lexer": "ipython3",
   "version": "3.11.10"
  }
 },
 "nbformat": 4,
 "nbformat_minor": 2
}
