{
 "cells": [
  {
   "cell_type": "code",
   "execution_count": null,
   "id": "a2146b1c",
   "metadata": {},
   "outputs": [
    {
     "ename": "",
     "evalue": "",
     "output_type": "error",
     "traceback": [
      "\u001b[1;31mFailed to start the Kernel. \n",
      "\u001b[1;31mUnable to start Kernel 'SPMS (Python 3.13.5)' due to a timeout waiting for the ports to get used. \n",
      "\u001b[1;31mView Jupyter <a href='command:jupyter.viewOutput'>log</a> for further details."
     ]
    }
   ],
   "source": [
    "from ete3 import Tree\n",
    "import os\n",
    "import numpy as np \n",
    "import matplotlib.pyplot as plt\n",
    "import pandas as pd\n",
    "\n",
    "from simulate import simulate_shapes\n",
    "from bridge_sampling.helper_functions import get_flat_values_sim\n"
   ]
  },
  {
   "cell_type": "code",
   "execution_count": null,
   "id": "ab03cb28",
   "metadata": {},
   "outputs": [],
   "source": [
    "def generate_circle_landmarks(n_landmarks, radius=1.0, center_x=0.0, center_y=0.0, noise=0.0):\n",
    "    \"\"\"\n",
    "    Generate landmarks equally spaced around a circle.\n",
    "    \n",
    "    Args:\n",
    "        n_landmarks: Number of landmarks to generate\n",
    "        radius: Radius of the circle\n",
    "        center_x: X-coordinate of circle center\n",
    "        center_y: Y-coordinate of circle center\n",
    "        noise: Standard deviation of random noise to add (0 for perfect circle)\n",
    "        \n",
    "    Returns:\n",
    "        Array of shape (n_landmarks*2,) with alternating x,y coordinates\n",
    "    \"\"\"\n",
    "    # Generate angles equally spaced around the circle\n",
    "    angles = np.linspace(0, 2 * np.pi, n_landmarks, endpoint=False)\n",
    "    \n",
    "    # Calculate x and y coordinates\n",
    "    x_coords = center_x + radius * np.cos(angles)\n",
    "    y_coords = center_y + radius * np.sin(angles)\n",
    "    \n",
    "    # Add random noise if specified\n",
    "    if noise > 0:\n",
    "        x_coords += np.random.normal(0, noise, n_landmarks)\n",
    "        y_coords += np.random.normal(0, noise, n_landmarks)\n",
    "    \n",
    "    # Interleave x and y coordinates\n",
    "    landmarks = np.zeros(n_landmarks * 2)\n",
    "    landmarks[0::2] = x_coords\n",
    "    landmarks[1::2] = y_coords\n",
    "    \n",
    "    return landmarks"
   ]
  },
  {
   "cell_type": "code",
   "execution_count": null,
   "id": "df9cfb8d",
   "metadata": {},
   "outputs": [],
   "source": [
    "circle = generate_circle_landmarks(40)\n",
    "plt.plot(circle[0::2], circle[1::2], 'ro')"
   ]
  },
  {
   "cell_type": "code",
   "execution_count": null,
   "id": "a4e54d4f",
   "metadata": {},
   "outputs": [
    {
     "ename": "",
     "evalue": "",
     "output_type": "error",
     "traceback": [
      "\u001b[1;31mFailed to start the Kernel. \n",
      "\u001b[1;31mUnable to start Kernel 'SPMS (Python 3.13.5)' due to a timeout waiting for the ports to get used. \n",
      "\u001b[1;31mView Jupyter <a href='command:jupyter.viewOutput'>log</a> for further details."
     ]
    }
   ],
   "source": [
    "# load phylogeny \n",
    "tree = Tree('../data/chazot_subtree_rounded.nw')\n",
    "print(tree)\n",
    "# load root shape for simulation \n",
    "root = np.genfromtxt('../data/hercules_forewing_n=20.csv', delimiter=',')"
   ]
  },
  {
   "cell_type": "code",
   "execution_count": null,
   "id": "e7181825",
   "metadata": {},
   "outputs": [
    {
     "ename": "",
     "evalue": "",
     "output_type": "error",
     "traceback": [
      "\u001b[1;31mFailed to start the Kernel. \n",
      "\u001b[1;31mUnable to start Kernel 'SPMS (Python 3.13.5)' due to a timeout waiting for the ports to get used. \n",
      "\u001b[1;31mView Jupyter <a href='command:jupyter.viewOutput'>log</a> for further details."
     ]
    }
   ],
   "source": [
    "leafidx = []\n",
    "inneridx = []\n",
    "species = []\n",
    "i = 0\n",
    "for node in tree.traverse('levelorder'):\n",
    "    if node.is_leaf():\n",
    "        print(node.name)\n",
    "        leafidx.append(i)\n",
    "        species.append(node.name)\n",
    "    else:\n",
    "        inneridx.append(i)\n",
    "    i+=1\n",
    "print(leafidx)\n",
    "print(inneridx)\n",
    "print(species)"
   ]
  },
  {
   "cell_type": "code",
   "execution_count": null,
   "id": "f0816f27",
   "metadata": {},
   "outputs": [
    {
     "ename": "",
     "evalue": "",
     "output_type": "error",
     "traceback": [
      "\u001b[1;31mFailed to start the Kernel. \n",
      "\u001b[1;31mUnable to start Kernel 'SPMS (Python 3.13.5)' due to a timeout waiting for the ports to get used. \n",
      "\u001b[1;31mView Jupyter <a href='command:jupyter.viewOutput'>log</a> for further details."
     ]
    }
   ],
   "source": [
    "ds = np.random.randint(0, 2**32)\n",
    "sigma = 0.9\n",
    "alpha = 0.02\n",
    "dt = 0.05\n",
    "outputpath = 'seed={}_sigma={}_alpha={}_dt={}'.format(ds, sigma, alpha, dt)\n",
    "os.makedirs(outputpath, exist_ok=True)\n",
    "simtree = simulate_shapes(ds=ds, dt=dt, sigma=sigma, alpha=alpha, root=root, tree=tree, rb=0)\n",
    "flat_true_tree = np.array(get_flat_values_sim(simtree)) \n",
    "flat_true_tree.shape\n",
    "#"
   ]
  },
  {
   "cell_type": "code",
   "execution_count": null,
   "id": "eb9801bc",
   "metadata": {},
   "outputs": [
    {
     "ename": "",
     "evalue": "",
     "output_type": "error",
     "traceback": [
      "\u001b[1;31mFailed to start the Kernel. \n",
      "\u001b[1;31mUnable to start Kernel 'SPMS (Python 3.13.5)' due to a timeout waiting for the ports to get used. \n",
      "\u001b[1;31mView Jupyter <a href='command:jupyter.viewOutput'>log</a> for further details."
     ]
    }
   ],
   "source": [
    "np.savetxt(f'{outputpath}/flat_true_tree.csv', flat_true_tree, delimiter=\",\")"
   ]
  },
  {
   "cell_type": "code",
   "execution_count": null,
   "id": "75afb2bb",
   "metadata": {},
   "outputs": [
    {
     "ename": "",
     "evalue": "",
     "output_type": "error",
     "traceback": [
      "\u001b[1;31mFailed to start the Kernel. \n",
      "\u001b[1;31mUnable to start Kernel 'SPMS (Python 3.13.5)' due to a timeout waiting for the ports to get used. \n",
      "\u001b[1;31mView Jupyter <a href='command:jupyter.viewOutput'>log</a> for further details."
     ]
    }
   ],
   "source": [
    "# show leaves \n",
    "[plt.plot(flat_true_tree[idx][0::2], flat_true_tree[idx][1::2], '--o', markersize=3, label='Simulated data') for idx in leafidx]\n",
    "plt.savefig(f'{outputpath}/simulated_leaves.pdf', bbox_inches='tight')"
   ]
  },
  {
   "cell_type": "code",
   "execution_count": null,
   "id": "9a8a91ac",
   "metadata": {},
   "outputs": [
    {
     "ename": "",
     "evalue": "",
     "output_type": "error",
     "traceback": [
      "\u001b[1;31mFailed to start the Kernel. \n",
      "\u001b[1;31mUnable to start Kernel 'SPMS (Python 3.13.5)' due to a timeout waiting for the ports to get used. \n",
      "\u001b[1;31mView Jupyter <a href='command:jupyter.viewOutput'>log</a> for further details."
     ]
    }
   ],
   "source": [
    "leaves = pd.DataFrame(flat_true_tree[leafidx, :], index=species)\n",
    "#leaves.columns = [['X'+str(i), 'Y'+str(i)] for i in range(leaves.shape[1] // 2)]\n",
    "leaves.columns = [f'X{i}' if j % 2 == 0 else f'Y{i}' \n",
    "                  for i in range(leaves.shape[1] // 2) for j in range(2)]\n",
    "print(leaves)\n",
    "#path = f'comparison/seed={ds}_sigma={sigma}_alpha={alpha}_dt={dt}'\n",
    "#os.makedirs(path, exist_ok=True)\n",
    "leaves.to_csv(f'{outputpath}/leaves.csv')\n",
    "flat_true_tree_df = pd.DataFrame(flat_true_tree)\n",
    "flat_true_tree_df.to_csv(f'{outputpath}/flat_true_tree.csv', index=False)"
   ]
  },
  {
   "cell_type": "code",
   "execution_count": null,
   "id": "08878809",
   "metadata": {},
   "outputs": [
    {
     "ename": "",
     "evalue": "",
     "output_type": "error",
     "traceback": [
      "\u001b[1;31mFailed to start the Kernel. \n",
      "\u001b[1;31mUnable to start Kernel 'SPMS (Python 3.13.5)' due to a timeout waiting for the ports to get used. \n",
      "\u001b[1;31mView Jupyter <a href='command:jupyter.viewOutput'>log</a> for further details."
     ]
    }
   ],
   "source": []
  },
  {
   "cell_type": "code",
   "execution_count": null,
   "id": "cb3e4f2b",
   "metadata": {},
   "outputs": [],
   "source": []
  }
 ],
 "metadata": {
  "kernelspec": {
   "display_name": "SPMS",
   "language": "python",
   "name": "python3"
  },
  "language_info": {
   "codemirror_mode": {
    "name": "ipython",
    "version": 3
   },
   "file_extension": ".py",
   "mimetype": "text/x-python",
   "name": "python",
   "nbconvert_exporter": "python",
   "pygments_lexer": "ipython3",
   "version": "3.13.5"
  }
 },
 "nbformat": 4,
 "nbformat_minor": 5
}
