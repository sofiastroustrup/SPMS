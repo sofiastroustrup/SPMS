{
 "cells": [
  {
   "cell_type": "markdown",
   "id": "00fbd805",
   "metadata": {},
   "source": []
  },
  {
   "cell_type": "code",
   "execution_count": 1,
   "id": "0f04bd36",
   "metadata": {},
   "outputs": [],
   "source": [
    "import jax\n",
    "import jax.numpy as jnp\n",
    "from tqdm import tqdm \n",
    "import pandas as pd\n",
    "import wandb\n",
    "#import argparse\n",
    "import scipy\n",
    "import pickle \n",
    "from matplotlib.backends.backend_pdf import PdfPages\n",
    "import matplotlib.backends.backend_pdf as backend_pdf\n",
    "import subprocess\n",
    "import time\n",
    "import glob \n",
    "\n",
    "from bridge_sampling.BFFG import backward_filter, forward_guide, forward_guide_edge, get_logpsi\n",
    "from bridge_sampling.setup_SDEs import Stratonovich_to_Ito, dtsdWsT, dWs\n",
    "from bridge_sampling.noise_kernel import Q12\n",
    "from bridge_sampling.helper_functions import *\n",
    "\n",
    "from mcmc import *\n",
    "import subprocess\n",
    "import time"
   ]
  },
  {
   "cell_type": "code",
   "execution_count": null,
   "id": "b2c5fc23",
   "metadata": {},
   "outputs": [],
   "source": [
    "def run_mcmc_for_all_datasets(experiment_path, \n",
    "                              num_chains=3, \n",
    "                              num_samples=3000, \n",
    "                              dt=0.05, \n",
    "                              lambd=0.95, \n",
    "                              obs_var=0.001, \n",
    "                              rb=2, \n",
    "                              prior_sigma_min=0.0, \n",
    "                              prior_sigma_max=1.0, \n",
    "                              prior_alpha_min=0.0, \n",
    "                              prior_alpha_max=0.01, \n",
    "                              proposal_sigma_tau=0.1, \n",
    "                              proposal_alpha_tau=0.0015, \n",
    "                              use_wandb=True):\n",
    "    \"\"\"Run MCMC for all datasets in the experiment path\"\"\"\n",
    "\n",
    "    \n",
    "    # Get all dataset folders\n",
    "    dataset_folders = glob.glob(f\"{experiment_path}/seed=*\")\n",
    "    \n",
    "    print(f\"Found {len(dataset_folders)} datasets in {experiment_path}\")\n",
    "    \n",
    "    # Loop through each dataset folder\n",
    "    for dataset_folder in dataset_folders:\n",
    "        # Extract the folder name\n",
    "        folder_name = os.path.basename(dataset_folder)\n",
    "        print(f\"\\nProcessing dataset: {folder_name}\")\n",
    "        \n",
    "        # Check if the required file exists\n",
    "        data_file = f\"{dataset_folder}/procrustes_aligned.csv\"\n",
    "        if not os.path.exists(data_file):\n",
    "            print(f\"  Skipping: {data_file} not found\")\n",
    "            continue\n",
    "        \n",
    "        # Generate a random seed for this batch of chains\n",
    "        seed_start = np.random.randint(0, 1000_000_000)\n",
    "        \n",
    "        # Set up output path\n",
    "        output_path = f\"{dataset_folder}/mcmc_seed={seed_start}_N={num_samples}\"\n",
    "        \n",
    "        print(f\"  Starting {num_chains} MCMC chains with seed {seed_start}\")\n",
    "        \n",
    "        # Start MCMC chains in screen sessions\n",
    "        screen_sessions = run_mcmc_in_screens(\n",
    "            num_chains=num_chains,\n",
    "            script_path=\"run_mcmc.py\",\n",
    "            seed_param=\"--seed_mcmc\",\n",
    "            seed_start=seed_start,\n",
    "            screen_prefix=f\"mcmc_{folder_name}\",  # Use unique screen names\n",
    "            script_args={\n",
    "                \"--outputpath\": output_path,\n",
    "                \"--phylopath\": \"../data/chazot_subtree_rounded.nw\",\n",
    "                \"--datapath\": data_file,\n",
    "                \"--dt\": dt,\n",
    "                \"--lambd\": lambd,\n",
    "                \"--obs_var\": obs_var,\n",
    "                \"--rb\": rb,\n",
    "                \"--N\": num_samples,\n",
    "                \"--prior_sigma_min\": prior_sigma_min,\n",
    "                \"--prior_sigma_max\": prior_sigma_max,\n",
    "                \"--prior_alpha_min\": prior_alpha_min,\n",
    "                \"--prior_alpha_max\": prior_alpha_max,\n",
    "                \"--proposal_sigma_tau\": proposal_sigma_tau,\n",
    "                \"--proposal_alpha_tau\": proposal_alpha_tau,\n",
    "                \"--use_wandb\": True\n",
    "            }\n",
    "        )\n",
    "        \n",
    "        print(f\"  Started chains for {folder_name}. Screen sessions: {', '.join(screen_sessions)}\")\n",
    "        \n",
    "        # Optional: Add a delay between datasets to avoid overloading the system\n",
    "        time.sleep(5)\n",
    "    \n",
    "    print(f\"\\nMCMC chains started for all datasets in {experiment_path}\")\n",
    "\n"
   ]
  },
  {
   "cell_type": "code",
   "execution_count": null,
   "id": "e7faa41c",
   "metadata": {},
   "outputs": [],
   "source": [
    "# MCMC settings\n",
    "num_chains = 3\n",
    "num_samples = 5000\n",
    "dt = 0.05\n",
    "lambd = 0.9\n",
    "obs_var = 0.001\n",
    "rb = 2\n",
    "prior_sigma_min = 0.0\n",
    "prior_sigma_max = 1.5\n",
    "prior_alpha_min = 0.0\n",
    "prior_alpha_max = 0.03\n",
    "proposal_sigma_tau = 0.1\n",
    "proposal_alpha_tau = 0.015\n",
    "seed_start = np.random.randint(0,1000_000_000)"
   ]
  },
  {
   "cell_type": "code",
   "execution_count": 4,
   "id": "99e4e07b",
   "metadata": {},
   "outputs": [
    {
     "name": "stdout",
     "output_type": "stream",
     "text": [
      "Found 1 datasets in exp_1_sigma=0.7_alpha=0.025_dt=0.05\n",
      "\n",
      "Processing dataset: seed=121197884\n",
      "  Starting 3 MCMC chains with seed 572716989\n",
      "Starting chain 1 with seed 572716989 in screen 'mcmc_seed=121197884_1'\n",
      "Starting chain 2 with seed 572716990 in screen 'mcmc_seed=121197884_2'\n",
      "Starting chain 3 with seed 572716991 in screen 'mcmc_seed=121197884_3'\n",
      "\n",
      "3 MCMC chains started in separate screen sessions.\n",
      "To attach to a screen session: screen -r <screen_name>\n",
      "To detach from a screen session: Ctrl+A, then D\n",
      "Screen sessions: mcmc_seed=121197884_1, mcmc_seed=121197884_2, mcmc_seed=121197884_3\n",
      "  Started chains for seed=121197884. Screen sessions: mcmc_seed=121197884_1, mcmc_seed=121197884_2, mcmc_seed=121197884_3\n",
      "\n",
      "MCMC chains started for all datasets in exp_1_sigma=0.7_alpha=0.025_dt=0.05\n"
     ]
    }
   ],
   "source": [
    "# Run the function\n",
    "experiment_path = \"exp_1_sigma=0.7_alpha=0.025_dt=0.05\"\n",
    "run_mcmc_for_all_datasets(experiment_path=experiment_path,\n",
    "                          num_chains=num_chains,\n",
    "                          num_samples=num_samples,\n",
    "                          dt=dt,\n",
    "                          lambd=lambd,\n",
    "                          obs_var=obs_var,\n",
    "                          rb=rb,\n",
    "                          prior_sigma_min=prior_sigma_min,\n",
    "                          prior_sigma_max=prior_sigma_max,\n",
    "                          prior_alpha_min=prior_alpha_min,\n",
    "                          prior_alpha_max=prior_alpha_max,\n",
    "                          proposal_sigma_tau=proposal_sigma_tau,\n",
    "                          proposal_alpha_tau=proposal_alpha_tau)    "
   ]
  },
  {
   "cell_type": "markdown",
   "id": "e06c900b",
   "metadata": {},
   "source": [
    "# Visualize results "
   ]
  },
  {
   "cell_type": "code",
   "execution_count": 5,
   "id": "ef546086",
   "metadata": {},
   "outputs": [],
   "source": [
    "import pickle\n",
    "import matplotlib.pyplot as plt\n",
    "import numpy as np\n",
    "import glob\n",
    "import os\n",
    "\n",
    "def load_mcmc_results(filepath_pattern):\n",
    "    \"\"\"\n",
    "    Load MCMC results from pickle files matching the given pattern.\n",
    "    \n",
    "    Args:\n",
    "        filepath_pattern: Pattern to match pickle files (e.g., \"results/chain_*.pkl\")\n",
    "        \n",
    "    Returns:\n",
    "        List of loaded results\n",
    "    \"\"\"\n",
    "    results = []\n",
    "    for filepath in sorted(glob.glob(filepath_pattern)):\n",
    "        print(f\"Loading {filepath}\")\n",
    "        with open(filepath, 'rb') as f:\n",
    "            results.append(pickle.load(f))\n",
    "    return results"
   ]
  },
  {
   "cell_type": "code",
   "execution_count": 6,
   "id": "35f51014",
   "metadata": {},
   "outputs": [
    {
     "data": {
      "text/plain": [
       "0"
      ]
     },
     "execution_count": 6,
     "metadata": {},
     "output_type": "execute_result"
    }
   ],
   "source": [
    "results_path = \"exp_1_sigma=0.7_alpha=0.025_dt=0.05/seed=121197884/mcmc_seed=871636495_N=3000/results_*.pkl\"  # Adjust pattern as needed\n",
    "chain_results = load_mcmc_results(results_path)\n",
    "param_names = [\"sigmas\", \"alphas\"]  # Replace with your actual parameter names\n",
    "len(chain_results)"
   ]
  },
  {
   "cell_type": "code",
   "execution_count": 7,
   "id": "669cd8c3",
   "metadata": {},
   "outputs": [
    {
     "ename": "IndexError",
     "evalue": "list index out of range",
     "output_type": "error",
     "traceback": [
      "\u001b[31m---------------------------------------------------------------------------\u001b[39m",
      "\u001b[31mIndexError\u001b[39m                                Traceback (most recent call last)",
      "\u001b[36mCell\u001b[39m\u001b[36m \u001b[39m\u001b[32mIn[7]\u001b[39m\u001b[32m, line 1\u001b[39m\n\u001b[32m----> \u001b[39m\u001b[32m1\u001b[39m chain_results[\u001b[32m0\u001b[39m][\u001b[33m'\u001b[39m\u001b[33macceptpath\u001b[39m\u001b[33m'\u001b[39m]\n",
      "\u001b[31mIndexError\u001b[39m: list index out of range"
     ]
    }
   ],
   "source": [
    "chain_results[0]['acceptpath']"
   ]
  },
  {
   "cell_type": "code",
   "execution_count": null,
   "id": "08ed5104",
   "metadata": {},
   "outputs": [],
   "source": [
    "[np.mean(result['acceptpath']) for result in chain_results if result is not None]"
   ]
  },
  {
   "cell_type": "code",
   "execution_count": null,
   "id": "84cd4f7b",
   "metadata": {},
   "outputs": [],
   "source": [
    "[plt.plot(chain_results[i]['sigmas']) for i in range(len(chain_results))]"
   ]
  },
  {
   "cell_type": "code",
   "execution_count": null,
   "id": "f9f0cf06",
   "metadata": {},
   "outputs": [],
   "source": [
    "[plt.plot(chain_results[i]['alphas']) for i in range(len(chain_results))]"
   ]
  },
  {
   "cell_type": "code",
   "execution_count": null,
   "id": "88787af7",
   "metadata": {},
   "outputs": [],
   "source": []
  }
 ],
 "metadata": {
  "kernelspec": {
   "display_name": "SPMS",
   "language": "python",
   "name": "python3"
  },
  "language_info": {
   "codemirror_mode": {
    "name": "ipython",
    "version": 3
   },
   "file_extension": ".py",
   "mimetype": "text/x-python",
   "name": "python",
   "nbconvert_exporter": "python",
   "pygments_lexer": "ipython3",
   "version": "3.13.5"
  }
 },
 "nbformat": 4,
 "nbformat_minor": 5
}
