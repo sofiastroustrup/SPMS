{
 "cells": [
  {
   "cell_type": "code",
   "execution_count": 1,
   "id": "0f04bd36",
   "metadata": {},
   "outputs": [],
   "source": [
    "from physhapes.helper_functions import *\n",
    "from physhapes.mcmc import * \n",
    "\n",
    "import numpy as np\n"
   ]
  },
  {
   "cell_type": "code",
   "execution_count": 3,
   "id": "e7faa41c",
   "metadata": {},
   "outputs": [],
   "source": [
    "# MCMC settings\n",
    "num_chains = 3\n",
    "num_samples = 3000\n",
    "dt = 0.05\n",
    "lambd = 0.9\n",
    "obs_var = 0.0001\n",
    "rb = 1\n",
    "prior_sigma_min = 0.0\n",
    "prior_sigma_max = 1.0\n",
    "prior_alpha_min = 0.0\n",
    "prior_alpha_max = 0.05\n",
    "proposal_sigma_tau = 0.1\n",
    "proposal_alpha_tau = 0.005\n",
    "#seed_start = np.random.randint(0,1000_000_000)\n",
    "n = 20\n",
    "d = 2\n",
    "\n",
    "# high level names \n",
    "experiment_path = \"exp_2_sigma=0.7_alpha=0.025_dt=0.05/seed=905103247\"\n",
    "datapath = experiment_path + \"/procrustes_aligned.csv\"\n",
    "phylo_path = \"../data/chazot_subtree_rounded.nw\"\n",
    "sub_id = str(np.random.randint(0, 1000_000_000))"
   ]
  },
  {
   "cell_type": "code",
   "execution_count": 4,
   "id": "0039162a",
   "metadata": {},
   "outputs": [],
   "source": [
    "#with open (f'{sub_id}.sh', 'w') as rsh:\n",
    "#    rsh.write(f'''#!/bin/bash\n",
    "\n",
    "#for i in $(seq 1 {num_chains}); do\n",
    "#  screen -md -S {sub_id}_chain=$i python run_mcmc.py --outputpath {experiment_path}/mcmc/id={sub_id} --phylopath {phylo_path} --datapath {datapath} --prior_sigma_min {prior_sigma_min} --prior_sigma_max {prior_sigma_max} --prior_alpha_min {prior_alpha_min} --prior_alpha_max {prior_alpha_max} --proposal_sigma_tau {proposal_sigma_tau} --proposal_alpha_tau {proposal_alpha_tau} --rb {rb} --obs_var {obs_var} --lambd {lambd} --dt {dt} --n {n} --d {d} --N {num_samples} --use_wandb True --wandb_project \"SPMS_MCMC\"\n",
    "#done\n",
    "#'''\n",
    "#    )"
   ]
  },
  {
   "cell_type": "code",
   "execution_count": 5,
   "id": "b614278a",
   "metadata": {},
   "outputs": [],
   "source": [
    "def create_mcmc_screen_script(experiment_path=None, datapath=None, phylo_path=None, num_chains=3, \n",
    "                              num_samples=3000, dt=0.05, lambd=0.7, obs_var=0.001, rb=2,\n",
    "                              prior_sigma_min=0.0, prior_sigma_max=2.5,\n",
    "                              prior_alpha_min=0.0, prior_alpha_max=0.03,\n",
    "                              proposal_sigma_tau=0.2, proposal_alpha_tau=0.005,\n",
    "                              n=20, d=2):\n",
    "    \"\"\"Creates a bash script to run MCMC chains in separate screen sessions.\"\"\"\n",
    "    \n",
    "    script_name = f'screen_{sub_id}.sh'\n",
    "    output_path = f\"{experiment_path}/mcmc/id={sub_id}\"\n",
    "    \n",
    "    with open(script_name, 'w') as rsh:\n",
    "        rsh.write(f'''#!/bin/bash\n",
    "# Make output directory\n",
    "mkdir -p {output_path}\n",
    "for i in $(seq 1 {num_chains}); do\n",
    "  screen -md -S {sub_id}_chain=$i python run_mcmc.py --outputpath {output_path} --phylopath {phylo_path} --datapath {datapath} --prior_sigma_min {prior_sigma_min} --prior_sigma_max {prior_sigma_max} --prior_alpha_min {prior_alpha_min} --prior_alpha_max {prior_alpha_max} --proposal_sigma_tau {proposal_sigma_tau} --proposal_alpha_tau {proposal_alpha_tau} --rb {rb} --obs_var {obs_var} --lambd {lambd} --dt {dt} --n {n} --d {d} --N {num_samples} --use_wandb True --wandb_project \"SPMS_MCMC\"\n",
    "done\n",
    "''')\n",
    "    \n",
    "    # Make script executable\n",
    "    import os\n",
    "    os.chmod(script_name, 0o755)\n",
    "    \n",
    "    print(f\"Created MCMC screen script: {script_name}\")\n",
    "    return script_name"
   ]
  },
  {
   "cell_type": "code",
   "execution_count": 6,
   "id": "a1b79735",
   "metadata": {},
   "outputs": [
    {
     "name": "stdout",
     "output_type": "stream",
     "text": [
      "Created MCMC screen script: screen_292436538.sh\n",
      "bash screen_292436538.sh\n"
     ]
    }
   ],
   "source": [
    "script = create_mcmc_screen_script(\n",
    "    experiment_path=experiment_path,\n",
    "    datapath=datapath,\n",
    "    phylo_path=phylo_path,\n",
    "    num_chains=num_chains,\n",
    "    num_samples=num_samples,\n",
    "    dt=dt,\n",
    "    lambd=lambd,\n",
    "    obs_var=obs_var,\n",
    "    rb=rb,\n",
    "    prior_sigma_min=prior_sigma_min,\n",
    "    prior_sigma_max=prior_sigma_max,\n",
    "    prior_alpha_min=prior_alpha_min,\n",
    "    prior_alpha_max=prior_alpha_max,\n",
    "    proposal_sigma_tau=proposal_sigma_tau,\n",
    "    proposal_alpha_tau=proposal_alpha_tau,\n",
    "    n=n,\n",
    "    d=d\n",
    ")\n",
    "\n",
    "print(f\"bash {script}\")"
   ]
  },
  {
   "cell_type": "markdown",
   "id": "9aa24203",
   "metadata": {},
   "source": []
  },
  {
   "cell_type": "code",
   "execution_count": null,
   "id": "6404b099",
   "metadata": {},
   "outputs": [],
   "source": []
  },
  {
   "cell_type": "code",
   "execution_count": null,
   "id": "bf520368",
   "metadata": {},
   "outputs": [],
   "source": []
  },
  {
   "cell_type": "code",
   "execution_count": null,
   "id": "2460b002",
   "metadata": {},
   "outputs": [],
   "source": [
    "# Create the GNU parallel script with all your parameters\n",
    "script = create_mcmc_parallel_script(\n",
    "    experiment_path=experiment_path,\n",
    "    datapath=datapath,\n",
    "    phylo_path=phylo_path,\n",
    "    num_chains=num_chains,\n",
    "    num_samples=num_samples,\n",
    "    dt=dt,\n",
    "    lambd=lambd,\n",
    "    obs_var=obs_var,\n",
    "    rb=rb,\n",
    "    prior_sigma_min=prior_sigma_min,\n",
    "    prior_sigma_max=prior_sigma_max,\n",
    "    prior_alpha_min=prior_alpha_min,\n",
    "    prior_alpha_max=prior_alpha_max,\n",
    "    proposal_sigma_tau=proposal_sigma_tau,\n",
    "    proposal_alpha_tau=proposal_alpha_tau,\n",
    "    n=n,\n",
    "    d=d\n",
    ")\n",
    "\n",
    "print(f\"bash {script}\")\n",
    "# Execute the script\n",
    "#subprocess.run(f\"bash {script}\", shell=True)"
   ]
  },
  {
   "cell_type": "code",
   "execution_count": null,
   "id": "207bdde6",
   "metadata": {},
   "outputs": [],
   "source": [
    "#script_path = create_parallel_script(experiment_path)\n",
    "# Execute the script as a subprocess\n",
    "#subprocess.run(f\"bash {script_path}\", shell=True)"
   ]
  },
  {
   "cell_type": "code",
   "execution_count": null,
   "id": "ef546086",
   "metadata": {},
   "outputs": [],
   "source": [
    "def create_mcmc_parallel_script(experiment_path=None, datapath=None, phylo_path=None, num_chains=3, \n",
    "                              num_samples=3000, dt=0.05, lambd=0.7, obs_var=0.001, rb=2,\n",
    "                              prior_sigma_min=0.0, prior_sigma_max=2.5,\n",
    "                              prior_alpha_min=0.0, prior_alpha_max=0.03,\n",
    "                              proposal_sigma_tau=0.2, proposal_alpha_tau=0.005,\n",
    "                              n=20, d=2):\n",
    "    \"\"\"Creates a bash script to run MCMC using GNU parallel.\"\"\"\n",
    "    \n",
    "    script_name = f'mcmc_parallel_{sub_id}.sh'\n",
    "    output_path = f\"{experiment_path}/mcmc/parallel_{sub_id}\"\n",
    "    \n",
    "    with open(script_name, 'w') as rsh:\n",
    "        rsh.write(f'''#!/bin/bash\n",
    "\n",
    "# Set environment variables to control JAX\n",
    "export XLA_PYTHON_CLIENT_MEM_FRACTION=0.2\n",
    "export JAX_PLATFORM_NAME=cpu\n",
    "# Add these important thread control variables\n",
    "export XLA_FLAGS=\"--xla_cpu_multi_thread_eigen=false\"\n",
    "export JAX_DISABLE_JIT=0\n",
    "export TF_CPP_MIN_LOG_LEVEL=3\n",
    "export CUDA_VISIBLE_DEVICES=\"\"\n",
    "# Limit threads per process\n",
    "export OMP_NUM_THREADS=1\n",
    "export MKL_NUM_THREADS=1\n",
    "export NUMEXPR_NUM_THREADS=1\n",
    "\n",
    "# Make output directory\n",
    "mkdir -p {output_path}\n",
    "\n",
    "# Run chains in parallel with explicit chain numbers\n",
    "parallel --memsuspend 5G -j3 --delay 5 --env XLA_FLAGS,JAX_DISABLE_JIT,TF_CPP_MIN_LOG_LEVEL,OMP_NUM_THREADS,XLA_PYTHON_CLIENT_MEM_FRACTION,JAX_PLATFORM_NAME '\n",
    "  CHAIN_NUM={{}}\n",
    "  echo \"Running chain $CHAIN_NUM with seed $CHAIN_SEED\"\n",
    "  python run_mcmc.py \\\\ \n",
    "    --outputpath \"{output_path}\" \\\\\n",
    "    --phylopath \"{phylo_path}\" \\\\\n",
    "    --datapath \"{datapath}\" \\\\\n",
    "    --dt {dt} \\\\\n",
    "    --lambd {lambd} \\\\\n",
    "    --obs_var {obs_var} \\\\\n",
    "    --rb {rb} \\\\\n",
    "    --n {n} \\\\\n",
    "    --d {d} \\\\\n",
    "    --N {num_samples} \\\\\n",
    "    --prior_sigma_min {prior_sigma_min} \\\\\n",
    "    --prior_sigma_max {prior_sigma_max} \\\\\n",
    "    --prior_alpha_min {prior_alpha_min} \\\\\n",
    "    --prior_alpha_max {prior_alpha_max} \\\\\n",
    "    --proposal_sigma_tau {proposal_sigma_tau} \\\\\n",
    "    --proposal_alpha_tau {proposal_alpha_tau} \\\\\n",
    "    --use_wandb True \\\\\n",
    "    --wandb_project \"SPMS_MCMC\"\n",
    "' ::: $(seq 1 {num_chains})\n",
    "''')\n",
    "    \n",
    "    # Make script executable\n",
    "    import os\n",
    "    os.chmod(script_name, 0o755)\n",
    "    \n",
    "    print(f\"Created MCMC parallel script: {script_name}\")\n",
    "    return script_name"
   ]
  },
  {
   "cell_type": "code",
   "execution_count": null,
   "id": "85460a37",
   "metadata": {},
   "outputs": [],
   "source": []
  },
  {
   "cell_type": "code",
   "execution_count": null,
   "id": "e1fa1c0e",
   "metadata": {},
   "outputs": [],
   "source": []
  },
  {
   "cell_type": "code",
   "execution_count": null,
   "id": "35f51014",
   "metadata": {},
   "outputs": [],
   "source": []
  },
  {
   "cell_type": "code",
   "execution_count": null,
   "id": "f5e4e20c",
   "metadata": {},
   "outputs": [],
   "source": []
  },
  {
   "cell_type": "code",
   "execution_count": null,
   "id": "4b379d9f",
   "metadata": {},
   "outputs": [],
   "source": []
  },
  {
   "cell_type": "code",
   "execution_count": null,
   "id": "58ca7a21",
   "metadata": {},
   "outputs": [],
   "source": []
  },
  {
   "cell_type": "code",
   "execution_count": null,
   "id": "08ed5104",
   "metadata": {},
   "outputs": [],
   "source": []
  },
  {
   "cell_type": "code",
   "execution_count": null,
   "id": "25f922fc",
   "metadata": {},
   "outputs": [],
   "source": []
  },
  {
   "cell_type": "code",
   "execution_count": null,
   "id": "ed1ad862",
   "metadata": {},
   "outputs": [],
   "source": []
  },
  {
   "cell_type": "code",
   "execution_count": null,
   "id": "7fab4365",
   "metadata": {},
   "outputs": [],
   "source": []
  },
  {
   "cell_type": "code",
   "execution_count": null,
   "id": "5cc8cf91",
   "metadata": {},
   "outputs": [],
   "source": []
  }
 ],
 "metadata": {
  "kernelspec": {
   "display_name": "SPMS",
   "language": "python",
   "name": "python3"
  },
  "language_info": {
   "codemirror_mode": {
    "name": "ipython",
    "version": 3
   },
   "file_extension": ".py",
   "mimetype": "text/x-python",
   "name": "python",
   "nbconvert_exporter": "python",
   "pygments_lexer": "ipython3",
   "version": "3.13.5"
  }
 },
 "nbformat": 4,
 "nbformat_minor": 5
}
