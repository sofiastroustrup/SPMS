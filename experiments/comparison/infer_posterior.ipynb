{
 "cells": [
  {
   "cell_type": "markdown",
   "id": "00fbd805",
   "metadata": {},
   "source": []
  },
  {
   "cell_type": "code",
   "execution_count": 1,
   "id": "0f04bd36",
   "metadata": {},
   "outputs": [],
   "source": [
    "import jax\n",
    "import jax.numpy as jnp\n",
    "from tqdm import tqdm \n",
    "import pandas as pd\n",
    "import wandb\n",
    "#import argparse\n",
    "import scipy\n",
    "import pickle \n",
    "from matplotlib.backends.backend_pdf import PdfPages\n",
    "import matplotlib.backends.backend_pdf as backend_pdf\n",
    "import subprocess\n",
    "import time\n",
    "\n",
    "from bridge_sampling.BFFG import backward_filter, forward_guide, forward_guide_edge, get_logpsi\n",
    "from bridge_sampling.setup_SDEs import Stratonovich_to_Ito, dtsdWsT, dWs\n",
    "from bridge_sampling.noise_kernel import Q12\n",
    "from bridge_sampling.helper_functions import *\n",
    "\n",
    "from mcmc import *\n",
    "import subprocess\n",
    "import time"
   ]
  },
  {
   "cell_type": "code",
   "execution_count": 10,
   "id": "e7faa41c",
   "metadata": {},
   "outputs": [],
   "source": [
    "# MCMC settings\n",
    "num_chains = 3\n",
    "num_samples = 3000\n",
    "dt = 0.05\n",
    "lambd = 0.98\n",
    "obs_var = 0.001\n",
    "rb = 1\n",
    "prior_sigma_min = 0.1\n",
    "prior_sigma_max = 1.0\n",
    "prior_alpha_min = 0.00001\n",
    "prior_alpha_max = 0.01\n",
    "proposal_sigma_tau = 0.002\n",
    "proposal_alpha_tau = 0.002\n",
    "seed_start = np.random.randint(0,1000_000_000)"
   ]
  },
  {
   "cell_type": "code",
   "execution_count": 11,
   "id": "5a24209e",
   "metadata": {},
   "outputs": [
    {
     "name": "stdout",
     "output_type": "stream",
     "text": [
      "Starting chain 1 with seed 128917087 in screen 'mcmc_chain_1'\n",
      "Starting chain 2 with seed 128917088 in screen 'mcmc_chain_2'\n",
      "Starting chain 3 with seed 128917089 in screen 'mcmc_chain_3'\n",
      "\n",
      "3 MCMC chains started in separate screen sessions.\n",
      "To attach to a screen session: screen -r <screen_name>\n",
      "To detach from a screen session: Ctrl+A, then D\n",
      "Screen sessions: mcmc_chain_1, mcmc_chain_2, mcmc_chain_3\n"
     ]
    }
   ],
   "source": [
    "screen_sessions = run_mcmc_in_screens(\n",
    "        num_chains=3,\n",
    "        script_path=\"run_mcmc.py\",\n",
    "        seed_param=\"--seed_mcmc\",  # Adjust according to your script's parameters\n",
    "        seed_start=seed_start,  # Starting seed\n",
    "        script_args={\n",
    "        \"--outputpath\": f\"seed=4024352252_sigma=0.6_alpha=0.15_dt=0.05/mcmc_seed={seed_start}_N={num_samples}_dt={dt}_lambd={lambd}_obs_var={obs_var}_rb={rb}_prior_sigma_min={prior_sigma_min}_prior_sigma_max={prior_sigma_max}_prior_alpha_min={prior_alpha_min}_prior_alpha_max={prior_alpha_max}_proposal_sigma_tau={proposal_sigma_tau}_proposal_alpha_tau={proposal_alpha_tau}\",\n",
    "        \"--phylopath\": \"../data/chazot_subtree_rounded.nw\",\n",
    "        \"--datapath\": \"seed=4024352252_sigma=0.6_alpha=0.15_dt=0.05/procrustes_aligned.csv\",\n",
    "        \"--dt\": dt,\n",
    "        \"--lambd\": lambd,\n",
    "        \"--obs_var\": obs_var,\n",
    "        \"--rb\": rb,\n",
    "        \"--N\": num_samples,\n",
    "        \"--prior_sigma_min\": prior_sigma_min,\n",
    "        \"--prior_sigma_max\": prior_sigma_max,\n",
    "        \"--prior_alpha_min\": prior_alpha_min,\n",
    "        \"--prior_alpha_max\": prior_alpha_max,\n",
    "        \"--proposal_sigma_tau\": proposal_sigma_tau,\n",
    "        \"--proposal_alpha_tau\": proposal_alpha_tau, \n",
    "        #\"--wandb_project\": \"SPMS\",\n",
    "        \"--use_wandb\": True\n",
    "    }\n",
    ")"
   ]
  },
  {
   "cell_type": "markdown",
   "id": "e06c900b",
   "metadata": {},
   "source": [
    "# Visualize results "
   ]
  },
  {
   "cell_type": "code",
   "execution_count": 6,
   "id": "ef546086",
   "metadata": {},
   "outputs": [],
   "source": [
    "import pickle\n",
    "import matplotlib.pyplot as plt\n",
    "import numpy as np\n",
    "import glob\n",
    "import os\n",
    "\n",
    "def load_mcmc_results(filepath_pattern):\n",
    "    \"\"\"\n",
    "    Load MCMC results from pickle files matching the given pattern.\n",
    "    \n",
    "    Args:\n",
    "        filepath_pattern: Pattern to match pickle files (e.g., \"results/chain_*.pkl\")\n",
    "        \n",
    "    Returns:\n",
    "        List of loaded results\n",
    "    \"\"\"\n",
    "    results = []\n",
    "    for filepath in sorted(glob.glob(filepath_pattern)):\n",
    "        print(f\"Loading {filepath}\")\n",
    "        with open(filepath, 'rb') as f:\n",
    "            results.append(pickle.load(f))\n",
    "    return results"
   ]
  },
  {
   "cell_type": "code",
   "execution_count": 7,
   "id": "35f51014",
   "metadata": {},
   "outputs": [
    {
     "name": "stdout",
     "output_type": "stream",
     "text": [
      "Loading seed=4024352252_sigma=0.6_alpha=0.15_dt=0.05/mcmc/results_chain=629788080.pkl\n",
      "Loading seed=4024352252_sigma=0.6_alpha=0.15_dt=0.05/mcmc/results_chain=629788081.pkl\n",
      "Loading seed=4024352252_sigma=0.6_alpha=0.15_dt=0.05/mcmc/results_chain=629788082.pkl\n"
     ]
    },
    {
     "data": {
      "text/plain": [
       "3"
      ]
     },
     "execution_count": 7,
     "metadata": {},
     "output_type": "execute_result"
    }
   ],
   "source": [
    "results_path = \"seed=4024352252_sigma=0.6_alpha=0.15_dt=0.05/mcmc/results_*.pkl\"  # Adjust pattern as needed\n",
    "chain_results = load_mcmc_results(results_path)\n",
    "param_names = [\"sigmas\", \"alphas\"]  # Replace with your actual parameter names\n",
    "len(chain_results)"
   ]
  },
  {
   "cell_type": "code",
   "execution_count": 11,
   "id": "669cd8c3",
   "metadata": {},
   "outputs": [
    {
     "data": {
      "text/plain": [
       "array([1., 0., 0., ..., 0., 1., 0.], shape=(3001,))"
      ]
     },
     "execution_count": 11,
     "metadata": {},
     "output_type": "execute_result"
    }
   ],
   "source": [
    "chain_results[0]['acceptpath']"
   ]
  },
  {
   "cell_type": "code",
   "execution_count": 12,
   "id": "08ed5104",
   "metadata": {},
   "outputs": [
    {
     "data": {
      "text/plain": [
       "[np.float64(0.6144618460513163),\n",
       " np.float64(0.003998667110963012),\n",
       " np.float64(0.01166277907364212)]"
      ]
     },
     "execution_count": 12,
     "metadata": {},
     "output_type": "execute_result"
    }
   ],
   "source": [
    "[np.mean(result['acceptpath']) for result in chain_results if result is not None]"
   ]
  },
  {
   "cell_type": "code",
   "execution_count": 8,
   "id": "84cd4f7b",
   "metadata": {},
   "outputs": [
    {
     "data": {
      "text/plain": [
       "[[<matplotlib.lines.Line2D at 0x14edb9310>],\n",
       " [<matplotlib.lines.Line2D at 0x14ee59590>],\n",
       " [<matplotlib.lines.Line2D at 0x14ee596d0>]]"
      ]
     },
     "execution_count": 8,
     "metadata": {},
     "output_type": "execute_result"
    },
    {
     "data": {
      "image/png": "[encoded data removed]",
      "text/plain": [
       "<Figure size 640x480 with 1 Axes>"
      ]
     },
     "metadata": {},
     "output_type": "display_data"
    }
   ],
   "source": [
    "[plt.plot(chain_results[i]['sigmas']) for i in range(len(chain_results))]"
   ]
  },
  {
   "cell_type": "code",
   "execution_count": 9,
   "id": "f9f0cf06",
   "metadata": {},
   "outputs": [
    {
     "data": {
      "text/plain": [
       "[[<matplotlib.lines.Line2D at 0x14ef25450>],\n",
       " [<matplotlib.lines.Line2D at 0x14ef25590>],\n",
       " [<matplotlib.lines.Line2D at 0x14ef256d0>]]"
      ]
     },
     "execution_count": 9,
     "metadata": {},
     "output_type": "execute_result"
    },
    {
     "data": {
      "image/png": "[encoded data removed]",
      "text/plain": [
       "<Figure size 640x480 with 1 Axes>"
      ]
     },
     "metadata": {},
     "output_type": "display_data"
    }
   ],
   "source": [
    "[plt.plot(chain_results[i]['alphas']) for i in range(len(chain_results))]"
   ]
  },
  {
   "cell_type": "code",
   "execution_count": null,
   "id": "88787af7",
   "metadata": {},
   "outputs": [],
   "source": []
  },
  {
   "cell_type": "code",
   "execution_count": 8,
   "id": "1707c226",
   "metadata": {},
   "outputs": [
    {
     "ename": "NameError",
     "evalue": "name 'plot_parameter_traces' is not defined",
     "output_type": "error",
     "traceback": [
      "\u001b[31m---------------------------------------------------------------------------\u001b[39m",
      "\u001b[31mNameError\u001b[39m                                 Traceback (most recent call last)",
      "\u001b[36mCell\u001b[39m\u001b[36m \u001b[39m\u001b[32mIn[8]\u001b[39m\u001b[32m, line 13\u001b[39m\n\u001b[32m     10\u001b[39m param_names = [\u001b[33m\"\u001b[39m\u001b[33msigma\u001b[39m\u001b[33m\"\u001b[39m, \u001b[33m\"\u001b[39m\u001b[33malpha\u001b[39m\u001b[33m\"\u001b[39m]  \u001b[38;5;66;03m# Replace with your actual parameter names\u001b[39;00m\n\u001b[32m     12\u001b[39m \u001b[38;5;66;03m# Plot traces and save\u001b[39;00m\n\u001b[32m---> \u001b[39m\u001b[32m13\u001b[39m fig, axes = plot_parameter_traces(chain_results, param_names)\n\u001b[32m     14\u001b[39m plt.savefig(\u001b[33m\"\u001b[39m\u001b[33mparameter_traces.pdf\u001b[39m\u001b[33m\"\u001b[39m)\n\u001b[32m     16\u001b[39m \u001b[38;5;66;03m# Plot convergence diagnostics and save\u001b[39;00m\n",
      "\u001b[31mNameError\u001b[39m: name 'plot_parameter_traces' is not defined"
     ]
    }
   ],
   "source": [
    "# Example usage\n",
    "if __name__ == \"__main__\":\n",
    "    # Path to your MCMC results\n",
    "    results_path = \"results/mcmc_*.pkl\"  # Adjust pattern as needed\n",
    "    \n",
    "    # Load results\n",
    "    chain_results = load_mcmc_results(results_path)\n",
    "    \n",
    "    # Define parameter names (customize for your model)\n",
    "    param_names = [\"sigma\", \"alpha\"]  # Replace with your actual parameter names\n",
    "    \n",
    "    # Plot traces and save\n",
    "    fig, axes = plot_parameter_traces(chain_results, param_names)\n",
    "    plt.savefig(\"parameter_traces.pdf\")\n",
    "    \n",
    "    # Plot convergence diagnostics and save\n",
    "    fig2, axes2 = plot_convergence_diagnostics(chain_results, param_names)\n",
    "    plt.savefig(\"convergence_diagnostics.pdf\")\n",
    "    \n",
    "    # Show plots\n",
    "    plt.show()"
   ]
  }
 ],
 "metadata": {
  "kernelspec": {
   "display_name": "SPMS",
   "language": "python",
   "name": "python3"
  },
  "language_info": {
   "codemirror_mode": {
    "name": "ipython",
    "version": 3
   },
   "file_extension": ".py",
   "mimetype": "text/x-python",
   "name": "python",
   "nbconvert_exporter": "python",
   "pygments_lexer": "ipython3",
   "version": "3.13.5"
  }
 },
 "nbformat": 4,
 "nbformat_minor": 5
}
