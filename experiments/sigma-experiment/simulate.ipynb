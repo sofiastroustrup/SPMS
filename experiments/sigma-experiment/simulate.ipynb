{
 "cells": [
  {
   "cell_type": "code",
   "execution_count": 1,
   "id": "548d9100",
   "metadata": {},
   "outputs": [],
   "source": [
    "import numpy as np\n",
    "from ete3 import Tree\n",
    "import os \n",
    "\n",
    "import matplotlib.pyplot as plt\n",
    "from physhapes.simulate import simulate_shapes\n"
   ]
  },
  {
   "cell_type": "code",
   "execution_count": 2,
   "id": "88607bc7",
   "metadata": {},
   "outputs": [],
   "source": [
    "def get_flat_values_sim(tree):\n",
    "    '''function for getting flat values from simulated tree, level order traversal '''\n",
    "    _,_,vals, children = tree\n",
    "    values_flat = [vals[-1]]\n",
    "    queue = [children[i] for i in range(len(children))]\n",
    "    while len(queue)>0: \n",
    "        _,_,vals, children = queue.pop(0)\n",
    "        values_flat.append(vals[-1])\n",
    "        if len(children)>0:\n",
    "            [queue.append(children[i]) for i in range(len(children))]\n",
    "    return(np.array(values_flat))"
   ]
  },
  {
   "cell_type": "code",
   "execution_count": 3,
   "id": "11d557d5",
   "metadata": {},
   "outputs": [],
   "source": [
    "tree = Tree(\"(leaf1:1,leaf2:1,leaf3:1,leaf4:1,leaf5:1,leaf6:1,leaf7:1,leaf8:1,leaf9:1,leaf10:1,leaf11:1,leaf12:1,leaf13:1,leaf14:1,leaf15:1,leaf16:1,leaf17:1,leaf18:1,leaf19:1,leaf20:1,leaf21:1,leaf22:1,leaf23:1,leaf24:1,leaf25:1,leaf26:1,leaf27:1,leaf28:1,leaf29:1,leaf30:1,leaf31:1,leaf32:1,leaf33:1,leaf34:1,leaf35:1,leaf36:1,leaf37:1,leaf38:1,leaf39:1,leaf40:1,leaf41:1,leaf42:1,leaf43:1,leaf44:1,leaf45:1,leaf46:1,leaf47:1,leaf48:1,leaf49:1,leaf50:1,leaf51:1,leaf52:1,leaf53:1,leaf54:1,leaf55:1,leaf56:1,leaf57:1,leaf58:1,leaf59:1,leaf60:1,leaf61:1,leaf62:1,leaf63:1,leaf64:1,leaf65:1,leaf66:1,leaf67:1,leaf68:1,leaf69:1,leaf70:1,leaf71:1,leaf72:1,leaf73:1,leaf74:1,leaf75:1,leaf76:1,leaf77:1,leaf78:1,leaf79:1,leaf80:1,leaf81:1,leaf82:1,leaf83:1,leaf84:1,leaf85:1,leaf86:1,leaf87:1,leaf88:1,leaf89:1,leaf90:1,leaf91:1,leaf92:1,leaf93:1,leaf94:1,leaf95:1,leaf96:1,leaf97:1,leaf98:1,leaf99:1,leaf100:1);\")\n"
   ]
  },
  {
   "cell_type": "code",
   "execution_count": 4,
   "id": "d6ddfe68",
   "metadata": {},
   "outputs": [
    {
     "name": "stdout",
     "output_type": "stream",
     "text": [
      "[0.5, 0.55, 0.6000000000000001, 0.6500000000000001, 0.7000000000000002, 0.7500000000000002, 0.8000000000000003, 0.8500000000000003, 0.9000000000000004, 0.9500000000000004, 1.0000000000000004, 1.0500000000000005, 1.1000000000000005, 1.1500000000000006, 1.2000000000000006, 1.2500000000000007]\n"
     ]
    }
   ],
   "source": [
    "# settings for simulation\n",
    "sigmas = np.arange(0.5, 1.3, 0.05).tolist()\n",
    "print(sigmas)\n",
    "alpha = 0.05\n",
    "n_dataset = 50 \n",
    "dt = 0.05\n",
    "root = np.loadtxt(\"../data/hercules_forewing_n=20.csv\", delimiter=\",\")"
   ]
  },
  {
   "cell_type": "code",
   "execution_count": 5,
   "id": "fa8de557",
   "metadata": {},
   "outputs": [],
   "source": [
    "for i in range(len(sigmas)):\n",
    "    os.makedirs(f\"sigma={sigmas[i]:.2f}\", exist_ok=True)\n",
    "    for j in range(n_dataset):\n",
    "        ds = np.random.randint(0, 1_000_000_000_000)\n",
    "        simdata = simulate_shapes(ds=ds, dt=dt, sigma=sigmas[i], alpha=alpha, root=root, tree=tree, rb=0)\n",
    "        flat_simdata = np.array(get_flat_values_sim(simdata))[1::, :]\n",
    "        np.savetxt(f\"sigma={sigmas[i]:.2f}/simdata_sigma={sigmas[i]:.2f}_ds={ds}.csv\", flat_simdata, delimiter=\",\")"
   ]
  },
  {
   "cell_type": "code",
   "execution_count": null,
   "id": "d46e3ba9",
   "metadata": {},
   "outputs": [],
   "source": []
  },
  {
   "cell_type": "code",
   "execution_count": null,
   "id": "8ef45742",
   "metadata": {},
   "outputs": [],
   "source": []
  }
 ],
 "metadata": {
  "kernelspec": {
   "display_name": "SPMS",
   "language": "python",
   "name": "python3"
  },
  "language_info": {
   "codemirror_mode": {
    "name": "ipython",
    "version": 3
   },
   "file_extension": ".py",
   "mimetype": "text/x-python",
   "name": "python",
   "nbconvert_exporter": "python",
   "pygments_lexer": "ipython3",
   "version": "3.13.5"
  }
 },
 "nbformat": 4,
 "nbformat_minor": 5
}
