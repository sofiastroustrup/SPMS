{
 "cells": [
  {
   "cell_type": "code",
   "execution_count": 1,
   "metadata": {},
   "outputs": [],
   "source": [
    "import subprocess"
   ]
  },
  {
   "cell_type": "markdown",
   "metadata": {},
   "source": [
    "# Simulation study \n",
    "In this notebook we show the pipeline for carrying out the simulation study presented in Section 4.3. \n",
    "\n",
    "1) Simulate data sets\n",
    "2) Do inference using mcmc algorithm \n",
    "3) Assess convergence "
   ]
  },
  {
   "cell_type": "markdown",
   "metadata": {},
   "source": [
    "##### 0. Define settings for experiment"
   ]
  },
  {
   "cell_type": "code",
   "execution_count": 4,
   "metadata": {},
   "outputs": [],
   "source": [
    "# simulation setup \n",
    "rootpath = 'data/hercules_forewing_n=20.csv'\n",
    "treepath = 'data/chazot_full_tree.nw'\n",
    "outpath = '_simulation-study'\n",
    "sigma_sim = 0.6\n",
    "alpha_sim = 0.01\n",
    "gamma = 0\n",
    "n_datasets = 1\n",
    "dt = 0.05\n",
    "sti=1\n",
    "\n",
    "# MCMC setup\n",
    "tau_sigma = 0.07\n",
    "tau_alpha = 0.003\n",
    "prior_sigma = (0.4, 1.0)\n",
    "prior_alpha = (0, 0.03)\n",
    "n_iter = 10 # in the paper we use 6000\n",
    "lambd = 0.97\n",
    "ls = 5 # super root branch length \n",
    "gamma_mcmc = 0.002\n",
    "x_s ='phylomean' "
   ]
  },
  {
   "cell_type": "markdown",
   "metadata": {},
   "source": [
    "##### 1. Simulate data set"
   ]
  },
  {
   "cell_type": "code",
   "execution_count": 5,
   "metadata": {},
   "outputs": [
    {
     "name": "stdout",
     "output_type": "stream",
     "text": [
      "Intel MKL WARNING: Support of Intel(R) Streaming SIMD Extensions 4.2 (Intel(R) SSE4.2) enabled only processors has been deprecated. Intel oneAPI Math Kernel Library 2025.0 will require Intel(R) Advanced Vector Extensions (Intel(R) AVX) instructions.\n",
      "Intel MKL WARNING: Support of Intel(R) Streaming SIMD Extensions 4.2 (Intel(R) SSE4.2) enabled only processors has been deprecated. Intel oneAPI Math Kernel Library 2025.0 will require Intel(R) Advanced Vector Extensions (Intel(R) AVX) instructions.\n",
      "!! no data seed given\n",
      "simulation seed: 7126186253058767\n"
     ]
    },
    {
     "name": "stderr",
     "output_type": "stream",
     "text": [
      "here() starts at /Users/lkn315/Documents/stoch_phyl_mod_shape\n"
     ]
    },
    {
     "name": "stdout",
     "output_type": "stream",
     "text": [
      "> args <- commandArgs(trailingOnly = TRUE)\n",
      "> \n",
      "> # do what we want \n",
      "> tree = read.tree(paste(args[1], '.nw', sep=''))\n",
      "> vcv_ = vcv(tree)\n",
      "> write.table(vcv_, file=paste(args[1],'_vcv.csv', sep=''), row.names=F, col.names=F)\n",
      "> \n"
     ]
    },
    {
     "data": {
      "text/plain": [
       "CompletedProcess(args=['python', 'simulate_data.py', '-dt', '0.05', '-a', '0.01', '-s', '0.6', '-ov', '0', '-root', 'data/hercules_forewing_n=20.csv', '-o', '_simulation-study/simdata', '-simtree', 'data/chazot_full_tree.nw', '-sti', '1', '-rb', '0'], returncode=0)"
      ]
     },
     "execution_count": 5,
     "metadata": {},
     "output_type": "execute_result"
    }
   ],
   "source": [
    "subprocess.run(['python', 'simulate_data.py', \n",
    "                '-dt', f'{dt}',\n",
    "                '-a', f'{alpha_sim}',\n",
    "                '-s', f'{sigma_sim}',\n",
    "                '-ov', f'{gamma}',\n",
    "                '-root', f'{rootpath}',\n",
    "                '-o', f'{outpath}/simdata', \n",
    "                '-simtree', f'{treepath}', \n",
    "                '-sti', f'{sti}', # whether or not do the stratonovich ito corr\n",
    "                '-rb', '0'  \n",
    "                  ])"
   ]
  },
  {
   "cell_type": "markdown",
   "metadata": {},
   "source": [
    "##### 2. Run MCMC to infer posterior \n",
    "\n",
    "We show in the notebook how to run MCMC but in practice we do not run MCMC from a notebook and this is just to give an example of how to run the mcmc.py script.  \n",
    "\n",
    "A few comments regarding the mcmc.py script: \n",
    "\n",
    "Some of the variables in the code are not named in accordance with the paper (see below):\n",
    "- gtheta = sigma \n",
    "- kalpha = alpha \n",
    "- obs_var = gamma \n",
    "- mirrored Gaussian = reflected Gaussian\n",
    "\n",
    "In the paper we update parameters by evaluating $g_s(x_s; \\theta)$ in the code we refer to this as \"logrhorilde\" and not g_s. "
   ]
  },
  {
   "cell_type": "code",
   "execution_count": 6,
   "metadata": {},
   "outputs": [],
   "source": [
    "with open (f'{outpath}.sh', 'w') as rsh:\n",
    "    rsh.write(f'''#!/bin/bash\n",
    "read seed\n",
    "              \n",
    "screen -md -S {outpath} python mcmc.py -N {n_iter} -l {lambd} -dt {dt} -datapath {outpath}/simdata -tau_sigma {tau_sigma} -tau_alpha {tau_alpha} -palpha {prior_alpha[0]} {round(prior_alpha[1]-prior_alpha[0],2)} -psigma {prior_sigma[0]} {round(prior_sigma[1]-prior_sigma[0],2)} -ov {gamma_mcmc} -super_root {x_s} -o {outpath}/runs -ds $seed\n",
    "screen -md -S {outpath} python mcmc.py -N {n_iter} -l {lambd} -dt {dt} -datapath {outpath}/simdata -tau_sigma {tau_sigma} -tau_alpha {tau_alpha} -palpha {prior_alpha[0]} {round(prior_alpha[1]-prior_alpha[0],2)} -psigma {prior_sigma[0]} {round(prior_sigma[1]-prior_sigma[0],2)} -ov {gamma_mcmc} -super_root {x_s} -o {outpath}/runs -ds $seed\n",
    "screen -md -S {outpath} python mcmc.py -N {n_iter} -l {lambd} -dt {dt} -datapath {outpath}/simdata -tau_sigma {tau_sigma} -tau_alpha {tau_alpha} -palpha {prior_alpha[0]} {round(prior_alpha[1]-prior_alpha[0],2)} -psigma {prior_sigma[0]} {round(prior_sigma[1]-prior_sigma[0],2)} -ov {gamma_mcmc} -super_root {x_s} -o {outpath}/runs -ds $seed\n",
    "\n",
    "'''\n",
    "    )"
   ]
  },
  {
   "cell_type": "code",
   "execution_count": null,
   "metadata": {},
   "outputs": [],
   "source": [
    "# bash _simulation-study.sh "
   ]
  },
  {
   "cell_type": "markdown",
   "metadata": {},
   "source": [
    "##### 3. Assess convergence, plot convergence diagnostics and visualize posterior. \n",
    "\n",
    "The posterior plots shown in the paper are produced by running the code below. "
   ]
  },
  {
   "cell_type": "code",
   "execution_count": null,
   "metadata": {},
   "outputs": [],
   "source": [
    "#! ls _simulation-study/runs | while read seed; do python diagnostics.py -folder_runs _simulation-study/runs/$seed -folder_simdata _simulation-study/simdata/$seed -MCMC_iter 10 -burnin 1 -nnodes 59 -simtree data/chazot_full_tree.nw; done "
   ]
  }
 ],
 "metadata": {
  "kernelspec": {
   "display_name": "Python 3",
   "language": "python",
   "name": "python3"
  },
  "language_info": {
   "codemirror_mode": {
    "name": "ipython",
    "version": 3
   },
   "file_extension": ".py",
   "mimetype": "text/x-python",
   "name": "python",
   "nbconvert_exporter": "python",
   "pygments_lexer": "ipython3",
   "version": "3.11.10"
  }
 },
 "nbformat": 4,
 "nbformat_minor": 2
}
