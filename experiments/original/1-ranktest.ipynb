{
 "cells": [
  {
   "cell_type": "code",
   "execution_count": 1,
   "metadata": {},
   "outputs": [],
   "source": [
    "# import packages\n",
    "import os\n",
    "import subprocess\n",
    "import numpy as np\n"
   ]
  },
  {
   "cell_type": "markdown",
   "metadata": {},
   "source": [
    "# Rank test \n",
    "This notebook describes the pipeline for evaluationg of the Metropolis-Hastings algorithm in the paper \"Stochastic phylogenetic models of shape\". \n",
    "\n",
    "When carrying out rank test we do the following: \n",
    "1) Sample kernel parameters from the prior distribution \n",
    "2) For each parameter combination we simulate a data set and add observation noise in order to simulate from the complete model\n",
    "3) For each data set we infer the posterior distribution using our MCMC algorithm. \n",
    "4) We evaluate convergence of the MCMC chains using Gelman-Rubin diagnostics. \n",
    "5) For each dimension of the posterior we compute the rank statistics and plot the distribution of all rank statistics."
   ]
  },
  {
   "cell_type": "code",
   "execution_count": 2,
   "metadata": {},
   "outputs": [],
   "source": [
    "# define ranktest settings\n",
    "directory = '_ranktest'\n",
    "num_datasets = 2\n",
    "\n",
    "if not os.path.isdir(directory): \n",
    "    os.mkdir(directory)\n",
    "\n",
    "# define priors on parameters and variance of the Gaussian noise\n",
    "prior_alpha = (0.0005, 0.03) # min, max\n",
    "prior_sigma = (0.7, 1.3) # min, max\n",
    "\n",
    "# define simulation and MCMC settings \n",
    "dt = 0.05\n",
    "gamma = 0.001 \n",
    "treepath = 'data/chazot_subtree.nw'\n",
    "rootshape = 'data/hercules_forewing_n=20.csv'\n",
    "sti = 1\n",
    "\n",
    "# MCMC settings (variables refer to paper)\n",
    "tau_alpha = 0.005\n",
    "tau_sigma = 0.05\n",
    "n_iter = 100\n",
    "lambd = 0.8\n",
    "burnin = 10 "
   ]
  },
  {
   "cell_type": "markdown",
   "metadata": {},
   "source": [
    "##### 1. Sample kernel parameters from prior"
   ]
  },
  {
   "cell_type": "code",
   "execution_count": 3,
   "metadata": {},
   "outputs": [
    {
     "data": {
      "text/plain": [
       "CompletedProcess(args=['python', 'sample_pars.py', '-n 2', '-palpha', '0.0005', '0.03', '-psigma', '0.7', '1.3', '-o', '_ranktest/'], returncode=0)"
      ]
     },
     "execution_count": 3,
     "metadata": {},
     "output_type": "execute_result"
    }
   ],
   "source": [
    "subprocess.run(['python', 'sample_pars.py', \n",
    "                f'-n {num_datasets}', \n",
    "                '-palpha', f'{prior_alpha[0]}',f'{prior_alpha[1]}',\n",
    "                '-psigma', f'{prior_sigma[0]}',f'{prior_sigma[1]}',\n",
    "                '-o', f'{directory+\"/\"}'\n",
    "                ])"
   ]
  },
  {
   "cell_type": "markdown",
   "metadata": {},
   "source": [
    "##### 2. Simulate a data set for each parameter\n",
    "\n",
    "We can either simulate data sets by running the following bash script in the terminal window (remember to substitute the variables in \"{}\" with the true values of the variables)."
   ]
  },
  {
   "cell_type": "code",
   "execution_count": 4,
   "metadata": {},
   "outputs": [
    {
     "data": {
      "text/plain": [
       "(2, 2)"
      ]
     },
     "execution_count": 4,
     "metadata": {},
     "output_type": "execute_result"
    }
   ],
   "source": [
    "# alternatively we can simulate from this notebook. \n",
    "pars = np.genfromtxt(f'{directory}/alpha:{prior_alpha[0]}-{prior_alpha[1]}_sigma:{prior_sigma[0]}-{prior_sigma[1]}.csv')\n",
    "pars.shape"
   ]
  },
  {
   "cell_type": "code",
   "execution_count": 5,
   "metadata": {},
   "outputs": [
    {
     "name": "stdout",
     "output_type": "stream",
     "text": [
      "!! no data seed given\n",
      "simulation seed: 96716799255318284\n"
     ]
    },
    {
     "name": "stderr",
     "output_type": "stream",
     "text": [
      "here() starts at /Users/lkn315/Documents/stoch_phyl_mod_shape\n"
     ]
    },
    {
     "name": "stdout",
     "output_type": "stream",
     "text": [
      "> args <- commandArgs(trailingOnly = TRUE)\n",
      "> \n",
      "> # do what we want \n",
      "> tree = read.tree(paste(args[1], '.nw', sep=''))\n",
      "> vcv_ = vcv(tree)\n",
      "> write.table(vcv_, file=paste(args[1],'_vcv.csv', sep=''), row.names=F, col.names=F)\n",
      "> \n",
      "!! no data seed given\n",
      "simulation seed: 10581440337633583\n"
     ]
    },
    {
     "name": "stderr",
     "output_type": "stream",
     "text": [
      "here() starts at /Users/lkn315/Documents/stoch_phyl_mod_shape\n"
     ]
    },
    {
     "name": "stdout",
     "output_type": "stream",
     "text": [
      "> args <- commandArgs(trailingOnly = TRUE)\n",
      "> \n",
      "> # do what we want \n",
      "> tree = read.tree(paste(args[1], '.nw', sep=''))\n",
      "> vcv_ = vcv(tree)\n",
      "> write.table(vcv_, file=paste(args[1],'_vcv.csv', sep=''), row.names=F, col.names=F)\n",
      "> \n"
     ]
    }
   ],
   "source": [
    "for i in range(pars.shape[0]):\n",
    "  subprocess.run(['python', 'simulate_data.py', \n",
    "                '-dt', f'{dt}',\n",
    "                '-a', f'{pars[i,0]}',\n",
    "                '-s', f'{pars[i,1]}',\n",
    "                '-ov', f'{gamma}',\n",
    "                '-root', f'{rootshape}',\n",
    "                '-o', f'{directory}/simdata', \n",
    "                '-simtree', f'{treepath}', \n",
    "                '-sti', f'{sti}', # whether or not do the stratonovich ito corr\n",
    "                '-rb', '1'  \n",
    "                  ])"
   ]
  },
  {
   "cell_type": "markdown",
   "metadata": {},
   "source": [
    "##### 3. Run MCMC to get posterior\n",
    "We show in the notebook how to run MCMC but in practice we do not run MCMC from a notebook and this is just to give an example of how to run the mcmc.py script.  \n",
    "\n",
    "A few comments regarding the mcmc.py script: \n",
    "\n",
    "Some of the variables in the code are not named in accordance with the paper (see below):\n",
    "- gtheta = sigma \n",
    "- kalpha = alpha \n",
    "- obs_var = gamma \n",
    "- mirrored Gaussian = reflected Gaussian\n",
    "\n",
    "In the paper we update parameters by evaluating $g_s(x_s; \\theta)$ in the code we refer to this as \"logrhorilde\" and not g_s. As we do not infer the root when doing rank test, super root and root is used interchangeably. \n"
   ]
  },
  {
   "cell_type": "code",
   "execution_count": 6,
   "metadata": {},
   "outputs": [],
   "source": [
    "with open (f'{directory}.sh', 'w') as rsh:\n",
    "    rsh.write(f'''#!/bin/bash\n",
    "read seed\n",
    "              \n",
    "screen -md -S ranktest python mcmc.py -N {n_iter} -l {lambd} -dt {dt} -datapath {directory}/simdata -tau_sigma {tau_sigma} -tau_alpha {tau_alpha} -palpha {prior_alpha[0]} {round(prior_alpha[1]-prior_alpha[0],2)} -psigma {prior_sigma[0]} {round(prior_sigma[1]-prior_sigma[0],2)} -ov {gamma} -super_root {rootshape} -o {directory}/runs -ds $seed\n",
    "screen -md -S ranktest python mcmc.py -N {n_iter} -l {lambd} -dt {dt} -datapath {directory}/simdata -tau_sigma {tau_sigma} -tau_alpha {tau_alpha} -palpha {prior_alpha[0]} {round(prior_alpha[1]-prior_alpha[0],2)} -psigma {prior_sigma[0]} {round(prior_sigma[1]-prior_sigma[0],2)} -ov {gamma} -super_root {rootshape} -o {directory}/runs -ds $seed\n",
    "screen -md -S ranktest python mcmc.py -N {n_iter} -l {lambd} -dt {dt} -datapath {directory}/simdata -tau_sigma {tau_sigma} -tau_alpha {tau_alpha} -palpha {prior_alpha[0]} {round(prior_alpha[1]-prior_alpha[0],2)} -psigma {prior_sigma[0]} {round(prior_sigma[1]-prior_sigma[0],2)} -ov {gamma} -super_root {rootshape} -o {directory}/runs -ds $seed\n",
    "\n",
    "'''\n",
    "    )"
   ]
  },
  {
   "cell_type": "markdown",
   "metadata": {},
   "source": [
    "We submit the script generated above by running the line below in the commandline. "
   ]
  },
  {
   "cell_type": "code",
   "execution_count": null,
   "metadata": {},
   "outputs": [],
   "source": [
    "# ls {directory}/simdata | parallel --memsuspend 5G -j 50% \"echo {} | bash {directory}.sh\""
   ]
  },
  {
   "cell_type": "markdown",
   "metadata": {},
   "source": [
    "##### 4. Evaluate convergence \n",
    "We evaluate convergence and plot posterior distribution."
   ]
  },
  {
   "cell_type": "code",
   "execution_count": null,
   "metadata": {},
   "outputs": [],
   "source": [
    "# ! ls _ranktest/runs | while read seed; do python diagnostics_1-ranktest.py -folder_runs _ranktest/runs/$seed -folder_simdata _ranktest/simdata/$seed -MCMC_iter 100 -burnin 10 -nnodes 9 -phylogeny data/chazot_subtree.nw; done "
   ]
  },
  {
   "cell_type": "markdown",
   "metadata": {},
   "source": [
    "Look at distribution of bias and overall convergence diagnostics by running the notebook 4.1-ranktest/summary-plots.ipynb ."
   ]
  },
  {
   "cell_type": "markdown",
   "metadata": {},
   "source": [
    "##### 5. Compute ranks and do rank plots\n"
   ]
  },
  {
   "cell_type": "code",
   "execution_count": 8,
   "metadata": {},
   "outputs": [
    {
     "name": "stdout",
     "output_type": "stream",
     "text": [
      "3\n",
      "_ranktest/runs/20139000411276579/\n",
      "_ranktest/runs/49053031123053395/\n",
      "_ranktest/runs/9230576093721682/\n"
     ]
    }
   ],
   "source": [
    "# run script for computing ranks \n",
    "! python calc_ri.py -N {n_iter} -burnin {burnin} -folder_runs {directory}/runs -folder_simdata {directory}/simdata -nnodes 9 -nxd 40"
   ]
  },
  {
   "cell_type": "code",
   "execution_count": 10,
   "metadata": {},
   "outputs": [
    {
     "name": "stdout",
     "output_type": "stream",
     "text": [
      "niepelti\n",
      "theseus\n",
      "hercules\n",
      "amphitryon\n",
      "telemachus\n",
      "[3, 4, 5, 7, 8]\n",
      "[0, 1, 2, 6]\n"
     ]
    }
   ],
   "source": [
    "# run script for plotting ranks \n",
    "! python plot_ranks.py -folder_runs {directory}/runs -tree data/chazot_subtree.nw"
   ]
  },
  {
   "cell_type": "code",
   "execution_count": null,
   "metadata": {},
   "outputs": [],
   "source": []
  }
 ],
 "metadata": {
  "kernelspec": {
   "display_name": "env",
   "language": "python",
   "name": "python3"
  },
  "language_info": {
   "codemirror_mode": {
    "name": "ipython",
    "version": 3
   },
   "file_extension": ".py",
   "mimetype": "text/x-python",
   "name": "python",
   "nbconvert_exporter": "python",
   "pygments_lexer": "ipython3",
   "version": "3.11.9"
  }
 },
 "nbformat": 4,
 "nbformat_minor": 2
}
