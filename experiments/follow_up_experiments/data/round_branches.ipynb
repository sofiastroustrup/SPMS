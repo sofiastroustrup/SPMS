{
 "cells": [
  {
   "cell_type": "code",
   "execution_count": 1,
   "id": "918208da",
   "metadata": {},
   "outputs": [],
   "source": [
    "from ete3 import Tree"
   ]
  },
  {
   "cell_type": "code",
   "execution_count": 3,
   "id": "6c0f3630",
   "metadata": {},
   "outputs": [],
   "source": [
    "full_tree=Tree(\"chazot_full_tree.nw\")"
   ]
  },
  {
   "cell_type": "code",
   "execution_count": 7,
   "id": "3ee7ccda",
   "metadata": {},
   "outputs": [
    {
     "name": "stdout",
     "output_type": "stream",
     "text": [
      " 16.25400015767043\n",
      " 27.322516901393715\n",
      " 6.244374134942323\n",
      "eugenia 0.7983972198991651\n",
      "marcus 0.7983972198991651\n",
      " 1.0199619284525028\n",
      " 1.0455945777370736\n",
      " 3.740329765567992\n",
      " 6.329601292197186\n",
      "polyphemus 20.830945408613484\n",
      " 1.342180583061225\n",
      "anaxibia 17.116248292330063\n",
      " 11.158501490705099\n",
      " 8.309751744082458\n",
      " 6.972986414837582\n",
      " 2.8122500590722126\n",
      " 2.273390509819823\n",
      "cypris 5.957746801624964\n",
      "rhetenor 5.957746801624964\n",
      "cisseis 6.217225021618411\n",
      "hecuba 6.217225021618411\n",
      " 3.4971934568125995\n",
      " 1.661027265410226\n",
      " 5.4067112413032135\n",
      " 4.749405941869142\n",
      " 10.253760150540362\n",
      " 3.4264219452452416\n",
      "niepelti 4.056796894050688\n",
      "theseus 4.056796894050688\n",
      "hercules 5.8929630854530615\n",
      " 1.6836261224502493\n",
      "granadensis 11.269803525176833\n",
      " 7.660002237076824\n",
      "deidamia 11.927108824610904\n",
      " 11.105008979128094\n",
      "amathonte 6.961614165192074\n",
      " 4.987625970789999\n",
      " 1.99601770291261\n",
      " 0.9396135722489518\n",
      "amphitryon 4.209336963002812\n",
      "telemachus 4.209336963002812\n",
      "achilles 3.6098012881000088\n",
      "helenor 3.6098012881000088\n",
      "epistrophus 0.8220998454828106\n",
      "iphitus 0.8220998454828106\n",
      "godartii 1.9739881944020752\n",
      "menelaus 1.9739881944020752\n",
      "zephyritis 11.792934667574585\n",
      " 5.390408885132491\n",
      " 2.770414882733668\n",
      " 1.557490889671648\n",
      "lympharis 6.402525782442094\n",
      "sulkowskyi 6.402525782442094\n",
      "aega 10.078923915504575\n",
      "portis 10.078923915504575\n",
      "rhodopteron 11.291847908566595\n",
      " 7.502206022772221\n",
      "absoloni 3.7896418857943743\n",
      "aurora 3.7896418857943743\n"
     ]
    }
   ],
   "source": [
    "for node in full_tree.traverse():\n",
    "    print(node.name, node.dist)\n",
    "    node.dist = round(node.dist, 1)"
   ]
  },
  {
   "cell_type": "code",
   "execution_count": 8,
   "id": "54fac917",
   "metadata": {},
   "outputs": [
    {
     "name": "stdout",
     "output_type": "stream",
     "text": [
      " 16.3\n",
      " 27.3\n",
      " 6.2\n",
      "eugenia 0.8\n",
      "marcus 0.8\n",
      " 1.0\n",
      " 1.0\n",
      " 3.7\n",
      " 6.3\n",
      "polyphemus 20.8\n",
      " 1.3\n",
      "anaxibia 17.1\n",
      " 11.2\n",
      " 8.3\n",
      " 7.0\n",
      " 2.8\n",
      " 2.3\n",
      "cypris 6.0\n",
      "rhetenor 6.0\n",
      "cisseis 6.2\n",
      "hecuba 6.2\n",
      " 3.5\n",
      " 1.7\n",
      " 5.4\n",
      " 4.7\n",
      " 10.3\n",
      " 3.4\n",
      "niepelti 4.1\n",
      "theseus 4.1\n",
      "hercules 5.9\n",
      " 1.7\n",
      "granadensis 11.3\n",
      " 7.7\n",
      "deidamia 11.9\n",
      " 11.1\n",
      "amathonte 7.0\n",
      " 5.0\n",
      " 2.0\n",
      " 0.9\n",
      "amphitryon 4.2\n",
      "telemachus 4.2\n",
      "achilles 3.6\n",
      "helenor 3.6\n",
      "epistrophus 0.8\n",
      "iphitus 0.8\n",
      "godartii 2.0\n",
      "menelaus 2.0\n",
      "zephyritis 11.8\n",
      " 5.4\n",
      " 2.8\n",
      " 1.6\n",
      "lympharis 6.4\n",
      "sulkowskyi 6.4\n",
      "aega 10.1\n",
      "portis 10.1\n",
      "rhodopteron 11.3\n",
      " 7.5\n",
      "absoloni 3.8\n",
      "aurora 3.8\n"
     ]
    }
   ],
   "source": [
    "for node in full_tree.traverse():\n",
    "    print(node.name, node.dist)"
   ]
  },
  {
   "cell_type": "code",
   "execution_count": 10,
   "id": "f21137c9",
   "metadata": {},
   "outputs": [],
   "source": [
    "full_tree.write(format=1, outfile=\"chazot_full_tree_rounded.nw\")"
   ]
  },
  {
   "cell_type": "code",
   "execution_count": null,
   "id": "af223813",
   "metadata": {},
   "outputs": [],
   "source": []
  }
 ],
 "metadata": {
  "kernelspec": {
   "display_name": "SPMS",
   "language": "python",
   "name": "python3"
  },
  "language_info": {
   "codemirror_mode": {
    "name": "ipython",
    "version": 3
   },
   "file_extension": ".py",
   "mimetype": "text/x-python",
   "name": "python",
   "nbconvert_exporter": "python",
   "pygments_lexer": "ipython3",
   "version": "3.13.5"
  }
 },
 "nbformat": 4,
 "nbformat_minor": 5
}
