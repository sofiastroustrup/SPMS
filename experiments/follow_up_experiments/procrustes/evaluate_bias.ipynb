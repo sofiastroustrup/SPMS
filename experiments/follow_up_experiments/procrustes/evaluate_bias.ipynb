{
 "cells": [
  {
   "cell_type": "markdown",
   "id": "7ea19a04",
   "metadata": {},
   "source": [
    "## We look at parameter estimates with and without Procrustes alignment "
   ]
  },
  {
   "cell_type": "code",
   "execution_count": 12,
   "id": "9e4236e2",
   "metadata": {},
   "outputs": [],
   "source": [
    "import os\n",
    "from physhapes.mcmc import load_mcmc_results\n",
    "import numpy as np\n",
    "import matplotlib.pyplot as plt"
   ]
  },
  {
   "cell_type": "code",
   "execution_count": 13,
   "id": "b83899db",
   "metadata": {},
   "outputs": [],
   "source": [
    "burnin_percent = 0.3\n",
    "path = \"unit_root/sigma=0.3_alpha=0.005_dt=0.05/all\" \n",
    "alphas_mean=[]\n",
    "alphas_mean_proc=[]\n",
    "\n",
    "sigmas_mean = []\n",
    "sigmas_mean_proc = []\n",
    "\n",
    "alphas_diff = []\n",
    "sigmas_diff = []"
   ]
  },
  {
   "cell_type": "code",
   "execution_count": 14,
   "id": "f76ac73d",
   "metadata": {},
   "outputs": [],
   "source": [
    "def dicts_equal_except(d1, d2, exclude_keys):\n",
    "    d1_filtered = {k: v for k, v in d1.items() if k not in exclude_keys}\n",
    "    d2_filtered = {k: v for k, v in d2.items() if k not in exclude_keys}\n",
    "    return d1_filtered == d2_filtered"
   ]
  },
  {
   "cell_type": "code",
   "execution_count": 15,
   "id": "604c076b",
   "metadata": {},
   "outputs": [
    {
     "name": "stdout",
     "output_type": "stream",
     "text": [
      "Loading unit_root/sigma=0.3_alpha=0.005_dt=0.05/all/seed=216617605/mcmc/id=595137635/results_chain=106322075.pkl\n",
      "Loading unit_root/sigma=0.3_alpha=0.005_dt=0.05/all/seed=216617605/mcmc/id=595137635/results_chain=711201682.pkl\n",
      "Loading unit_root/sigma=0.3_alpha=0.005_dt=0.05/all/seed=216617605/mcmc/id=595137635/results_chain=813170715.pkl\n",
      "{'N': 3000, 'dt': 0.05, 'lambd': 0.95, 'obs_var': 0.0001, 'rb': 1.0, 'seed_mcmc': 106322075, 'prior_sigma_min': 0.0, 'prior_sigma_max': 1.0, 'prior_alpha_min': 0.0, 'prior_alpha_max': 0.03, 'proposal_sigma_tau': 0.1, 'proposal_alpha_tau': 0.005, 'tree_string': '((0:4.1,1:4.1):3.5,(2:5.9,(3:4.2,4:4.2):1.7):1.7);', 'outputpath': 'unit_root/sigma=0.3_alpha=0.005_dt=0.05/beatty-050925/seed=216617605/mcmc/id=595137635', 'use_wandb': True, 'wandb_project': 'SPMS_MCMC'}\n"
     ]
    },
    {
     "data": {
      "text/plain": [
       "True"
      ]
     },
     "execution_count": 15,
     "metadata": {},
     "output_type": "execute_result"
    }
   ],
   "source": [
    "# mcmc settings\n",
    "chain_results = load_mcmc_results(path + \"/seed=216617605/mcmc/id=595137635/*.pkl\")\n",
    "reference = chain_results[0]['settings']\n",
    "print(reference)\n",
    "dicts_equal_except(chain_results[0]['settings'], chain_results[1]['settings'], exclude_keys='seed_mcmc')"
   ]
  },
  {
   "cell_type": "code",
   "execution_count": 16,
   "id": "4199031c",
   "metadata": {},
   "outputs": [
    {
     "name": "stdout",
     "output_type": "stream",
     "text": [
      "mcmc id: id=595137635\n",
      "Loading unit_root/sigma=0.3_alpha=0.005_dt=0.05/all/seed=869083029/mcmc/id=595137635/results_chain=89181905.pkl\n",
      "Loading unit_root/sigma=0.3_alpha=0.005_dt=0.05/all/seed=869083029/mcmc/id=595137635/results_chain=902748578.pkl\n",
      "Loading unit_root/sigma=0.3_alpha=0.005_dt=0.05/all/seed=869083029/mcmc/id=595137635/results_chain=923346238.pkl\n",
      "mcmc id (procrustes): id=595137635\n",
      "Loading unit_root/sigma=0.3_alpha=0.005_dt=0.05/all/seed=869083029/mcmc_procrustes/id=595137635/results_chain=23791830.pkl\n",
      "Loading unit_root/sigma=0.3_alpha=0.005_dt=0.05/all/seed=869083029/mcmc_procrustes/id=595137635/results_chain=484810168.pkl\n",
      "Loading unit_root/sigma=0.3_alpha=0.005_dt=0.05/all/seed=869083029/mcmc_procrustes/id=595137635/results_chain=932903537.pkl\n",
      "mcmc id: id=595137635\n",
      "Loading unit_root/sigma=0.3_alpha=0.005_dt=0.05/all/seed=1397427006/mcmc/id=595137635/results_chain=51867071.pkl\n",
      "Loading unit_root/sigma=0.3_alpha=0.005_dt=0.05/all/seed=1397427006/mcmc/id=595137635/results_chain=821878048.pkl\n",
      "Loading unit_root/sigma=0.3_alpha=0.005_dt=0.05/all/seed=1397427006/mcmc/id=595137635/results_chain=887625290.pkl\n",
      "mcmc id (procrustes): id=595137635\n",
      "Loading unit_root/sigma=0.3_alpha=0.005_dt=0.05/all/seed=1397427006/mcmc_procrustes/id=595137635/results_chain=309125509.pkl\n",
      "Loading unit_root/sigma=0.3_alpha=0.005_dt=0.05/all/seed=1397427006/mcmc_procrustes/id=595137635/results_chain=526326029.pkl\n",
      "Loading unit_root/sigma=0.3_alpha=0.005_dt=0.05/all/seed=1397427006/mcmc_procrustes/id=595137635/results_chain=69221721.pkl\n",
      "mcmc id: id=595137635\n",
      "Loading unit_root/sigma=0.3_alpha=0.005_dt=0.05/all/seed=1267895950/mcmc/id=595137635/results_chain=624845638.pkl\n",
      "Loading unit_root/sigma=0.3_alpha=0.005_dt=0.05/all/seed=1267895950/mcmc/id=595137635/results_chain=676859354.pkl\n",
      "Loading unit_root/sigma=0.3_alpha=0.005_dt=0.05/all/seed=1267895950/mcmc/id=595137635/results_chain=73060106.pkl\n",
      "mcmc id (procrustes): id=595137635\n",
      "Loading unit_root/sigma=0.3_alpha=0.005_dt=0.05/all/seed=1267895950/mcmc_procrustes/id=595137635/results_chain=141807458.pkl\n",
      "Loading unit_root/sigma=0.3_alpha=0.005_dt=0.05/all/seed=1267895950/mcmc_procrustes/id=595137635/results_chain=640219307.pkl\n",
      "mcmc id: id=595137635\n",
      "Loading unit_root/sigma=0.3_alpha=0.005_dt=0.05/all/seed=1063451080/mcmc/id=595137635/results_chain=292369412.pkl\n",
      "Loading unit_root/sigma=0.3_alpha=0.005_dt=0.05/all/seed=1063451080/mcmc/id=595137635/results_chain=396067142.pkl\n",
      "Loading unit_root/sigma=0.3_alpha=0.005_dt=0.05/all/seed=1063451080/mcmc/id=595137635/results_chain=640955829.pkl\n",
      "mcmc id (procrustes): id=595137635\n",
      "Loading unit_root/sigma=0.3_alpha=0.005_dt=0.05/all/seed=1063451080/mcmc_procrustes/id=595137635/results_chain=171991808.pkl\n",
      "Loading unit_root/sigma=0.3_alpha=0.005_dt=0.05/all/seed=1063451080/mcmc_procrustes/id=595137635/results_chain=65034967.pkl\n",
      "Loading unit_root/sigma=0.3_alpha=0.005_dt=0.05/all/seed=1063451080/mcmc_procrustes/id=595137635/results_chain=826846748.pkl\n",
      "mcmc id: id=595137635\n",
      "Loading unit_root/sigma=0.3_alpha=0.005_dt=0.05/all/seed=1428004241/mcmc/id=595137635/results_chain=204371729.pkl\n",
      "Loading unit_root/sigma=0.3_alpha=0.005_dt=0.05/all/seed=1428004241/mcmc/id=595137635/results_chain=37170902.pkl\n",
      "Loading unit_root/sigma=0.3_alpha=0.005_dt=0.05/all/seed=1428004241/mcmc/id=595137635/results_chain=825388319.pkl\n",
      "mcmc id (procrustes): id=595137635\n",
      "Loading unit_root/sigma=0.3_alpha=0.005_dt=0.05/all/seed=1428004241/mcmc_procrustes/id=595137635/results_chain=566043122.pkl\n",
      "Loading unit_root/sigma=0.3_alpha=0.005_dt=0.05/all/seed=1428004241/mcmc_procrustes/id=595137635/results_chain=94059188.pkl\n",
      "Loading unit_root/sigma=0.3_alpha=0.005_dt=0.05/all/seed=1428004241/mcmc_procrustes/id=595137635/results_chain=944329424.pkl\n",
      "mcmc id: id=555129472\n",
      "Loading unit_root/sigma=0.3_alpha=0.005_dt=0.05/all/seed=3821033442/mcmc/id=555129472/results_chain=644479.pkl\n",
      "Loading unit_root/sigma=0.3_alpha=0.005_dt=0.05/all/seed=3821033442/mcmc/id=555129472/results_chain=657169.pkl\n",
      "Loading unit_root/sigma=0.3_alpha=0.005_dt=0.05/all/seed=3821033442/mcmc/id=555129472/results_chain=75073.pkl\n",
      "mcmc id (procrustes): id=555129472\n",
      "Loading unit_root/sigma=0.3_alpha=0.005_dt=0.05/all/seed=3821033442/mcmc_procrustes/id=555129472/results_chain=236220.pkl\n",
      "Loading unit_root/sigma=0.3_alpha=0.005_dt=0.05/all/seed=3821033442/mcmc_procrustes/id=555129472/results_chain=66339.pkl\n",
      "Loading unit_root/sigma=0.3_alpha=0.005_dt=0.05/all/seed=3821033442/mcmc_procrustes/id=555129472/results_chain=896289.pkl\n",
      "mcmc id: id=555129472\n",
      "Loading unit_root/sigma=0.3_alpha=0.005_dt=0.05/all/seed=2087989552/mcmc/id=555129472/results_chain=19808.pkl\n",
      "Loading unit_root/sigma=0.3_alpha=0.005_dt=0.05/all/seed=2087989552/mcmc/id=555129472/results_chain=282947.pkl\n",
      "Loading unit_root/sigma=0.3_alpha=0.005_dt=0.05/all/seed=2087989552/mcmc/id=555129472/results_chain=337310.pkl\n",
      "mcmc id (procrustes): id=555129472\n",
      "Loading unit_root/sigma=0.3_alpha=0.005_dt=0.05/all/seed=2087989552/mcmc_procrustes/id=555129472/results_chain=315247.pkl\n",
      "Loading unit_root/sigma=0.3_alpha=0.005_dt=0.05/all/seed=2087989552/mcmc_procrustes/id=555129472/results_chain=325447.pkl\n",
      "Loading unit_root/sigma=0.3_alpha=0.005_dt=0.05/all/seed=2087989552/mcmc_procrustes/id=555129472/results_chain=782933.pkl\n",
      "mcmc id: id=555129472\n",
      "Loading unit_root/sigma=0.3_alpha=0.005_dt=0.05/all/seed=3795818192/mcmc/id=555129472/results_chain=460259.pkl\n",
      "Loading unit_root/sigma=0.3_alpha=0.005_dt=0.05/all/seed=3795818192/mcmc/id=555129472/results_chain=541195.pkl\n",
      "Loading unit_root/sigma=0.3_alpha=0.005_dt=0.05/all/seed=3795818192/mcmc/id=555129472/results_chain=80585.pkl\n",
      "mcmc id (procrustes): id=555129472\n",
      "Loading unit_root/sigma=0.3_alpha=0.005_dt=0.05/all/seed=3795818192/mcmc_procrustes/id=555129472/results_chain=401668.pkl\n",
      "Loading unit_root/sigma=0.3_alpha=0.005_dt=0.05/all/seed=3795818192/mcmc_procrustes/id=555129472/results_chain=730549.pkl\n",
      "Loading unit_root/sigma=0.3_alpha=0.005_dt=0.05/all/seed=3795818192/mcmc_procrustes/id=555129472/results_chain=811085.pkl\n",
      "mcmc id: id=555129472\n",
      "Loading unit_root/sigma=0.3_alpha=0.005_dt=0.05/all/seed=2682789419/mcmc/id=555129472/results_chain=402705.pkl\n",
      "Loading unit_root/sigma=0.3_alpha=0.005_dt=0.05/all/seed=2682789419/mcmc/id=555129472/results_chain=522587.pkl\n",
      "Loading unit_root/sigma=0.3_alpha=0.005_dt=0.05/all/seed=2682789419/mcmc/id=555129472/results_chain=591960.pkl\n",
      "mcmc id (procrustes): id=555129472\n",
      "Loading unit_root/sigma=0.3_alpha=0.005_dt=0.05/all/seed=2682789419/mcmc_procrustes/id=555129472/results_chain=294661.pkl\n",
      "Loading unit_root/sigma=0.3_alpha=0.005_dt=0.05/all/seed=2682789419/mcmc_procrustes/id=555129472/results_chain=459094.pkl\n",
      "Loading unit_root/sigma=0.3_alpha=0.005_dt=0.05/all/seed=2682789419/mcmc_procrustes/id=555129472/results_chain=757061.pkl\n",
      "mcmc id: id=595137635\n",
      "Loading unit_root/sigma=0.3_alpha=0.005_dt=0.05/all/seed=754028303/mcmc/id=595137635/results_chain=412525912.pkl\n",
      "Loading unit_root/sigma=0.3_alpha=0.005_dt=0.05/all/seed=754028303/mcmc/id=595137635/results_chain=598554160.pkl\n",
      "Loading unit_root/sigma=0.3_alpha=0.005_dt=0.05/all/seed=754028303/mcmc/id=595137635/results_chain=599732338.pkl\n",
      "mcmc id (procrustes): id=595137635\n",
      "Loading unit_root/sigma=0.3_alpha=0.005_dt=0.05/all/seed=754028303/mcmc_procrustes/id=595137635/results_chain=115841578.pkl\n",
      "Loading unit_root/sigma=0.3_alpha=0.005_dt=0.05/all/seed=754028303/mcmc_procrustes/id=595137635/results_chain=606715809.pkl\n",
      "Loading unit_root/sigma=0.3_alpha=0.005_dt=0.05/all/seed=754028303/mcmc_procrustes/id=595137635/results_chain=862721699.pkl\n",
      "mcmc id: id=595137635\n",
      "Loading unit_root/sigma=0.3_alpha=0.005_dt=0.05/all/seed=4205842640/mcmc/id=595137635/results_chain=134536377.pkl\n",
      "Loading unit_root/sigma=0.3_alpha=0.005_dt=0.05/all/seed=4205842640/mcmc/id=595137635/results_chain=428994436.pkl\n",
      "Loading unit_root/sigma=0.3_alpha=0.005_dt=0.05/all/seed=4205842640/mcmc/id=595137635/results_chain=462959274.pkl\n",
      "mcmc id (procrustes): id=595137635\n",
      "Loading unit_root/sigma=0.3_alpha=0.005_dt=0.05/all/seed=4205842640/mcmc_procrustes/id=595137635/results_chain=593981475.pkl\n",
      "Loading unit_root/sigma=0.3_alpha=0.005_dt=0.05/all/seed=4205842640/mcmc_procrustes/id=595137635/results_chain=599465924.pkl\n",
      "Loading unit_root/sigma=0.3_alpha=0.005_dt=0.05/all/seed=4205842640/mcmc_procrustes/id=595137635/results_chain=633399233.pkl\n",
      "mcmc id: id=555129472\n",
      "Loading unit_root/sigma=0.3_alpha=0.005_dt=0.05/all/seed=1878350139/mcmc/id=555129472/results_chain=260828.pkl\n",
      "Loading unit_root/sigma=0.3_alpha=0.005_dt=0.05/all/seed=1878350139/mcmc/id=555129472/results_chain=44756.pkl\n",
      "Loading unit_root/sigma=0.3_alpha=0.005_dt=0.05/all/seed=1878350139/mcmc/id=555129472/results_chain=599741.pkl\n",
      "mcmc id (procrustes): id=555129472\n",
      "Loading unit_root/sigma=0.3_alpha=0.005_dt=0.05/all/seed=1878350139/mcmc_procrustes/id=555129472/results_chain=389477.pkl\n",
      "Loading unit_root/sigma=0.3_alpha=0.005_dt=0.05/all/seed=1878350139/mcmc_procrustes/id=555129472/results_chain=656612.pkl\n",
      "Loading unit_root/sigma=0.3_alpha=0.005_dt=0.05/all/seed=1878350139/mcmc_procrustes/id=555129472/results_chain=802096.pkl\n",
      "mcmc id: id=595137635\n",
      "Loading unit_root/sigma=0.3_alpha=0.005_dt=0.05/all/seed=243078351/mcmc/id=595137635/results_chain=164060664.pkl\n",
      "Loading unit_root/sigma=0.3_alpha=0.005_dt=0.05/all/seed=243078351/mcmc/id=595137635/results_chain=617854881.pkl\n",
      "Loading unit_root/sigma=0.3_alpha=0.005_dt=0.05/all/seed=243078351/mcmc/id=595137635/results_chain=820353096.pkl\n",
      "mcmc id (procrustes): id=595137635\n",
      "Loading unit_root/sigma=0.3_alpha=0.005_dt=0.05/all/seed=243078351/mcmc_procrustes/id=595137635/results_chain=584704897.pkl\n",
      "Loading unit_root/sigma=0.3_alpha=0.005_dt=0.05/all/seed=243078351/mcmc_procrustes/id=595137635/results_chain=779375229.pkl\n",
      "Loading unit_root/sigma=0.3_alpha=0.005_dt=0.05/all/seed=243078351/mcmc_procrustes/id=595137635/results_chain=987218112.pkl\n",
      "mcmc id: id=595137635\n",
      "Loading unit_root/sigma=0.3_alpha=0.005_dt=0.05/all/seed=445806869/mcmc/id=595137635/results_chain=253730464.pkl\n",
      "Loading unit_root/sigma=0.3_alpha=0.005_dt=0.05/all/seed=445806869/mcmc/id=595137635/results_chain=400373049.pkl\n",
      "Loading unit_root/sigma=0.3_alpha=0.005_dt=0.05/all/seed=445806869/mcmc/id=595137635/results_chain=996287234.pkl\n",
      "mcmc id (procrustes): id=595137635\n",
      "Loading unit_root/sigma=0.3_alpha=0.005_dt=0.05/all/seed=445806869/mcmc_procrustes/id=595137635/results_chain=351467685.pkl\n",
      "Loading unit_root/sigma=0.3_alpha=0.005_dt=0.05/all/seed=445806869/mcmc_procrustes/id=595137635/results_chain=797247465.pkl\n",
      "Loading unit_root/sigma=0.3_alpha=0.005_dt=0.05/all/seed=445806869/mcmc_procrustes/id=595137635/results_chain=827187677.pkl\n",
      "mcmc id: id=555129472\n",
      "Loading unit_root/sigma=0.3_alpha=0.005_dt=0.05/all/seed=3933048021/mcmc/id=555129472/results_chain=315171.pkl\n",
      "Loading unit_root/sigma=0.3_alpha=0.005_dt=0.05/all/seed=3933048021/mcmc/id=555129472/results_chain=60719.pkl\n",
      "Loading unit_root/sigma=0.3_alpha=0.005_dt=0.05/all/seed=3933048021/mcmc/id=555129472/results_chain=987995.pkl\n",
      "mcmc id (procrustes): id=555129472\n",
      "Loading unit_root/sigma=0.3_alpha=0.005_dt=0.05/all/seed=3933048021/mcmc_procrustes/id=555129472/results_chain=573488.pkl\n",
      "Loading unit_root/sigma=0.3_alpha=0.005_dt=0.05/all/seed=3933048021/mcmc_procrustes/id=555129472/results_chain=907791.pkl\n",
      "Loading unit_root/sigma=0.3_alpha=0.005_dt=0.05/all/seed=3933048021/mcmc_procrustes/id=555129472/results_chain=937091.pkl\n",
      "mcmc id: id=595137635\n",
      "Loading unit_root/sigma=0.3_alpha=0.005_dt=0.05/all/seed=850934165/mcmc/id=595137635/results_chain=396317053.pkl\n",
      "Loading unit_root/sigma=0.3_alpha=0.005_dt=0.05/all/seed=850934165/mcmc/id=595137635/results_chain=421770677.pkl\n",
      "Loading unit_root/sigma=0.3_alpha=0.005_dt=0.05/all/seed=850934165/mcmc/id=595137635/results_chain=825633061.pkl\n",
      "mcmc id (procrustes): id=595137635\n",
      "Loading unit_root/sigma=0.3_alpha=0.005_dt=0.05/all/seed=850934165/mcmc_procrustes/id=595137635/results_chain=14032703.pkl\n",
      "Loading unit_root/sigma=0.3_alpha=0.005_dt=0.05/all/seed=850934165/mcmc_procrustes/id=595137635/results_chain=456558055.pkl\n",
      "Loading unit_root/sigma=0.3_alpha=0.005_dt=0.05/all/seed=850934165/mcmc_procrustes/id=595137635/results_chain=57259542.pkl\n",
      "mcmc id: id=555129472\n",
      "Loading unit_root/sigma=0.3_alpha=0.005_dt=0.05/all/seed=2128638931/mcmc/id=555129472/results_chain=159146.pkl\n",
      "Loading unit_root/sigma=0.3_alpha=0.005_dt=0.05/all/seed=2128638931/mcmc/id=555129472/results_chain=699676.pkl\n",
      "Loading unit_root/sigma=0.3_alpha=0.005_dt=0.05/all/seed=2128638931/mcmc/id=555129472/results_chain=811169.pkl\n",
      "mcmc id (procrustes): id=555129472\n",
      "Loading unit_root/sigma=0.3_alpha=0.005_dt=0.05/all/seed=2128638931/mcmc_procrustes/id=555129472/results_chain=191154.pkl\n",
      "Loading unit_root/sigma=0.3_alpha=0.005_dt=0.05/all/seed=2128638931/mcmc_procrustes/id=555129472/results_chain=601564.pkl\n",
      "Loading unit_root/sigma=0.3_alpha=0.005_dt=0.05/all/seed=2128638931/mcmc_procrustes/id=555129472/results_chain=665345.pkl\n",
      "mcmc id: id=555129472\n",
      "Loading unit_root/sigma=0.3_alpha=0.005_dt=0.05/all/seed=2604945923/mcmc/id=555129472/results_chain=568451.pkl\n",
      "Loading unit_root/sigma=0.3_alpha=0.005_dt=0.05/all/seed=2604945923/mcmc/id=555129472/results_chain=722213.pkl\n",
      "Loading unit_root/sigma=0.3_alpha=0.005_dt=0.05/all/seed=2604945923/mcmc/id=555129472/results_chain=749911.pkl\n",
      "mcmc id (procrustes): id=555129472\n",
      "Loading unit_root/sigma=0.3_alpha=0.005_dt=0.05/all/seed=2604945923/mcmc_procrustes/id=555129472/results_chain=22571.pkl\n",
      "Loading unit_root/sigma=0.3_alpha=0.005_dt=0.05/all/seed=2604945923/mcmc_procrustes/id=555129472/results_chain=490238.pkl\n",
      "Loading unit_root/sigma=0.3_alpha=0.005_dt=0.05/all/seed=2604945923/mcmc_procrustes/id=555129472/results_chain=926425.pkl\n",
      "mcmc id: id=595137635\n",
      "Loading unit_root/sigma=0.3_alpha=0.005_dt=0.05/all/seed=216617605/mcmc/id=595137635/results_chain=106322075.pkl\n",
      "Loading unit_root/sigma=0.3_alpha=0.005_dt=0.05/all/seed=216617605/mcmc/id=595137635/results_chain=711201682.pkl\n",
      "Loading unit_root/sigma=0.3_alpha=0.005_dt=0.05/all/seed=216617605/mcmc/id=595137635/results_chain=813170715.pkl\n",
      "mcmc id (procrustes): id=595137635\n",
      "Loading unit_root/sigma=0.3_alpha=0.005_dt=0.05/all/seed=216617605/mcmc_procrustes/id=595137635/results_chain=111113705.pkl\n",
      "Loading unit_root/sigma=0.3_alpha=0.005_dt=0.05/all/seed=216617605/mcmc_procrustes/id=595137635/results_chain=273383342.pkl\n",
      "Loading unit_root/sigma=0.3_alpha=0.005_dt=0.05/all/seed=216617605/mcmc_procrustes/id=595137635/results_chain=839528341.pkl\n",
      "mcmc id: id=595137635\n",
      "Loading unit_root/sigma=0.3_alpha=0.005_dt=0.05/all/seed=4163767504/mcmc/id=595137635/results_chain=879531420.pkl\n",
      "Loading unit_root/sigma=0.3_alpha=0.005_dt=0.05/all/seed=4163767504/mcmc/id=595137635/results_chain=90802204.pkl\n",
      "Loading unit_root/sigma=0.3_alpha=0.005_dt=0.05/all/seed=4163767504/mcmc/id=595137635/results_chain=923099116.pkl\n",
      "mcmc id (procrustes): id=595137635\n",
      "Loading unit_root/sigma=0.3_alpha=0.005_dt=0.05/all/seed=4163767504/mcmc_procrustes/id=595137635/results_chain=18194792.pkl\n",
      "Loading unit_root/sigma=0.3_alpha=0.005_dt=0.05/all/seed=4163767504/mcmc_procrustes/id=595137635/results_chain=42707518.pkl\n",
      "Loading unit_root/sigma=0.3_alpha=0.005_dt=0.05/all/seed=4163767504/mcmc_procrustes/id=595137635/results_chain=718781704.pkl\n"
     ]
    }
   ],
   "source": [
    "#mcmc_id = \"id=595137635\"\n",
    "for dataset in os.listdir(path):\n",
    "    if \"result\" in dataset:\n",
    "        continue\n",
    "    for mcmc_id in os.listdir(os.path.join(path, dataset,\"mcmc\")):\n",
    "        print(f\"mcmc id: {mcmc_id}\")\n",
    "        results_path = os.path.join(path, dataset, \"mcmc\", mcmc_id, \"*.pkl\")\n",
    "        chain_results = load_mcmc_results(results_path)\n",
    "        # test that the settings for mcmc is the same across all chains and data sets\n",
    "        for i in range(len(chain_results)):\n",
    "            assert dicts_equal_except(reference, chain_results[i]['settings'], exclude_keys=['seed_mcmc', 'outputpath'])\n",
    "\n",
    "        cur_alphas = [chain_results[i]['alpha'][int(burnin_percent*len(chain_results[0]['alpha'])):] for i in range(len(chain_results))]\n",
    "        cur_sigmas = [chain_results[i]['sigma'][int(burnin_percent*len(chain_results[0]['sigma'])):] for i in range(len(chain_results))]\n",
    "        alphas_mean.append(np.mean(np.array(cur_alphas).flatten()))\n",
    "        sigmas_mean.append(np.mean(np.array(cur_sigmas).flatten()))\n",
    "\n",
    "            \n",
    "    for mcmc_id in os.listdir(os.path.join(path, dataset,\"mcmc_procrustes\")):\n",
    "        print(f\"mcmc id (procrustes): {mcmc_id}\")\n",
    "        results_path = os.path.join(path, dataset, \"mcmc_procrustes\", mcmc_id, \"*.pkl\")\n",
    "        chain_results = load_mcmc_results(results_path)\n",
    "        for i in range(len(chain_results)):\n",
    "            assert dicts_equal_except(reference, chain_results[i]['settings'], exclude_keys=['seed_mcmc', 'outputpath'])\n",
    "\n",
    "        \n",
    "        cur_alphas = [chain_results[i]['alpha'][int(burnin_percent*len(chain_results[0]['alpha'])):] for i in range(len(chain_results))]\n",
    "        cur_sigmas = [chain_results[i]['sigma'][int(burnin_percent*len(chain_results[0]['sigma'])):] for i in range(len(chain_results))]\n",
    "        alphas_mean_proc.append(np.mean(np.array(cur_alphas).flatten()))\n",
    "        sigmas_mean_proc.append(np.mean(np.array(cur_sigmas).flatten()))\n",
    "            \n",
    "    "
   ]
  },
  {
   "cell_type": "code",
   "execution_count": 17,
   "id": "5297f3cd",
   "metadata": {},
   "outputs": [
    {
     "data": {
      "text/plain": [
       "20"
      ]
     },
     "execution_count": 17,
     "metadata": {},
     "output_type": "execute_result"
    }
   ],
   "source": [
    "len(alphas_mean)"
   ]
  },
  {
   "cell_type": "code",
   "execution_count": 18,
   "id": "b3c70b69",
   "metadata": {},
   "outputs": [
    {
     "data": {
      "image/png": "[encoded data removed]",
      "text/plain": [
       "<Figure size 640x480 with 1 Axes>"
      ]
     },
     "metadata": {},
     "output_type": "display_data"
    }
   ],
   "source": [
    "plt.hist(alphas_mean, alpha=0.5)\n",
    "plt.hist(alphas_mean_proc, alpha=0.5)\n",
    "plt.axvline(np.mean(alphas_mean), label=\"raw data\")\n",
    "plt.axvline(np.mean(alphas_mean_proc), label=\"procrustes\", color=\"orange\")\n",
    "plt.title(r\"Posterior mean of $\\alpha$\")\n",
    "plt.legend()\n",
    "plt.savefig(\"alpha_procrustes_vs_raw.pdf\")"
   ]
  },
  {
   "cell_type": "code",
   "execution_count": 19,
   "id": "49824f29",
   "metadata": {},
   "outputs": [
    {
     "data": {
      "image/png": "[encoded data removed]",
      "text/plain": [
       "<Figure size 640x480 with 1 Axes>"
      ]
     },
     "metadata": {},
     "output_type": "display_data"
    }
   ],
   "source": [
    "plt.hist(sigmas_mean, alpha=0.5)\n",
    "plt.hist(sigmas_mean_proc, alpha=0.5)\n",
    "plt.axvline(np.mean(sigmas_mean), label=\"raw data\")\n",
    "plt.axvline(np.mean(sigmas_mean_proc), label=\"procrustes\", color=\"orange\")\n",
    "\n",
    "plt.title(r\"Posterior mean of $\\sigma$\")\n",
    "plt.legend()\n",
    "plt.savefig(\"sigma_procrustes_vs_raw.pdf\")"
   ]
  },
  {
   "cell_type": "code",
   "execution_count": null,
   "id": "66b32c15",
   "metadata": {},
   "outputs": [],
   "source": []
  }
 ],
 "metadata": {
  "kernelspec": {
   "display_name": "SPMS",
   "language": "python",
   "name": "python3"
  },
  "language_info": {
   "codemirror_mode": {
    "name": "ipython",
    "version": 3
   },
   "file_extension": ".py",
   "mimetype": "text/x-python",
   "name": "python",
   "nbconvert_exporter": "python",
   "pygments_lexer": "ipython3",
   "version": "3.13.5"
  }
 },
 "nbformat": 4,
 "nbformat_minor": 5
}
