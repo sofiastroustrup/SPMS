{
 "cells": [
  {
   "cell_type": "code",
   "execution_count": 1,
   "id": "0f04bd36",
   "metadata": {},
   "outputs": [],
   "source": [
    "from physhapes.helper_functions import *\n",
    "from physhapes.mcmc import * \n",
    "import os \n",
    "import numpy as np\n"
   ]
  },
  {
   "cell_type": "code",
   "execution_count": 2,
   "id": "4c44cdb6",
   "metadata": {},
   "outputs": [],
   "source": [
    "def create_mcmc_screen_script(experiment_path=None, datapath=None, phylo_path=None, num_chains=3, \n",
    "                              num_samples=3000, dt=0.05, lambd=0.7, obs_var=0.001, rb=2,\n",
    "                              prior_sigma_min=0.0, prior_sigma_max=2.5,\n",
    "                              prior_alpha_min=0.0, prior_alpha_max=0.03,\n",
    "                              proposal_sigma_tau=0.2, proposal_alpha_tau=0.005,\n",
    "                              n=20, d=2, proc=False, super_root=\"phylomean\"):\n",
    "    \"\"\"Creates a bash script to run MCMC chains in separate screen sessions.\"\"\"\n",
    "    \n",
    "    script_name = f'screen_{sub_id}.sh'\n",
    "    if proc:\n",
    "        output_path = f\"{experiment_path}/mcmc_procrustes/id={sub_id}\"\n",
    "    else:\n",
    "        output_path = f\"{experiment_path}/mcmc/id={sub_id}\"\n",
    "\n",
    "    with open(script_name, 'w') as rsh:\n",
    "        rsh.write(f'''#!/bin/bash\n",
    "# Make output directory\n",
    "mkdir -p {output_path}\n",
    "for i in $(seq 1 {num_chains}); do\n",
    "  screen -md -S {sub_id}_chain=$i python run_mcmc.py --outputpath {output_path} --phylopath {phylo_path} --datapath {datapath} --prior_sigma_min {prior_sigma_min} --prior_sigma_max {prior_sigma_max} --prior_alpha_min {prior_alpha_min} --prior_alpha_max {prior_alpha_max} --proposal_sigma_tau {proposal_sigma_tau} --proposal_alpha_tau {proposal_alpha_tau} --rb {rb} --obs_var {obs_var} --lambd {lambd} --dt {dt} --n {n} --d {d} --N {num_samples} --super_root {super_root} --use_wandb True --wandb_project \"SPMS_MCMC\"\n",
    "done\n",
    "''')\n",
    "    \n",
    "    # Make script executable\n",
    "    import os\n",
    "    os.chmod(script_name, 0o755)\n",
    "    \n",
    "    print(f\"Created MCMC screen script: {script_name}\")\n",
    "    return script_name"
   ]
  },
  {
   "cell_type": "code",
   "execution_count": 3,
   "id": "e7faa41c",
   "metadata": {},
   "outputs": [
    {
     "name": "stdout",
     "output_type": "stream",
     "text": [
      "sigma=0.6_alpha=0.025_dt=0.05/seed=100793516/leaves.csv\n"
     ]
    }
   ],
   "source": [
    "# MCMC settings\n",
    "num_chains = 3\n",
    "num_samples = 3000\n",
    "dt = 0.05\n",
    "lambd = 0.95\n",
    "obs_var = 0.0001\n",
    "rb = 1\n",
    "prior_sigma_min = 0.0\n",
    "prior_sigma_max = 1.0\n",
    "prior_alpha_min = 0.0\n",
    "prior_alpha_max = 0.05\n",
    "proposal_sigma_tau = 0.1\n",
    "proposal_alpha_tau = 0.005\n",
    "#seed_start = np.random.randint(0,1000_000_000)\n",
    "n = 20\n",
    "d = 2\n",
    "super_root = \"../data/hercules_forewing_n=20.csv\"  # or \"random\"\n",
    "\n",
    "# high level names \n",
    "procrustes = False\n",
    "experiment_path = \"sigma=0.6_alpha=0.025_dt=0.05\"\n",
    "simseed = os.listdir(experiment_path)[0]\n",
    "if procrustes:\n",
    "    datapath = experiment_path + \"/\"+simseed+\"/procrustes_aligned.csv\"\n",
    "else:\n",
    "    datapath = experiment_path + \"/\"+simseed+\"/leaves.csv\"\n",
    "phylo_path = \"../data/chazot_subtree_rounded.nw\"\n",
    "sub_id = str(np.random.randint(0, 1000_000_000))\n",
    "print(datapath)\n"
   ]
  },
  {
   "cell_type": "code",
   "execution_count": 4,
   "id": "a1b79735",
   "metadata": {},
   "outputs": [
    {
     "name": "stdout",
     "output_type": "stream",
     "text": [
      "Created MCMC screen script: screen_689706040.sh\n",
      "bash screen_689706040.sh\n"
     ]
    }
   ],
   "source": [
    "script = create_mcmc_screen_script(\n",
    "    experiment_path=experiment_path+\"/\"+simseed,\n",
    "    datapath=datapath,\n",
    "    phylo_path=phylo_path,\n",
    "    num_chains=num_chains,\n",
    "    num_samples=num_samples,\n",
    "    dt=dt,\n",
    "    lambd=lambd,\n",
    "    obs_var=obs_var,\n",
    "    rb=rb,\n",
    "    prior_sigma_min=prior_sigma_min,\n",
    "    prior_sigma_max=prior_sigma_max,\n",
    "    prior_alpha_min=prior_alpha_min,\n",
    "    prior_alpha_max=prior_alpha_max,\n",
    "    proposal_sigma_tau=proposal_sigma_tau,\n",
    "    proposal_alpha_tau=proposal_alpha_tau,\n",
    "    n=n,\n",
    "    d=d, \n",
    "    proc=procrustes,\n",
    "    super_root=super_root\n",
    ")\n",
    "\n",
    "print(f\"bash {script}\")"
   ]
  },
  {
   "cell_type": "code",
   "execution_count": null,
   "id": "e1fa1c0e",
   "metadata": {},
   "outputs": [],
   "source": []
  },
  {
   "cell_type": "code",
   "execution_count": null,
   "id": "35f51014",
   "metadata": {},
   "outputs": [],
   "source": []
  },
  {
   "cell_type": "code",
   "execution_count": null,
   "id": "f5e4e20c",
   "metadata": {},
   "outputs": [],
   "source": []
  },
  {
   "cell_type": "code",
   "execution_count": null,
   "id": "4b379d9f",
   "metadata": {},
   "outputs": [],
   "source": []
  },
  {
   "cell_type": "code",
   "execution_count": null,
   "id": "58ca7a21",
   "metadata": {},
   "outputs": [],
   "source": []
  },
  {
   "cell_type": "code",
   "execution_count": null,
   "id": "08ed5104",
   "metadata": {},
   "outputs": [],
   "source": []
  },
  {
   "cell_type": "code",
   "execution_count": null,
   "id": "25f922fc",
   "metadata": {},
   "outputs": [],
   "source": []
  },
  {
   "cell_type": "code",
   "execution_count": null,
   "id": "ed1ad862",
   "metadata": {},
   "outputs": [],
   "source": []
  },
  {
   "cell_type": "code",
   "execution_count": null,
   "id": "7fab4365",
   "metadata": {},
   "outputs": [],
   "source": []
  },
  {
   "cell_type": "code",
   "execution_count": null,
   "id": "5cc8cf91",
   "metadata": {},
   "outputs": [],
   "source": []
  }
 ],
 "metadata": {
  "kernelspec": {
   "display_name": "SPMS",
   "language": "python",
   "name": "python3"
  },
  "language_info": {
   "codemirror_mode": {
    "name": "ipython",
    "version": 3
   },
   "file_extension": ".py",
   "mimetype": "text/x-python",
   "name": "python",
   "nbconvert_exporter": "python",
   "pygments_lexer": "ipython3",
   "version": "3.13.5"
  }
 },
 "nbformat": 4,
 "nbformat_minor": 5
}
