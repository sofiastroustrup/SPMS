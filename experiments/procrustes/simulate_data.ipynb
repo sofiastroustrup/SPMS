{
 "cells": [
  {
   "cell_type": "code",
   "execution_count": 4,
   "id": "a2146b1c",
   "metadata": {},
   "outputs": [],
   "source": [
    "from ete3 import Tree\n",
    "import os\n",
    "import numpy as np \n",
    "import matplotlib.pyplot as plt\n",
    "import pandas as pd\n",
    "\n",
    "from physhapes.simulate import simulate_shapes\n",
    "from physhapes.helper_functions import get_flat_values_sim\n"
   ]
  },
  {
   "cell_type": "code",
   "execution_count": 9,
   "id": "a4e54d4f",
   "metadata": {},
   "outputs": [
    {
     "name": "stdout",
     "output_type": "stream",
     "text": [
      "\n",
      "      /-niepelti\n",
      "   /-|\n",
      "  |   \\-theseus\n",
      "--|\n",
      "  |   /-hercules\n",
      "   \\-|\n",
      "     |   /-amphitryon\n",
      "      \\-|\n",
      "         \\-telemachus\n"
     ]
    }
   ],
   "source": [
    "# load phylogeny \n",
    "tree = Tree('../data/chazot_subtree_rounded.nw')\n",
    "print(tree)\n",
    "# load root shape for simulation \n",
    "all_roots = np.genfromtxt('centroid_size_sim_wing.csv', delimiter=',')#np.genfromtxt('../data/hercules_forewing_n=20.csv', delimiter=',')\n",
    "root = all_roots[0,:] #np.mean(all_roots, axis=0, keepdims=True)"
   ]
  },
  {
   "cell_type": "code",
   "execution_count": 10,
   "id": "65fd8e9b",
   "metadata": {},
   "outputs": [
    {
     "data": {
      "text/plain": [
       "[<matplotlib.lines.Line2D at 0x17bb21590>]"
      ]
     },
     "execution_count": 10,
     "metadata": {},
     "output_type": "execute_result"
    },
    {
     "data": {
      "image/png": "[encoded data removed]",
      "text/plain": [
       "<Figure size 640x480 with 1 Axes>"
      ]
     },
     "metadata": {},
     "output_type": "display_data"
    }
   ],
   "source": [
    "plt.plot(root[0::2], root[1::2], 'o-')"
   ]
  },
  {
   "cell_type": "code",
   "execution_count": 3,
   "id": "e7181825",
   "metadata": {},
   "outputs": [
    {
     "name": "stdout",
     "output_type": "stream",
     "text": [
      "niepelti\n",
      "theseus\n",
      "hercules\n",
      "amphitryon\n",
      "telemachus\n",
      "[3, 4, 5, 7, 8]\n",
      "[0, 1, 2, 6]\n",
      "['niepelti', 'theseus', 'hercules', 'amphitryon', 'telemachus']\n"
     ]
    }
   ],
   "source": [
    "leafidx = []\n",
    "inneridx = []\n",
    "species = []\n",
    "i = 0\n",
    "for node in tree.traverse('levelorder'):\n",
    "    if node.is_leaf():\n",
    "        print(node.name)\n",
    "        leafidx.append(i)\n",
    "        species.append(node.name)\n",
    "    else:\n",
    "        inneridx.append(i)\n",
    "    i+=1\n",
    "print(leafidx)\n",
    "print(inneridx)\n",
    "print(species)"
   ]
  },
  {
   "cell_type": "code",
   "execution_count": 4,
   "id": "38f98172",
   "metadata": {},
   "outputs": [],
   "source": [
    "n_datasets = 20\n",
    "sigma = 0.7\n",
    "alpha = 0.025\n",
    "dt = 0.05\n",
    "rb = 0"
   ]
  },
  {
   "cell_type": "code",
   "execution_count": 5,
   "id": "f0816f27",
   "metadata": {},
   "outputs": [
    {
     "name": "stdout",
     "output_type": "stream",
     "text": [
      "Simulating dataset 1 out of 20 with seed 2629769567 \n",
      "Simulating dataset 2 out of 20 with seed 3575547206 \n",
      "Simulating dataset 3 out of 20 with seed 147821375 \n",
      "Simulating dataset 4 out of 20 with seed 299273977 \n",
      "Simulating dataset 5 out of 20 with seed 1975314734 \n",
      "Simulating dataset 6 out of 20 with seed 642782287 \n",
      "Simulating dataset 7 out of 20 with seed 4264087477 \n",
      "Simulating dataset 8 out of 20 with seed 2831223094 \n",
      "Simulating dataset 9 out of 20 with seed 3740141503 \n",
      "Simulating dataset 10 out of 20 with seed 3569409550 \n",
      "Simulating dataset 11 out of 20 with seed 1037266971 \n",
      "Simulating dataset 12 out of 20 with seed 4109713066 \n",
      "Simulating dataset 13 out of 20 with seed 3389285105 \n",
      "Simulating dataset 14 out of 20 with seed 4207571180 \n",
      "Simulating dataset 15 out of 20 with seed 1810758675 \n",
      "Simulating dataset 16 out of 20 with seed 2942243695 \n",
      "Simulating dataset 17 out of 20 with seed 2857679128 \n",
      "Simulating dataset 18 out of 20 with seed 1465299939 \n",
      "Simulating dataset 19 out of 20 with seed 2908003703 \n",
      "Simulating dataset 20 out of 20 with seed 654255042 \n"
     ]
    }
   ],
   "source": [
    "for i in range(n_datasets):\n",
    "    ds = np.random.randint(0, 2**32)\n",
    "    outputpath = f'sigma={sigma}_alpha={alpha}_dt={dt}/seed={ds}'\n",
    "    os.makedirs(outputpath, exist_ok=True)\n",
    "    print(f'Simulating dataset {i+1} out of {n_datasets} with seed {ds} ')\n",
    "    simtree = simulate_shapes(ds=ds, dt=dt, sigma=sigma, alpha=alpha, root=root, tree=tree, rb=rb)\n",
    "    flat_true_tree = np.array(get_flat_values_sim(simtree)) \n",
    "    np.savetxt(f'{outputpath}/flat_true_tree.csv', flat_true_tree, delimiter=\",\")\n",
    "    [plt.plot(flat_true_tree[idx][0::2], flat_true_tree[idx][1::2], '--o', markersize=3, label='Simulated data') for idx in leafidx]\n",
    "    plt.savefig(f'{outputpath}/simulated_leaves.pdf', bbox_inches='tight')  \n",
    "    plt.close()\n",
    "    \n",
    "    leaves = pd.DataFrame(flat_true_tree[leafidx, :], index=species)\n",
    "    #leaves.columns = [['X'+str(i), 'Y'+str(i)] for i in range(leaves.shape[1] // 2)]\n",
    "    leaves.columns = [f'X{i}' if j % 2 == 0 else f'Y{i}' \n",
    "                  for i in range(leaves.shape[1] // 2) for j in range(2)]\n",
    "    leaves.to_csv(f'{outputpath}/leaves.csv', index=False, header=False)\n",
    "    flat_true_tree_df = pd.DataFrame(flat_true_tree)\n",
    "    flat_true_tree_df.to_csv(f'{outputpath}/flat_true_tree.csv', index=False, header=False) "
   ]
  },
  {
   "cell_type": "code",
   "execution_count": null,
   "id": "eb9801bc",
   "metadata": {},
   "outputs": [],
   "source": []
  },
  {
   "cell_type": "code",
   "execution_count": null,
   "id": "75afb2bb",
   "metadata": {},
   "outputs": [],
   "source": []
  },
  {
   "cell_type": "code",
   "execution_count": null,
   "id": "9a8a91ac",
   "metadata": {},
   "outputs": [],
   "source": []
  },
  {
   "cell_type": "code",
   "execution_count": null,
   "id": "328f1322",
   "metadata": {},
   "outputs": [],
   "source": []
  }
 ],
 "metadata": {
  "kernelspec": {
   "display_name": "SPMS",
   "language": "python",
   "name": "python3"
  },
  "language_info": {
   "codemirror_mode": {
    "name": "ipython",
    "version": 3
   },
   "file_extension": ".py",
   "mimetype": "text/x-python",
   "name": "python",
   "nbconvert_exporter": "python",
   "pygments_lexer": "ipython3",
   "version": "3.13.5"
  }
 },
 "nbformat": 4,
 "nbformat_minor": 5
}
