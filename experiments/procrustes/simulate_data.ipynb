{
 "cells": [
  {
   "cell_type": "code",
   "execution_count": 1,
   "id": "a2146b1c",
   "metadata": {},
   "outputs": [],
   "source": [
    "from ete3 import Tree\n",
    "import os\n",
    "import numpy as np \n",
    "import matplotlib.pyplot as plt\n",
    "import pandas as pd\n",
    "\n",
    "from physhapes.simulate import simulate_shapes\n",
    "from physhapes.helper_functions import get_flat_values_sim\n"
   ]
  },
  {
   "cell_type": "code",
   "execution_count": 2,
   "id": "a4e54d4f",
   "metadata": {},
   "outputs": [
    {
     "name": "stdout",
     "output_type": "stream",
     "text": [
      "\n",
      "      /-niepelti\n",
      "   /-|\n",
      "  |   \\-theseus\n",
      "--|\n",
      "  |   /-hercules\n",
      "   \\-|\n",
      "     |   /-amphitryon\n",
      "      \\-|\n",
      "         \\-telemachus\n"
     ]
    }
   ],
   "source": [
    "# load phylogeny \n",
    "tree = Tree('../data/chazot_subtree_rounded.nw')\n",
    "print(tree)\n",
    "# load root shape for simulation \n",
    "root = np.genfromtxt('../data/hercules_forewing_n=20.csv', delimiter=',')"
   ]
  },
  {
   "cell_type": "code",
   "execution_count": 3,
   "id": "e7181825",
   "metadata": {},
   "outputs": [
    {
     "name": "stdout",
     "output_type": "stream",
     "text": [
      "niepelti\n",
      "theseus\n",
      "hercules\n",
      "amphitryon\n",
      "telemachus\n",
      "[3, 4, 5, 7, 8]\n",
      "[0, 1, 2, 6]\n",
      "['niepelti', 'theseus', 'hercules', 'amphitryon', 'telemachus']\n"
     ]
    }
   ],
   "source": [
    "leafidx = []\n",
    "inneridx = []\n",
    "species = []\n",
    "i = 0\n",
    "for node in tree.traverse('levelorder'):\n",
    "    if node.is_leaf():\n",
    "        print(node.name)\n",
    "        leafidx.append(i)\n",
    "        species.append(node.name)\n",
    "    else:\n",
    "        inneridx.append(i)\n",
    "    i+=1\n",
    "print(leafidx)\n",
    "print(inneridx)\n",
    "print(species)"
   ]
  },
  {
   "cell_type": "code",
   "execution_count": 4,
   "id": "38f98172",
   "metadata": {},
   "outputs": [],
   "source": [
    "n_datasets = 20\n",
    "sigma = 0.6\n",
    "alpha = 0.025\n",
    "dt = 0.05\n",
    "rb = 0"
   ]
  },
  {
   "cell_type": "code",
   "execution_count": 5,
   "id": "f0816f27",
   "metadata": {},
   "outputs": [
    {
     "name": "stdout",
     "output_type": "stream",
     "text": [
      "Simulating dataset 1 out of 20 with seed 3913316537 \n",
      "Simulating dataset 2 out of 20 with seed 1855262077 \n",
      "Simulating dataset 3 out of 20 with seed 3993032834 \n",
      "Simulating dataset 4 out of 20 with seed 741734547 \n",
      "Simulating dataset 5 out of 20 with seed 2272736646 \n",
      "Simulating dataset 6 out of 20 with seed 1757368330 \n",
      "Simulating dataset 7 out of 20 with seed 3656166487 \n",
      "Simulating dataset 8 out of 20 with seed 2299487251 \n",
      "Simulating dataset 9 out of 20 with seed 2244973671 \n",
      "Simulating dataset 10 out of 20 with seed 3102274831 \n",
      "Simulating dataset 11 out of 20 with seed 864561893 \n",
      "Simulating dataset 12 out of 20 with seed 3972273939 \n",
      "Simulating dataset 13 out of 20 with seed 100793516 \n",
      "Simulating dataset 14 out of 20 with seed 1035959670 \n",
      "Simulating dataset 15 out of 20 with seed 2102194496 \n",
      "Simulating dataset 16 out of 20 with seed 1020511817 \n",
      "Simulating dataset 17 out of 20 with seed 3101549169 \n"
     ]
    },
    {
     "ename": "KeyboardInterrupt",
     "evalue": "",
     "output_type": "error",
     "traceback": [
      "\u001b[31m---------------------------------------------------------------------------\u001b[39m",
      "\u001b[31mKeyboardInterrupt\u001b[39m                         Traceback (most recent call last)",
      "\u001b[36mCell\u001b[39m\u001b[36m \u001b[39m\u001b[32mIn[5]\u001b[39m\u001b[32m, line 6\u001b[39m\n\u001b[32m      4\u001b[39m os.makedirs(outputpath, exist_ok=\u001b[38;5;28;01mTrue\u001b[39;00m)\n\u001b[32m      5\u001b[39m \u001b[38;5;28mprint\u001b[39m(\u001b[33mf\u001b[39m\u001b[33m'\u001b[39m\u001b[33mSimulating dataset \u001b[39m\u001b[38;5;132;01m{\u001b[39;00mi+\u001b[32m1\u001b[39m\u001b[38;5;132;01m}\u001b[39;00m\u001b[33m out of \u001b[39m\u001b[38;5;132;01m{\u001b[39;00mn_datasets\u001b[38;5;132;01m}\u001b[39;00m\u001b[33m with seed \u001b[39m\u001b[38;5;132;01m{\u001b[39;00mds\u001b[38;5;132;01m}\u001b[39;00m\u001b[33m \u001b[39m\u001b[33m'\u001b[39m)\n\u001b[32m----> \u001b[39m\u001b[32m6\u001b[39m simtree = simulate_shapes(ds=ds, dt=dt, sigma=sigma, alpha=alpha, root=root, tree=tree, rb=rb)\n\u001b[32m      7\u001b[39m flat_true_tree = np.array(get_flat_values_sim(simtree)) \n\u001b[32m      8\u001b[39m np.savetxt(\u001b[33mf\u001b[39m\u001b[33m'\u001b[39m\u001b[38;5;132;01m{\u001b[39;00moutputpath\u001b[38;5;132;01m}\u001b[39;00m\u001b[33m/flat_true_tree.csv\u001b[39m\u001b[33m'\u001b[39m, flat_true_tree, delimiter=\u001b[33m\"\u001b[39m\u001b[33m,\u001b[39m\u001b[33m\"\u001b[39m)\n",
      "\u001b[36mFile \u001b[39m\u001b[32m~/Library/CloudStorage/OneDrive-UniversityofCopenhagen/SPMS/src/physhapes/simulate.py:80\u001b[39m, in \u001b[36msimulate_shapes\u001b[39m\u001b[34m(ds, dt, sigma, alpha, root, tree, rb, d, outputfolder, sti)\u001b[39m\n\u001b[32m     78\u001b[39m     \u001b[38;5;66;03m#children = [tree.children[0],tree.children[1]]\u001b[39;00m\n\u001b[32m     79\u001b[39m     dWs_children = [dtsdWsT(tree.children[i],subkeys[i], \u001b[38;5;28;01mlambda\u001b[39;00m ckey, _dts: dWs(n*d,ckey, _dts)) \u001b[38;5;28;01mfor\u001b[39;00m i \u001b[38;5;129;01min\u001b[39;00m \u001b[38;5;28mrange\u001b[39m(\u001b[38;5;28mlen\u001b[39m(tree.children))]\n\u001b[32m---> \u001b[39m\u001b[32m80\u001b[39m     stree = [_dts, _dWs, Xscirc, [simulate_tree(Xscirc[-\u001b[32m1\u001b[39m], b, sigma, theta_true, dtsdWs_child) \u001b[38;5;28;01mfor\u001b[39;00m dtsdWs_child \u001b[38;5;129;01min\u001b[39;00m dWs_children]]\n\u001b[32m     81\u001b[39m \u001b[38;5;28;01melse\u001b[39;00m:\n\u001b[32m     82\u001b[39m     stree = simulate_tree(root, b, sigma, theta_true, dtsdWsT(tree,subkey, \u001b[38;5;28;01mlambda\u001b[39;00m ckey, _dts: dWs(n*d,ckey, _dts)))\n",
      "\u001b[36mFile \u001b[39m\u001b[32m~/Library/CloudStorage/OneDrive-UniversityofCopenhagen/SPMS/src/physhapes/simulate.py:9\u001b[39m, in \u001b[36msimulate_tree\u001b[39m\u001b[34m(x, b, sigma, theta, dtsdWsT)\u001b[39m\n\u001b[32m      7\u001b[39m \u001b[38;5;28;01mdef\u001b[39;00m\u001b[38;5;250m \u001b[39m\u001b[34msimulate_tree\u001b[39m(x, b, sigma, theta, dtsdWsT):\n\u001b[32m      8\u001b[39m     (dts,dWs),dWs_children = dtsdWsT\n\u001b[32m----> \u001b[39m\u001b[32m9\u001b[39m     Xscirc = ito_integrator(x,b,sigma,dts,dWs,theta) \u001b[38;5;66;03m# forward sample\u001b[39;00m\n\u001b[32m     10\u001b[39m     \u001b[38;5;28;01mreturn\u001b[39;00m dts, dWs, Xscirc, [simulate_tree(Xscirc[-\u001b[32m1\u001b[39m],b, sigma,theta, dtsdWs_child) \n\u001b[32m     11\u001b[39m                                   \u001b[38;5;28;01mfor\u001b[39;00m dtsdWs_child \u001b[38;5;129;01min\u001b[39;00m dWs_children]\n",
      "\u001b[36mFile \u001b[39m\u001b[32m~/Library/CloudStorage/OneDrive-UniversityofCopenhagen/SPMS/src/physhapes/setup_SDEs.py:29\u001b[39m, in \u001b[36mito_integrator\u001b[39m\u001b[34m(x, b, sigma, _dts, _dWs, theta)\u001b[39m\n\u001b[32m     27\u001b[39m \u001b[38;5;28;01mdef\u001b[39;00m\u001b[38;5;250m \u001b[39m\u001b[34mito_integrator\u001b[39m(x, b, sigma, _dts, _dWs, theta):\n\u001b[32m     28\u001b[39m     _ito = partial(ito, b=b, sigma=sigma, theta=theta)\n\u001b[32m---> \u001b[39m\u001b[32m29\u001b[39m     (T, X), (ts, Xs)=jax.lax.scan(_ito,(\u001b[32m0.\u001b[39m, x),(_dts, _dWs))\n\u001b[32m     30\u001b[39m     Xs = jnp.vstack((Xs, X))\n\u001b[32m     31\u001b[39m     \u001b[38;5;28;01mreturn\u001b[39;00m(Xs)\n",
      "    \u001b[31m[... skipping hidden 1 frame]\u001b[39m\n",
      "\u001b[36mFile \u001b[39m\u001b[32m/opt/miniconda3/envs/SPMS/lib/python3.13/site-packages/jax/_src/lax/control_flow/loops.py:353\u001b[39m, in \u001b[36mscan\u001b[39m\u001b[34m(f, init, xs, length, reverse, unroll, _split_transpose)\u001b[39m\n\u001b[32m    347\u001b[39m ext_to_ext_fwd = [\n\u001b[32m    348\u001b[39m     in_idx - \u001b[38;5;28mlen\u001b[39m(consts) \u001b[38;5;28;01mif\u001b[39;00m in_idx \u001b[38;5;129;01mis\u001b[39;00m \u001b[38;5;129;01mnot\u001b[39;00m \u001b[38;5;28;01mNone\u001b[39;00m \u001b[38;5;129;01mand\u001b[39;00m\n\u001b[32m    349\u001b[39m     in_idx >= num_carry + \u001b[38;5;28mlen\u001b[39m(consts) \u001b[38;5;28;01melse\u001b[39;00m \u001b[38;5;28;01mNone\u001b[39;00m \u001b[38;5;28;01mfor\u001b[39;00m in_idx \u001b[38;5;129;01min\u001b[39;00m ext_fwd]\n\u001b[32m    350\u001b[39m jaxpr = pe.prune_closed_jaxpr_outputs(\n\u001b[32m    351\u001b[39m     jaxpr, [\u001b[38;5;28;01mTrue\u001b[39;00m] * num_carry + [i \u001b[38;5;129;01mis\u001b[39;00m \u001b[38;5;28;01mNone\u001b[39;00m \u001b[38;5;28;01mfor\u001b[39;00m i \u001b[38;5;129;01min\u001b[39;00m ext_to_ext_fwd])\n\u001b[32m--> \u001b[39m\u001b[32m353\u001b[39m out = scan_p.bind(*consts, *in_flat,\n\u001b[32m    354\u001b[39m                   reverse=reverse, length=length, jaxpr=jaxpr,\n\u001b[32m    355\u001b[39m                   num_consts=\u001b[38;5;28mlen\u001b[39m(consts), num_carry=num_carry,\n\u001b[32m    356\u001b[39m                   linear=(\u001b[38;5;28;01mFalse\u001b[39;00m,) * (\u001b[38;5;28mlen\u001b[39m(consts) + \u001b[38;5;28mlen\u001b[39m(in_flat)),\n\u001b[32m    357\u001b[39m                   unroll=unroll, _split_transpose=_split_transpose)\n\u001b[32m    359\u001b[39m \u001b[38;5;66;03m# Apply input to output forwarding that was computed above.\u001b[39;00m\n\u001b[32m    360\u001b[39m carry_out, out = split_list(out, [num_carry])\n",
      "\u001b[36mFile \u001b[39m\u001b[32m/opt/miniconda3/envs/SPMS/lib/python3.13/site-packages/jax/_src/core.py:576\u001b[39m, in \u001b[36mPrimitive.bind\u001b[39m\u001b[34m(self, *args, **params)\u001b[39m\n\u001b[32m    574\u001b[39m \u001b[38;5;28;01mdef\u001b[39;00m\u001b[38;5;250m \u001b[39m\u001b[34mbind\u001b[39m(\u001b[38;5;28mself\u001b[39m, *args, **params):\n\u001b[32m    575\u001b[39m   args = args \u001b[38;5;28;01mif\u001b[39;00m \u001b[38;5;28mself\u001b[39m.skip_canonicalization \u001b[38;5;28;01melse\u001b[39;00m \u001b[38;5;28mmap\u001b[39m(canonicalize_value, args)\n\u001b[32m--> \u001b[39m\u001b[32m576\u001b[39m   \u001b[38;5;28;01mreturn\u001b[39;00m \u001b[38;5;28mself\u001b[39m._true_bind(*args, **params)\n",
      "\u001b[36mFile \u001b[39m\u001b[32m/opt/miniconda3/envs/SPMS/lib/python3.13/site-packages/jax/_src/core.py:592\u001b[39m, in \u001b[36mPrimitive._true_bind\u001b[39m\u001b[34m(self, *args, **params)\u001b[39m\n\u001b[32m    590\u001b[39m trace_ctx.set_trace(eval_trace)\n\u001b[32m    591\u001b[39m \u001b[38;5;28;01mtry\u001b[39;00m:\n\u001b[32m--> \u001b[39m\u001b[32m592\u001b[39m   \u001b[38;5;28;01mreturn\u001b[39;00m \u001b[38;5;28mself\u001b[39m.bind_with_trace(prev_trace, args, params)\n\u001b[32m    593\u001b[39m \u001b[38;5;28;01mfinally\u001b[39;00m:\n\u001b[32m    594\u001b[39m   trace_ctx.set_trace(prev_trace)\n",
      "\u001b[36mFile \u001b[39m\u001b[32m/opt/miniconda3/envs/SPMS/lib/python3.13/site-packages/jax/_src/core.py:602\u001b[39m, in \u001b[36mPrimitive.bind_with_trace\u001b[39m\u001b[34m(self, trace, args, params)\u001b[39m\n\u001b[32m    599\u001b[39m   \u001b[38;5;28;01mwith\u001b[39;00m set_current_trace(trace):\n\u001b[32m    600\u001b[39m     \u001b[38;5;28;01mreturn\u001b[39;00m \u001b[38;5;28mself\u001b[39m.to_lojax(*args, **params)  \u001b[38;5;66;03m# type: ignore\u001b[39;00m\n\u001b[32m--> \u001b[39m\u001b[32m602\u001b[39m \u001b[38;5;28;01mreturn\u001b[39;00m trace.process_primitive(\u001b[38;5;28mself\u001b[39m, args, params)\n",
      "\u001b[36mFile \u001b[39m\u001b[32m/opt/miniconda3/envs/SPMS/lib/python3.13/site-packages/jax/_src/core.py:1126\u001b[39m, in \u001b[36mEvalTrace.process_primitive\u001b[39m\u001b[34m(self, primitive, args, params)\u001b[39m\n\u001b[32m   1124\u001b[39m args = \u001b[38;5;28mmap\u001b[39m(full_lower, args)\n\u001b[32m   1125\u001b[39m check_eval_args(args)\n\u001b[32m-> \u001b[39m\u001b[32m1126\u001b[39m \u001b[38;5;28;01mreturn\u001b[39;00m primitive.impl(*args, **params)\n",
      "\u001b[36mFile \u001b[39m\u001b[32m/opt/miniconda3/envs/SPMS/lib/python3.13/site-packages/jax/_src/dispatch.py:91\u001b[39m, in \u001b[36mapply_primitive\u001b[39m\u001b[34m(prim, *args, **params)\u001b[39m\n\u001b[32m     89\u001b[39m prev = lib.jax_jit.swap_thread_local_state_disable_jit(\u001b[38;5;28;01mFalse\u001b[39;00m)\n\u001b[32m     90\u001b[39m \u001b[38;5;28;01mtry\u001b[39;00m:\n\u001b[32m---> \u001b[39m\u001b[32m91\u001b[39m   outs = fun(*args)\n\u001b[32m     92\u001b[39m \u001b[38;5;28;01mfinally\u001b[39;00m:\n\u001b[32m     93\u001b[39m   lib.jax_jit.swap_thread_local_state_disable_jit(prev)\n",
      "    \u001b[31m[... skipping hidden 1 frame]\u001b[39m\n",
      "\u001b[36mFile \u001b[39m\u001b[32m/opt/miniconda3/envs/SPMS/lib/python3.13/site-packages/jax/_src/pjit.py:260\u001b[39m, in \u001b[36m_cpp_pjit.<locals>.cache_miss\u001b[39m\u001b[34m(*args, **kwargs)\u001b[39m\n\u001b[32m    255\u001b[39m \u001b[38;5;28;01mif\u001b[39;00m config.no_tracing.value:\n\u001b[32m    256\u001b[39m   \u001b[38;5;28;01mraise\u001b[39;00m \u001b[38;5;167;01mRuntimeError\u001b[39;00m(\u001b[33mf\u001b[39m\u001b[33m\"\u001b[39m\u001b[33mre-tracing function \u001b[39m\u001b[38;5;132;01m{\u001b[39;00mjit_info.fun_sourceinfo\u001b[38;5;132;01m}\u001b[39;00m\u001b[33m for \u001b[39m\u001b[33m\"\u001b[39m\n\u001b[32m    257\u001b[39m                      \u001b[33m\"\u001b[39m\u001b[33m`jit`, but \u001b[39m\u001b[33m'\u001b[39m\u001b[33mno_tracing\u001b[39m\u001b[33m'\u001b[39m\u001b[33m is set\u001b[39m\u001b[33m\"\u001b[39m)\n\u001b[32m    259\u001b[39m outs, out_flat, out_tree, args_flat, jaxpr, executable, pgle_profiler = \\\n\u001b[32m--> \u001b[39m\u001b[32m260\u001b[39m     _python_pjit_helper(fun, jit_info, *args, **kwargs)\n\u001b[32m    262\u001b[39m maybe_fastpath_data = _get_fastpath_data(\n\u001b[32m    263\u001b[39m     executable, out_tree, args_flat, out_flat, jaxpr.effects, jaxpr.consts,\n\u001b[32m    264\u001b[39m     jit_info.abstracted_axes, pgle_profiler)\n\u001b[32m    266\u001b[39m \u001b[38;5;28;01mreturn\u001b[39;00m outs, maybe_fastpath_data, _need_to_rebuild_with_fdo(pgle_profiler)\n",
      "\u001b[36mFile \u001b[39m\u001b[32m/opt/miniconda3/envs/SPMS/lib/python3.13/site-packages/jax/_src/pjit.py:147\u001b[39m, in \u001b[36m_python_pjit_helper\u001b[39m\u001b[34m(fun, jit_info, *args, **kwargs)\u001b[39m\n\u001b[32m    145\u001b[39m   args_flat = \u001b[38;5;28mmap\u001b[39m(core.full_lower, args_flat)\n\u001b[32m    146\u001b[39m   core.check_eval_args(args_flat)\n\u001b[32m--> \u001b[39m\u001b[32m147\u001b[39m   out_flat, compiled, profiler = _pjit_call_impl_python(*args_flat, **p.params)\n\u001b[32m    148\u001b[39m \u001b[38;5;28;01melse\u001b[39;00m:\n\u001b[32m    149\u001b[39m   out_flat = jit_p.bind(*args_flat, **p.params)\n",
      "\u001b[36mFile \u001b[39m\u001b[32m/opt/miniconda3/envs/SPMS/lib/python3.13/site-packages/jax/_src/pjit.py:1755\u001b[39m, in \u001b[36m_pjit_call_impl_python\u001b[39m\u001b[34m(jaxpr, in_shardings, out_shardings, in_layouts, out_layouts, donated_invars, ctx_mesh, name, keep_unused, inline, compiler_options_kvs, *args)\u001b[39m\n\u001b[32m   1743\u001b[39m compiler_options_kvs = compiler_options_kvs + \u001b[38;5;28mtuple\u001b[39m(pgle_compile_options.items())\n\u001b[32m   1744\u001b[39m \u001b[38;5;66;03m# Passing mutable PGLE profile here since it should be extracted by JAXPR to\u001b[39;00m\n\u001b[32m   1745\u001b[39m \u001b[38;5;66;03m# initialize the fdo_profile compile option.\u001b[39;00m\n\u001b[32m   1746\u001b[39m compiled = _resolve_and_lower(\n\u001b[32m   1747\u001b[39m     args, jaxpr=jaxpr, in_shardings=in_shardings,\n\u001b[32m   1748\u001b[39m     out_shardings=out_shardings, in_layouts=in_layouts,\n\u001b[32m   1749\u001b[39m     out_layouts=out_layouts, donated_invars=donated_invars,\n\u001b[32m   1750\u001b[39m     ctx_mesh=ctx_mesh, name=name, keep_unused=keep_unused,\n\u001b[32m   1751\u001b[39m     inline=inline, lowering_platforms=\u001b[38;5;28;01mNone\u001b[39;00m,\n\u001b[32m   1752\u001b[39m     lowering_parameters=mlir.LoweringParameters(),\n\u001b[32m   1753\u001b[39m     pgle_profiler=pgle_profiler,\n\u001b[32m   1754\u001b[39m     compiler_options_kvs=compiler_options_kvs,\n\u001b[32m-> \u001b[39m\u001b[32m1755\u001b[39m ).compile()\n\u001b[32m   1757\u001b[39m \u001b[38;5;66;03m# This check is expensive so only do it if enable_checks is on.\u001b[39;00m\n\u001b[32m   1758\u001b[39m \u001b[38;5;28;01mif\u001b[39;00m compiled._auto_spmd_lowering \u001b[38;5;129;01mand\u001b[39;00m config.enable_checks.value:\n",
      "\u001b[36mFile \u001b[39m\u001b[32m/opt/miniconda3/envs/SPMS/lib/python3.13/site-packages/jax/_src/interpreters/pxla.py:2436\u001b[39m, in \u001b[36mMeshComputation.compile\u001b[39m\u001b[34m(self, compiler_options, device_assignment)\u001b[39m\n\u001b[32m   2433\u001b[39m \u001b[38;5;28;01massert\u001b[39;00m \u001b[38;5;28misinstance\u001b[39m(compilation_device_list, (\u001b[38;5;28mtype\u001b[39m(\u001b[38;5;28;01mNone\u001b[39;00m), xc.DeviceList))\n\u001b[32m   2435\u001b[39m \u001b[38;5;28;01mif\u001b[39;00m \u001b[38;5;28mself\u001b[39m._executable \u001b[38;5;129;01mis\u001b[39;00m \u001b[38;5;28;01mNone\u001b[39;00m \u001b[38;5;129;01mor\u001b[39;00m compiler_options_kvs \u001b[38;5;129;01mor\u001b[39;00m device_assignment:\n\u001b[32m-> \u001b[39m\u001b[32m2436\u001b[39m   executable = UnloadedMeshExecutable.from_hlo(\n\u001b[32m   2437\u001b[39m       \u001b[38;5;28mself\u001b[39m._name, \u001b[38;5;28mself\u001b[39m._hlo, **\u001b[38;5;28mself\u001b[39m.compile_args,\n\u001b[32m   2438\u001b[39m       compiler_options_kvs=compiler_options_kvs,\n\u001b[32m   2439\u001b[39m       device_list=compilation_device_list)\n\u001b[32m   2440\u001b[39m   \u001b[38;5;28;01mif\u001b[39;00m \u001b[38;5;129;01mnot\u001b[39;00m compiler_options_kvs:\n\u001b[32m   2441\u001b[39m     \u001b[38;5;28mself\u001b[39m._executable = executable\n",
      "\u001b[36mFile \u001b[39m\u001b[32m/opt/miniconda3/envs/SPMS/lib/python3.13/site-packages/jax/_src/interpreters/pxla.py:2997\u001b[39m, in \u001b[36mUnloadedMeshExecutable.from_hlo\u001b[39m\u001b[34m(***failed resolving arguments***)\u001b[39m\n\u001b[32m   2994\u001b[39m       \u001b[38;5;28;01mbreak\u001b[39;00m\n\u001b[32m   2996\u001b[39m util.test_event(\u001b[33m\"\u001b[39m\u001b[33mpxla_cached_compilation\u001b[39m\u001b[33m\"\u001b[39m)\n\u001b[32m-> \u001b[39m\u001b[32m2997\u001b[39m xla_executable = _cached_compilation(\n\u001b[32m   2998\u001b[39m     hlo, name, mesh, spmd_lowering,\n\u001b[32m   2999\u001b[39m     tuple_args, auto_spmd_lowering, allow_prop_to_inputs,\n\u001b[32m   3000\u001b[39m     allow_prop_to_outputs, \u001b[38;5;28mtuple\u001b[39m(host_callbacks), backend, device_list,\n\u001b[32m   3001\u001b[39m     pmap_nreps, compiler_options_kvs, pgle_profiler)\n\u001b[32m   3003\u001b[39m \u001b[38;5;28;01mif\u001b[39;00m auto_spmd_lowering:\n\u001b[32m   3004\u001b[39m   \u001b[38;5;28;01massert\u001b[39;00m mesh \u001b[38;5;129;01mis\u001b[39;00m \u001b[38;5;129;01mnot\u001b[39;00m \u001b[38;5;28;01mNone\u001b[39;00m\n",
      "\u001b[36mFile \u001b[39m\u001b[32m/opt/miniconda3/envs/SPMS/lib/python3.13/site-packages/jax/_src/interpreters/pxla.py:2779\u001b[39m, in \u001b[36m_cached_compilation\u001b[39m\u001b[34m(computation, name, mesh, spmd_lowering, tuple_args, auto_spmd_lowering, allow_prop_to_inputs, allow_prop_to_outputs, host_callbacks, backend, da, pmap_nreps, compiler_options_kvs, pgle_profiler)\u001b[39m\n\u001b[32m   2771\u001b[39m compile_options = create_compile_options(\n\u001b[32m   2772\u001b[39m     computation, mesh, spmd_lowering, tuple_args, auto_spmd_lowering,\n\u001b[32m   2773\u001b[39m     allow_prop_to_inputs, allow_prop_to_outputs, backend,\n\u001b[32m   2774\u001b[39m     dev, pmap_nreps, compiler_options)\n\u001b[32m   2776\u001b[39m \u001b[38;5;28;01mwith\u001b[39;00m dispatch.log_elapsed_time(\n\u001b[32m   2777\u001b[39m     \u001b[33m\"\u001b[39m\u001b[33mFinished XLA compilation of \u001b[39m\u001b[38;5;132;01m{fun_name}\u001b[39;00m\u001b[33m in \u001b[39m\u001b[38;5;132;01m{elapsed_time:.9f}\u001b[39;00m\u001b[33m sec\u001b[39m\u001b[33m\"\u001b[39m,\n\u001b[32m   2778\u001b[39m     fun_name=name, event=dispatch.BACKEND_COMPILE_EVENT):\n\u001b[32m-> \u001b[39m\u001b[32m2779\u001b[39m   xla_executable = compiler.compile_or_get_cached(\n\u001b[32m   2780\u001b[39m       backend, computation, dev, compile_options, host_callbacks,\n\u001b[32m   2781\u001b[39m       da, pgle_profiler)\n\u001b[32m   2782\u001b[39m \u001b[38;5;28;01mreturn\u001b[39;00m xla_executable\n",
      "\u001b[36mFile \u001b[39m\u001b[32m/opt/miniconda3/envs/SPMS/lib/python3.13/site-packages/jax/_src/compiler.py:492\u001b[39m, in \u001b[36mcompile_or_get_cached\u001b[39m\u001b[34m(backend, computation, devices, compile_options, host_callbacks, executable_devices, pgle_profiler)\u001b[39m\n\u001b[32m    490\u001b[39m \u001b[38;5;28;01melse\u001b[39;00m:\n\u001b[32m    491\u001b[39m   log_persistent_cache_miss(module_name, cache_key)\n\u001b[32m--> \u001b[39m\u001b[32m492\u001b[39m   \u001b[38;5;28;01mreturn\u001b[39;00m _compile_and_write_cache(\n\u001b[32m    493\u001b[39m       backend,\n\u001b[32m    494\u001b[39m       computation,\n\u001b[32m    495\u001b[39m       executable_devices,\n\u001b[32m    496\u001b[39m       compile_options,\n\u001b[32m    497\u001b[39m       host_callbacks,\n\u001b[32m    498\u001b[39m       module_name,\n\u001b[32m    499\u001b[39m       cache_key,\n\u001b[32m    500\u001b[39m   )\n",
      "\u001b[36mFile \u001b[39m\u001b[32m/opt/miniconda3/envs/SPMS/lib/python3.13/site-packages/jax/_src/compiler.py:760\u001b[39m, in \u001b[36m_compile_and_write_cache\u001b[39m\u001b[34m(backend, computation, executable_devices, compile_options, host_callbacks, module_name, cache_key)\u001b[39m\n\u001b[32m    750\u001b[39m \u001b[38;5;28;01mdef\u001b[39;00m\u001b[38;5;250m \u001b[39m\u001b[34m_compile_and_write_cache\u001b[39m(\n\u001b[32m    751\u001b[39m     backend: xc.Client,\n\u001b[32m    752\u001b[39m     computation: ir.Module,\n\u001b[32m   (...)\u001b[39m\u001b[32m    757\u001b[39m     cache_key: \u001b[38;5;28mstr\u001b[39m,\n\u001b[32m    758\u001b[39m ) -> xc.LoadedExecutable:\n\u001b[32m    759\u001b[39m   start_time = time.monotonic()\n\u001b[32m--> \u001b[39m\u001b[32m760\u001b[39m   executable = backend_compile_and_load(\n\u001b[32m    761\u001b[39m       backend, computation, executable_devices, compile_options, host_callbacks\n\u001b[32m    762\u001b[39m   )\n\u001b[32m    763\u001b[39m   compile_time = time.monotonic() - start_time\n\u001b[32m    764\u001b[39m   _cache_write(\n\u001b[32m    765\u001b[39m       cache_key, compile_time, module_name, backend, executable, host_callbacks\n\u001b[32m    766\u001b[39m   )\n",
      "\u001b[36mFile \u001b[39m\u001b[32m/opt/miniconda3/envs/SPMS/lib/python3.13/site-packages/jax/_src/profiler.py:354\u001b[39m, in \u001b[36mannotate_function.<locals>.wrapper\u001b[39m\u001b[34m(*args, **kwargs)\u001b[39m\n\u001b[32m    351\u001b[39m \u001b[38;5;129m@wraps\u001b[39m(func)\n\u001b[32m    352\u001b[39m \u001b[38;5;28;01mdef\u001b[39;00m\u001b[38;5;250m \u001b[39m\u001b[34mwrapper\u001b[39m(*args, **kwargs):\n\u001b[32m    353\u001b[39m   \u001b[38;5;28;01mwith\u001b[39;00m TraceAnnotation(name, **decorator_kwargs):\n\u001b[32m--> \u001b[39m\u001b[32m354\u001b[39m     \u001b[38;5;28;01mreturn\u001b[39;00m func(*args, **kwargs)\n",
      "\u001b[36mFile \u001b[39m\u001b[32m/opt/miniconda3/envs/SPMS/lib/python3.13/site-packages/jax/_src/compiler.py:377\u001b[39m, in \u001b[36mbackend_compile_and_load\u001b[39m\u001b[34m(backend, module, executable_devices, options, host_callbacks)\u001b[39m\n\u001b[32m    368\u001b[39m       \u001b[38;5;28;01mreturn\u001b[39;00m backend.compile_and_load(\n\u001b[32m    369\u001b[39m           built_c,\n\u001b[32m    370\u001b[39m           executable_devices=executable_devices,\n\u001b[32m    371\u001b[39m           compile_options=options,\n\u001b[32m    372\u001b[39m           host_callbacks=host_callbacks,\n\u001b[32m    373\u001b[39m       )\n\u001b[32m    374\u001b[39m     \u001b[38;5;66;03m# Some backends don't have `host_callbacks` option yet\u001b[39;00m\n\u001b[32m    375\u001b[39m     \u001b[38;5;66;03m# TODO(sharadmv): remove this fallback when all backends allow `compile`\u001b[39;00m\n\u001b[32m    376\u001b[39m     \u001b[38;5;66;03m# to take in `host_callbacks`\u001b[39;00m\n\u001b[32m--> \u001b[39m\u001b[32m377\u001b[39m     \u001b[38;5;28;01mreturn\u001b[39;00m backend.compile_and_load(\n\u001b[32m    378\u001b[39m         built_c,\n\u001b[32m    379\u001b[39m         executable_devices=executable_devices,\n\u001b[32m    380\u001b[39m         compile_options=options,\n\u001b[32m    381\u001b[39m     )\n\u001b[32m    382\u001b[39m \u001b[38;5;28;01mexcept\u001b[39;00m xc.XlaRuntimeError \u001b[38;5;28;01mas\u001b[39;00m e:\n\u001b[32m    383\u001b[39m   \u001b[38;5;28;01mfor\u001b[39;00m error_handler \u001b[38;5;129;01min\u001b[39;00m _XLA_RUNTIME_ERROR_HANDLERS:\n",
      "\u001b[31mKeyboardInterrupt\u001b[39m: "
     ]
    }
   ],
   "source": [
    "for i in range(n_datasets):\n",
    "    ds = np.random.randint(0, 2**32)\n",
    "    outputpath = f'sigma={sigma}_alpha={alpha}_dt={dt}/seed={ds}'\n",
    "    os.makedirs(outputpath, exist_ok=True)\n",
    "    print(f'Simulating dataset {i+1} out of {n_datasets} with seed {ds} ')\n",
    "    simtree = simulate_shapes(ds=ds, dt=dt, sigma=sigma, alpha=alpha, root=root, tree=tree, rb=rb)\n",
    "    flat_true_tree = np.array(get_flat_values_sim(simtree)) \n",
    "    np.savetxt(f'{outputpath}/flat_true_tree.csv', flat_true_tree, delimiter=\",\")\n",
    "    [plt.plot(flat_true_tree[idx][0::2], flat_true_tree[idx][1::2], '--o', markersize=3, label='Simulated data') for idx in leafidx]\n",
    "    plt.savefig(f'{outputpath}/simulated_leaves.pdf', bbox_inches='tight')  \n",
    "    plt.close()\n",
    "    \n",
    "    leaves = pd.DataFrame(flat_true_tree[leafidx, :], index=species)\n",
    "    #leaves.columns = [['X'+str(i), 'Y'+str(i)] for i in range(leaves.shape[1] // 2)]\n",
    "    leaves.columns = [f'X{i}' if j % 2 == 0 else f'Y{i}' \n",
    "                  for i in range(leaves.shape[1] // 2) for j in range(2)]\n",
    "    leaves.to_csv(f'{outputpath}/leaves.csv', index=False, header=False)\n",
    "    flat_true_tree_df = pd.DataFrame(flat_true_tree)\n",
    "    flat_true_tree_df.to_csv(f'{outputpath}/flat_true_tree.csv', index=False, header=False) "
   ]
  },
  {
   "cell_type": "code",
   "execution_count": null,
   "id": "eb9801bc",
   "metadata": {},
   "outputs": [],
   "source": []
  },
  {
   "cell_type": "code",
   "execution_count": null,
   "id": "75afb2bb",
   "metadata": {},
   "outputs": [],
   "source": []
  },
  {
   "cell_type": "code",
   "execution_count": null,
   "id": "9a8a91ac",
   "metadata": {},
   "outputs": [],
   "source": []
  },
  {
   "cell_type": "code",
   "execution_count": null,
   "id": "328f1322",
   "metadata": {},
   "outputs": [],
   "source": []
  }
 ],
 "metadata": {
  "kernelspec": {
   "display_name": "SPMS",
   "language": "python",
   "name": "python3"
  },
  "language_info": {
   "codemirror_mode": {
    "name": "ipython",
    "version": 3
   },
   "file_extension": ".py",
   "mimetype": "text/x-python",
   "name": "python",
   "nbconvert_exporter": "python",
   "pygments_lexer": "ipython3",
   "version": "3.13.5"
  }
 },
 "nbformat": 4,
 "nbformat_minor": 5
}
