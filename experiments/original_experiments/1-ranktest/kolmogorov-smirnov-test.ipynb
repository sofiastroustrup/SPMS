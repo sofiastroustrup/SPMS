{
 "cells": [
  {
   "cell_type": "code",
   "execution_count": 3,
   "metadata": {},
   "outputs": [],
   "source": [
    "import os\n",
    "import numpy as np\n",
    "import matplotlib.pyplot as plt\n",
    "import scipy "
   ]
  },
  {
   "cell_type": "markdown",
   "metadata": {},
   "source": [
    "# Kolmogorov-Smirnov test \n",
    "In this notebook we provide the code used for carrying out a Kolmogorov-Smirnov test in for the SBC. "
   ]
  },
  {
   "cell_type": "code",
   "execution_count": 5,
   "metadata": {},
   "outputs": [
    {
     "name": "stdout",
     "output_type": "stream",
     "text": [
      "['9674556098655156', '18700432274776213', '30429446992157503', '90849722873644648', '41755986115290599', '62997046336084773', '85391614096545007', '21404740432090790', '67855982124208903', '28586596323144229', '58533480461832464', '76224234038895386', '85480232375402055', '58358840425350604', '81687392501552613', '54840232720046073', '68194055844923624', '80210069330650986', '46030474277614981', '80791734420679377', '10398070428630118', '91635330682532182', '51550678282095355', '39632560095419664', '37385460610258721', '14413502938691930', '92471980015705348', '47989456319179394', '88348749514565830', '77894135034492286', '99928736335880867', '84233005379373428', '25471448139883117', '47633459462633850', '47521162963208594', '98897419427499140', '25913534165034601', '50258436239942354', '31649733123904478', '70515420850538573', '33509783100923938', '86725968085599542', '47038153262495700', '38125610668333119', '15525519432459495', '80788646513981273', '24226169555019545', '19842905360159574', '52179369700414378', '58831263596558646', '67936600989766260', '22142200803689280', '98739911221836052', '12078537373791567', '59730603007898127', '56926930288597278', '68093481642356813', '49981796731560557', '78898748194688304', '76260520519571905', '94549281127773238', '48971406997293544', '97394274230520097', '50524085760533000', '63120240441109955', '5541921293172896', '30248298727336680', '56263287758542468', '9322645217630202', '26775067677103865', '62917380683206131', '30426470566239682', '110859861356748', '96572904277234270', '17243726591149201', '389293793370968', '67357584310496547', '77379855929257747', '79201565882020820', '26738504691830790', '44235505776566716', '52015491973612782', '39644038491020468', '9735778552495925', '54885973717531917', '57948933689172407', '37286855888557641', '38436200663277071', '86016158650683668', '32415042154607940', '74932420875916288', '94123872329170968', '50064620706931863', '88803533849220266', '39767071937603506', '27217478665143337', '72257508486589623', '5932217184282612', '24423185436207997', '77480552249944076']\n"
     ]
    }
   ],
   "source": [
    "datapath = '../_BM14/runs'\n",
    "datasets = os.listdir(datapath)\n",
    "bfolder_ignore = ['.DS_Store', 'figures']\n",
    "[datasets.remove(bi) for bi in bfolder_ignore if bi in datasets] \n",
    "print(datasets)"
   ]
  },
  {
   "cell_type": "code",
   "execution_count": 6,
   "metadata": {},
   "outputs": [],
   "source": [
    "ranks_gtheta = []\n",
    "ranks_kalpha = []\n",
    "ranks_paths = []\n",
    "for dataset in datasets: \n",
    "    rank_g = np.genfromtxt(datapath+'/'+dataset+'/_ri_gtheta.csv', delimiter=',')\n",
    "    ranks_gtheta.append(rank_g)\n",
    "    rank_k = np.genfromtxt(datapath+'/'+dataset+'/_ri_kalpha.csv', delimiter=',')\n",
    "    ranks_kalpha.append(rank_k)\n",
    "    rank_ = np.genfromtxt(datapath+'/'+dataset+'/_ri.csv')\n",
    "    ranks_paths.append(rank_)\n",
    "ranks_gtheta = np.array(ranks_gtheta)\n",
    "ranks_kalpha = np.array(ranks_kalpha)\n",
    "ranks_paths = np.array(ranks_paths)"
   ]
  },
  {
   "cell_type": "code",
   "execution_count": 11,
   "metadata": {},
   "outputs": [
    {
     "name": "stdout",
     "output_type": "stream",
     "text": [
      "(100, 4, 40)\n"
     ]
    }
   ],
   "source": [
    "ranks_inner = ranks_paths[:,[0, 1, 2, 6],:]\n",
    "print(ranks_inner.shape)\n",
    "pvals = []\n",
    "pvals.append(scipy.stats.kstest(rvs=ranks_gtheta, cdf='uniform', args=(0, 1))[1])\n",
    "pvals.append(scipy.stats.kstest(rvs=ranks_kalpha, cdf='uniform', args=(0, 1))[1])\n"
   ]
  },
  {
   "cell_type": "code",
   "execution_count": 12,
   "metadata": {},
   "outputs": [],
   "source": [
    "for node in range(ranks_inner.shape[1]):\n",
    "    for dim in range(ranks_inner.shape[2]):\n",
    "        pvals.append(scipy.stats.kstest(rvs=ranks_inner[:,node,dim], cdf='uniform', args=(0, 1))[1])"
   ]
  },
  {
   "cell_type": "code",
   "execution_count": 13,
   "metadata": {},
   "outputs": [
    {
     "data": {
      "text/plain": [
       "np.int64(1)"
      ]
     },
     "execution_count": 13,
     "metadata": {},
     "output_type": "execute_result"
    }
   ],
   "source": [
    "sum(np.array(pvals)<0.01)"
   ]
  },
  {
   "cell_type": "code",
   "execution_count": 14,
   "metadata": {},
   "outputs": [
    {
     "data": {
      "text/plain": [
       "(array([16., 22., 11., 17., 20., 21., 15., 13., 16., 11.]),\n",
       " array([0.0090608 , 0.10441657, 0.19977234, 0.29512811, 0.39048388,\n",
       "        0.48583965, 0.58119542, 0.67655119, 0.77190696, 0.86726273,\n",
       "        0.9626185 ]),\n",
       " <BarContainer object of 10 artists>)"
      ]
     },
     "execution_count": 14,
     "metadata": {},
     "output_type": "execute_result"
    },
    {
     "data": {
      "image/png": "[encoded data removed]",
      "text/plain": [
       "<Figure size 640x480 with 1 Axes>"
      ]
     },
     "metadata": {},
     "output_type": "display_data"
    }
   ],
   "source": [
    "plt.hist(pvals)"
   ]
  },
  {
   "cell_type": "code",
   "execution_count": null,
   "metadata": {},
   "outputs": [],
   "source": []
  }
 ],
 "metadata": {
  "kernelspec": {
   "display_name": "stoch_phyl_mod_shape",
   "language": "python",
   "name": "python3"
  },
  "language_info": {
   "codemirror_mode": {
    "name": "ipython",
    "version": 3
   },
   "file_extension": ".py",
   "mimetype": "text/x-python",
   "name": "python",
   "nbconvert_exporter": "python",
   "pygments_lexer": "ipython3",
   "version": "3.11.9"
  }
 },
 "nbformat": 4,
 "nbformat_minor": 2
}
