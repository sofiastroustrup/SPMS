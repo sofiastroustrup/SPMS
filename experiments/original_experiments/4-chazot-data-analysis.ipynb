{
 "cells": [
  {
   "cell_type": "markdown",
   "metadata": {},
   "source": [
    "# Analysis of butterfly data \n",
    "\n",
    "1) Do inference using mcmc algorithm \n",
    "2) Assess convergence "
   ]
  },
  {
   "cell_type": "markdown",
   "metadata": {},
   "source": [
    "##### 1. Run MCMC to infer posterior \n",
    "\n",
    "We show in the notebook how to run MCMC but in practice we do not run MCMC from a notebook and this is just to give an example of how to run the mcmc_chazot.py script.  \n",
    "\n",
    "A few comments regarding the mcmc_chazot.py script: \n",
    "\n",
    "Some of the variables in the code are not named in accordance with the paper (see below):\n",
    "- gtheta = sigma \n",
    "- kalpha = alpha \n",
    "- obs_var = gamma \n",
    "- mirrored Gaussian = reflected Gaussian\n",
    "\n",
    "In the paper we update parameters by evaluating $g_s(x_s; \\theta)$ in the code we refer to this as \"logrhorilde\" and not g_s. "
   ]
  },
  {
   "cell_type": "code",
   "execution_count": 3,
   "metadata": {},
   "outputs": [],
   "source": [
    "outpath = '_butterfly-analysis'\n",
    "treepath = 'data/chazot_full_tree.nw'\n",
    "\n",
    "# define settings for MCMC\n",
    "x_s = 'phylomean'\n",
    "l_s = 5\n",
    "gamma = 0.001\n",
    "dt = 0.05\n",
    "sti=1\n",
    "tau_sigma = 0.1\n",
    "tau_alpha = 0.0015\n",
    "prior_sigma = (0, 1.5)\n",
    "prior_alpha = (0, 0.01)\n",
    "n_iter = 10 # in the paper we use 10000\n",
    "lambd = 0.99"
   ]
  },
  {
   "cell_type": "code",
   "execution_count": null,
   "metadata": {},
   "outputs": [],
   "source": [
    "with open (f'{outpath}.sh', 'w') as rsh:\n",
    "    rsh.write(f'''#!/bin/bash\n",
    "                            \n",
    "screen -md -S {outpath} python mcmc_chazot.py -N {n_iter} -l {lambd} -dt {dt} -datapath data/ -tau_sigma {tau_sigma} -tau_alpha {tau_alpha} -palpha {prior_alpha[0]} {round(prior_alpha[1]-prior_alpha[0],2)} -psigma {prior_sigma[0]} {round(prior_sigma[1]-prior_sigma[0],2)} -ov {gamma} -super_root {x_s} -o {outpath}/runs -rb {l_s}\n",
    "screen -md -S {outpath} python mcmc_chazot.py -N {n_iter} -l {lambd} -dt {dt} -datapath data/ -tau_sigma {tau_sigma} -tau_alpha {tau_alpha} -palpha {prior_alpha[0]} {round(prior_alpha[1]-prior_alpha[0],2)} -psigma {prior_sigma[0]} {round(prior_sigma[1]-prior_sigma[0],2)} -ov {gamma} -super_root {x_s} -o {outpath}/runs -rb {l_s}\n",
    "screen -md -S {outpath} python mcmc_chazot.py -N {n_iter} -l {lambd} -dt {dt} -datapath data/ -tau_sigma {tau_sigma} -tau_alpha {tau_alpha} -palpha {prior_alpha[0]} {round(prior_alpha[1]-prior_alpha[0],2)} -psigma {prior_sigma[0]} {round(prior_sigma[1]-prior_sigma[0],2)} -ov {gamma} -super_root {x_s} -o {outpath}/runs -rb {l_s}\n",
    "\n",
    "'''\n",
    "    )"
   ]
  },
  {
   "cell_type": "markdown",
   "metadata": {},
   "source": [
    "MCMC is run by running bash {outpath}.sh from commandline. "
   ]
  },
  {
   "cell_type": "markdown",
   "metadata": {},
   "source": [
    "##### 2. Convergence diagnostics and posterior visualization\n",
    "\n",
    "We plot convergence diagnostics and posteriors using the notebook diagnostics_chazot.ipynb. "
   ]
  }
 ],
 "metadata": {
  "kernelspec": {
   "display_name": "Python 3",
   "language": "python",
   "name": "python3"
  },
  "language_info": {
   "codemirror_mode": {
    "name": "ipython",
    "version": 3
   },
   "file_extension": ".py",
   "mimetype": "text/x-python",
   "name": "python",
   "nbconvert_exporter": "python",
   "pygments_lexer": "ipython3",
   "version": "3.11.10"
  }
 },
 "nbformat": 4,
 "nbformat_minor": 2
}
