{
 "cells": [
  {
   "cell_type": "code",
   "execution_count": null,
   "metadata": {},
   "outputs": [],
   "source": [
    "import os\n",
    "import numpy as np\n",
    "import pandas as pd\n",
    "import matplotlib.backends.backend_pdf as backend_pdf\n",
    "import matplotlib.pyplot as plt\n",
    "import re\n",
    "from numpy import genfromtxt\n",
    "from ete3 import Tree\n",
    "import seaborn as sns\n",
    "import arviz as az\n",
    "from plotting import plot_posterior"
   ]
  },
  {
   "cell_type": "code",
   "execution_count": null,
   "metadata": {},
   "outputs": [],
   "source": [
    "os.getcwd()"
   ]
  },
  {
   "cell_type": "code",
   "execution_count": null,
   "metadata": {},
   "outputs": [],
   "source": [
    "nnodes = 9\n",
    "tree = Tree('../../data/chazot_subtree.nw') \n"
   ]
  },
  {
   "cell_type": "code",
   "execution_count": null,
   "metadata": {},
   "outputs": [],
   "source": [
    "leafidx = []\n",
    "inneridx = []\n",
    "i = 0\n",
    "for node in tree.traverse('levelorder'):\n",
    "    if node.is_leaf():\n",
    "        print(node.name)\n",
    "        leafidx.append(i)\n",
    "    else:\n",
    "        inneridx.append(i)\n",
    "    i+=1\n",
    "print(leafidx)\n",
    "print(inneridx)\n"
   ]
  },
  {
   "cell_type": "code",
   "execution_count": null,
   "metadata": {},
   "outputs": [],
   "source": [
    "# settings \n",
    "simseed = 78241558624040307\n",
    "MCMC_iter = 6000\n",
    "burnin = 2000\n",
    "nthin = 1 # see from script/running conditions, not used for plotting\n",
    "folder_runs = f'../results/_sim-30-leaves/runs_v2/{simseed}/' \n",
    "folder_simdata = f'../results/_sim-30-leaves/simdata/{simseed}/' \n",
    "nnodes = 59\n",
    "#levelorder_tree = Tree('chazot_subtree_levelorder.nw') \n",
    "nxd = 40\n",
    "pars_name = ['kalpha', 'gtheta']\n",
    "rep_path = len(pars_name)+1\n",
    "chains = os.listdir(folder_runs) # use all chains in data seed folder \n",
    "chains = [c for c in chains if c[0] not in ['_', '.']] # remove files starting with underscore\n",
    "print(chains)\n",
    "\n",
    "# read true parameters\n",
    "true_pars = [np.genfromtxt(folder_simdata +p+\"_sim.csv\", delimiter = \",\") for p in pars_name]\n",
    "true_pars\n",
    "\n",
    "\n",
    "# PLOT TRACE AND DENSITY FOR PARAMETERS\n",
    "# wait with array in case of irregular dimensions \n",
    "temp_name = ['' for i in range(len(chains))]\n",
    "raw_pars = [[np.genfromtxt(folder_runs + chains[i]+'/'+temp_name[i]+par+\"s.csv\", delimiter = \",\") for i in range(len(chains))] for par in pars_name]\n",
    "raw_acceptpars = [[np.genfromtxt(folder_runs + chains[i]+'/'+temp_name[i]+\"acceptkalpha.csv\", delimiter = \",\") for i in range(len(chains))] for par in pars_name]\n",
    "\n",
    "pars = [np.array([raw_pars[j][i][burnin:MCMC_iter] for i in range(len(raw_pars[0]))]) for j in range(len(raw_pars))]\n",
    "[p.shape for p in pars]\n",
    "acceptpars = [np.array([raw_acceptpars[j][i][burnin:MCMC_iter] for i in range(len(raw_acceptpars[0]))]) for j in range(len(raw_acceptpars))]\n",
    "[ap.shape for ap in acceptpars]\n"
   ]
  },
  {
   "cell_type": "code",
   "execution_count": null,
   "metadata": {},
   "outputs": [],
   "source": [
    "# get rhat for parameters \n",
    "parsdict = dict(zip(pars_name, pars)) \n",
    "MCMC_result = parsdict #parsdict|innernodedict\n",
    "parsres = az.convert_to_dataset(MCMC_result)\n",
    "rhat = az.rhat(parsres)\n",
    "mcse = az.mcse(parsres)\n",
    "ess = az.ess(parsres)\n",
    "az.summary(parsres)\n",
    "\n",
    "# save rhat for plotting\n",
    "rhats_par = np.array([rhat['kalpha'], rhat['gtheta']])"
   ]
  },
  {
   "cell_type": "code",
   "execution_count": null,
   "metadata": {},
   "outputs": [],
   "source": [
    "pars_name = ['kalpha', 'gtheta']\n",
    "true_vals = {}\n",
    "\n",
    "for par in pars_name:\n",
    "    file_path = os.path.join(folder_simdata, f\"{par}_sim.csv\")\n",
    "    true_vals[par] = np.genfromtxt(file_path, delimiter=\",\")\n",
    "    \n",
    "print(true_vals)\n",
    "true_vals = list(true_vals.values()) #[true_pars]\n",
    "true_vals"
   ]
  },
  {
   "cell_type": "code",
   "execution_count": null,
   "metadata": {},
   "outputs": [],
   "source": [
    "#true_vals = true_pars.values() #[true_pars]\n",
    "import matplotlib.ticker as mticker\n",
    "\n",
    "plt.rcParams.update({'font.size': 20})\n",
    "keys = pars_name\n",
    "colors = sns.color_palette('muted', len(chains))\n",
    "fig, axes = plt.subplots(nrows=2, ncols=2, figsize=(25,15))\n",
    "p = 0\n",
    "cp = 0\n",
    "name = ['$\\alpha$']\n",
    "for i, ax in zip(range(len(axes.flat)), axes.flat): \n",
    "        if i%2 == 0: \n",
    "            for j in range(pars[p].shape[0]): #loop over chains \n",
    "                ax.plot(pars[p][j,:], color=colors[j], alpha=0.3)\n",
    "            ax.hlines(y=true_vals[p], xmin=0, xmax=pars[p].shape[1], color='skyblue', linewidth=3)\n",
    "            #ax.set_title(f'{keys[p]}, rhat: {round(float(np.array(rhat[keys[p]])),2)} \\n (ess: {round(float(np.array(ess[keys[p]])),2)}) ')\n",
    "            p+=1\n",
    "        if i%2==1:\n",
    "            for j in range(pars[cp].shape[0]):\n",
    "                sns.kdeplot(pars[cp][j,:], ax=ax, color=colors[j])\n",
    "                #sns.rugplot(pars[cp][j,:], ax=ax)\n",
    "            ax.axvline(x = true_vals[cp], ymin = 0, ymax = 1, color='skyblue', linewidth=3) \n",
    "            ax.set_ylabel(\"\")  # Remove y-axis label\n",
    "            ax.set(ylabel=None)  # Also remove label if set by seaborn\n",
    "            #ax.set_title(f'{keys[cp]}, rhat: {round(float(np.array(rhat[keys[cp]])),2)} \\n (ess: {round(float(np.array(ess[keys[cp]])),2)}) ')#\n",
    "            cp+=1\n",
    "        #if i%3==2:\n",
    "        #    ax.scatter(list(range(len(all_rhats_pars[:,cp]))), all_rhats_pars[:,cp])\n",
    "        #    ax.hlines(y=1.1, xmin=0, xmax=len(all_rhats_pars[:,cp]), color='red', linestyle='dashed', linewidth=2)\n",
    "        #    ax.hlines(y=1.0, xmin=0, xmax=len(all_rhats_pars[:,cp]), color='green', linestyle='dashed', linewidth=2)\n",
    "        #    cp+=1\n",
    "\n",
    "#fig.suptitle(f\"Iter: {MCMC_iter}, Burnin: {burnin} \\n\", fontsize=15)\n",
    "#fig.tight_layout()\n",
    "\n",
    "axes[0,0].set_title(r'$\\alpha$ ($\\hat{R}$='+ f'{round(float(np.array(rhat[keys[0]])),2)}, ESS={round(float(np.array(ess[keys[0]])))})')\n",
    "axes[0,1].set_title(r'$\\alpha$ ($\\hat{R}$='+ f'{round(float(np.array(rhat[keys[0]])),2)}, ESS={round(float(np.array(ess[keys[0]])))})')\n",
    "axes[0,1].tick_params(axis='x', labelrotation=15)\n",
    "#axes[0,1].xaxis.set_major_formatter(mticker.ScalarFormatter(useMathText=True))\n",
    "#axes[0,1].ticklabel_format(style='sci', axis='x', scilimits=(-3,-3))\n",
    "#axes[0,1].xaxis.get_offset_text().set_fontsize(16)  # Make the offset text larger if needed\n",
    "\n",
    "axes[1,0].set_title(r'$\\sigma$ ($\\hat{R}$='+ f'{round(float(np.array(rhat[keys[1]])),2)}, ESS={round(float(np.array(ess[keys[1]])))})')\n",
    "axes[1,1].set_title(r'$\\sigma$ ($\\hat{R}$= '+ f'{round(float(np.array(rhat[keys[1]])),2)}, ESS={round(float(np.array(ess[keys[1]])))})')\n",
    "#axes[1,2].set_title(r'$\\sigma$')\n",
    "\n",
    "plt.subplots_adjust(hspace=0.3)  # Increase vertical space (default is 0.2)\n",
    "plt.savefig(f'convergence_plot_sim-30-leaves_{simseed}.pdf')"
   ]
  },
  {
   "cell_type": "markdown",
   "metadata": {},
   "source": [
    "## Plot posterior distribution"
   ]
  },
  {
   "cell_type": "code",
   "execution_count": null,
   "metadata": {},
   "outputs": [],
   "source": [
    "import gc\n",
    "\n",
    "def plot_posterior(flat_trees, inneridx, outpath, flat_true_tree=False, sample_n=50, nxd=40):\n",
    "    # plot summary of Rhat values \n",
    "    n_nodes = len(inneridx)\n",
    "    # Determine the grid size\n",
    "    grid_size = int(np.ceil(np.sqrt(n_nodes)))\n",
    "    # Create subplots\n",
    "    fig, axes = plt.subplots(grid_size, grid_size, figsize=(20, 20), sharex=True, sharey=True, dpi=600)\n",
    "    #fig.suptitle(f'Samples from posterior (every {sample_n}) for all innernodes', size=20)\n",
    "    # Flatten the axes array for easy iteration\n",
    "    axes = axes.flatten()\n",
    "\n",
    "    # Create a scatter plot for each k\n",
    "    for i in range(n_nodes):\n",
    "        idx = inneridx[i]\n",
    "        innernodes = flat_trees[:,:,idx,:].reshape(-1, nxd)[::sample_n,:]\n",
    "        inode = innernodes #np.append(innernodes, innernodes[:,0:2],1)\n",
    "        for j in range(inode.shape[0]):\n",
    "            axes[i].plot(inode[j,::2], inode[j,1::2], '--.', color='steelblue', alpha=0.3)\n",
    "        if flat_true_tree is not False:\n",
    "            true_innernode = flat_true_tree[idx,:]\n",
    "            tinode = np.concatenate((true_innernode, true_innernode[0:2]))  \n",
    "            axes[i].plot(tinode[::2], tinode[1::2], '--.', color='black', label='True shape')\n",
    "        axes[i].set_title(f'Node {idx}', size=20);\n",
    "        axes[i].set_xticklabels([])\n",
    "        axes[i].set_yticklabels([])\n",
    "\n",
    "    # Hide any unused subplots\n",
    "    for j in range(n_nodes, grid_size * grid_size):\n",
    "        fig.delaxes(axes[j])\n",
    "\n",
    "   # plt.tight_layout()\n",
    "    plt.savefig(outpath, bbox_inches='tight') #\n",
    "    #fig.subplots_adjust(top=0.95)\n",
    "    #plt.show()\n",
    "    plt.close()\n",
    "    gc.collect()"
   ]
  },
  {
   "cell_type": "code",
   "execution_count": null,
   "metadata": {},
   "outputs": [],
   "source": [
    "rep_path = len(pars_name)+1\n",
    "chains = os.listdir(folder_runs) # use all chains in data seed folder \n",
    "chains = [c for c in chains if c[0] not in ['_', '.']] # remove files starting with underscore\n",
    "print(chains)\n",
    "temp_name = ['' for i in range(len(chains))]"
   ]
  },
  {
   "cell_type": "code",
   "execution_count": null,
   "metadata": {},
   "outputs": [],
   "source": [
    "simtree = \"../data/chazot_full_tree.nw\"\n",
    "tree = Tree(simtree)\n",
    "leafidx = []\n",
    "inneridx = []\n",
    "i = 0\n",
    "for node in tree.traverse('levelorder'):\n",
    "    if node.is_leaf():\n",
    "        print(node.name)\n",
    "        leafidx.append(i)\n",
    "    else:\n",
    "        inneridx.append(i)\n",
    "    i+=1\n",
    "print(leafidx)\n",
    "print(inneridx)"
   ]
  },
  {
   "cell_type": "code",
   "execution_count": null,
   "metadata": {},
   "outputs": [],
   "source": [
    "# read in data and MCMC chains\n",
    "raw_trees = [np.genfromtxt(folder_runs + chains[i]+'/'+temp_name[i]+\"tree_nodes.csv\", delimiter = \",\") for i in range(len(chains))]\n",
    "tree_counters = [np.genfromtxt(folder_runs + chains[i]+'/'+temp_name[i]+\"tree_counter.csv\", delimiter = \",\").astype(int) for i in range(len(chains))]\n"
   ]
  },
  {
   "cell_type": "code",
   "execution_count": null,
   "metadata": {},
   "outputs": [],
   "source": [
    "flat_trees_raw = [raw_trees[i].reshape(len(tree_counters[i]),nnodes,nxd) for i in range(len(raw_trees))]\n",
    "flat_true_tree = np.genfromtxt(folder_simdata+\"flat_true_tree.csv\", delimiter = \",\")\n",
    "super_root = [np.genfromtxt(folder_runs + chains[i]+'/'+temp_name[i]+\"inference_root_start.csv\", delimiter = \",\") for i in range(len(chains))]\n",
    "_super_root = [np.concatenate((super_root[i], super_root[i][0:2])) for i in range(len(chains))]\n",
    "_super_root = np.unique(np.array(_super_root), axis=0)\n",
    "flat_trees = np.array([np.repeat(flat_trees_raw[i], tree_counters[i], axis=0)[burnin*rep_path:(MCMC_iter//nthin)*rep_path] for i in range(len(flat_trees_raw))])\n",
    "flat_trees.shape"
   ]
  },
  {
   "cell_type": "code",
   "execution_count": null,
   "metadata": {},
   "outputs": [],
   "source": [
    "plot_posterior(flat_trees, inneridx, outpath = f'posterior_samples_burnin={burnin}_MCMCiter={MCMC_iter}.png', flat_true_tree=flat_true_tree, sample_n=50)\n"
   ]
  },
  {
   "cell_type": "code",
   "execution_count": null,
   "metadata": {},
   "outputs": [],
   "source": []
  }
 ],
 "metadata": {
  "kernelspec": {
   "display_name": "SPMS",
   "language": "python",
   "name": "python3"
  },
  "language_info": {
   "codemirror_mode": {
    "name": "ipython",
    "version": 3
   },
   "file_extension": ".py",
   "mimetype": "text/x-python",
   "name": "python",
   "nbconvert_exporter": "python",
   "pygments_lexer": "ipython3",
   "version": "3.13.5"
  }
 },
 "nbformat": 4,
 "nbformat_minor": 2
}
