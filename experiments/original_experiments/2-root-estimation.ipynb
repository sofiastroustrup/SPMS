{
 "cells": [
  {
   "cell_type": "code",
   "execution_count": 1,
   "metadata": {},
   "outputs": [],
   "source": [
    "import numpy as np\n",
    "import subprocess"
   ]
  },
  {
   "cell_type": "markdown",
   "metadata": {},
   "source": [
    "# Root estimation \n",
    "\n",
    "In this notebook we describe the pipeline we use to do the experiments from Section 4.2. \n",
    "\n",
    "1) Simulate data sets\n",
    "2) Do inference using mcmc algorithm \n",
    "3) Assess convergence \n",
    "4) Compute mean squared error and compare to mean and phylogenetic mean "
   ]
  },
  {
   "cell_type": "markdown",
   "metadata": {},
   "source": [
    "##### 0. Define settings for experiment"
   ]
  },
  {
   "cell_type": "code",
   "execution_count": null,
   "metadata": {},
   "outputs": [],
   "source": [
    "rootpath = 'data/hercules_forewing_n=20.csv'\n",
    "treepath = 'data/chazot_subtree.nw'\n",
    "outpath = '_root-experiment'\n",
    "sigma_sim = 0.9\n",
    "alpha_sim = 0.02\n",
    "gamma = 0.001\n",
    "n_datasets = 5\n",
    "dt = 0.05\n",
    "sti=1\n",
    "\n",
    "tau_sigma = 0.2\n",
    "tau_alpha = 0.005\n",
    "prior_sigma = (0.7, 1.3)\n",
    "prior_alpha = (0.0005, 0.03)\n",
    "n_iter = 100 #this is 3000 in the paper\n",
    "lambd = 0.8\n",
    "ls = 2 # super root branch length \n",
    "x_s = 'phylomean'"
   ]
  },
  {
   "cell_type": "markdown",
   "metadata": {},
   "source": [
    "##### 1. Simulate data sets"
   ]
  },
  {
   "cell_type": "code",
   "execution_count": 3,
   "metadata": {},
   "outputs": [
    {
     "name": "stdout",
     "output_type": "stream",
     "text": [
      "!! no data seed given\n",
      "simulation seed: 49873795413804327\n"
     ]
    },
    {
     "name": "stderr",
     "output_type": "stream",
     "text": [
      "here() starts at /Users/lkn315/Documents/stoch_phyl_mod_shape\n"
     ]
    },
    {
     "name": "stdout",
     "output_type": "stream",
     "text": [
      "> args <- commandArgs(trailingOnly = TRUE)\n",
      "> \n",
      "> # do what we want \n",
      "> tree = read.tree(paste(args[1], '.nw', sep=''))\n",
      "> vcv_ = vcv(tree)\n",
      "> write.table(vcv_, file=paste(args[1],'_vcv.csv', sep=''), row.names=F, col.names=F)\n",
      "> \n",
      "!! no data seed given\n",
      "simulation seed: 7680677238277473\n"
     ]
    },
    {
     "name": "stderr",
     "output_type": "stream",
     "text": [
      "here() starts at /Users/lkn315/Documents/stoch_phyl_mod_shape\n"
     ]
    },
    {
     "name": "stdout",
     "output_type": "stream",
     "text": [
      "> args <- commandArgs(trailingOnly = TRUE)\n",
      "> \n",
      "> # do what we want \n",
      "> tree = read.tree(paste(args[1], '.nw', sep=''))\n",
      "> vcv_ = vcv(tree)\n",
      "> write.table(vcv_, file=paste(args[1],'_vcv.csv', sep=''), row.names=F, col.names=F)\n",
      "> \n",
      "!! no data seed given\n",
      "simulation seed: 12238695649958997\n"
     ]
    },
    {
     "name": "stderr",
     "output_type": "stream",
     "text": [
      "here() starts at /Users/lkn315/Documents/stoch_phyl_mod_shape\n"
     ]
    },
    {
     "name": "stdout",
     "output_type": "stream",
     "text": [
      "> args <- commandArgs(trailingOnly = TRUE)\n",
      "> \n",
      "> # do what we want \n",
      "> tree = read.tree(paste(args[1], '.nw', sep=''))\n",
      "> vcv_ = vcv(tree)\n",
      "> write.table(vcv_, file=paste(args[1],'_vcv.csv', sep=''), row.names=F, col.names=F)\n",
      "> \n",
      "!! no data seed given\n",
      "simulation seed: 59484663473074378\n"
     ]
    },
    {
     "name": "stderr",
     "output_type": "stream",
     "text": [
      "here() starts at /Users/lkn315/Documents/stoch_phyl_mod_shape\n"
     ]
    },
    {
     "name": "stdout",
     "output_type": "stream",
     "text": [
      "> args <- commandArgs(trailingOnly = TRUE)\n",
      "> \n",
      "> # do what we want \n",
      "> tree = read.tree(paste(args[1], '.nw', sep=''))\n",
      "> vcv_ = vcv(tree)\n",
      "> write.table(vcv_, file=paste(args[1],'_vcv.csv', sep=''), row.names=F, col.names=F)\n",
      "> \n",
      "!! no data seed given\n",
      "simulation seed: 10953749833646560\n"
     ]
    },
    {
     "name": "stderr",
     "output_type": "stream",
     "text": [
      "here() starts at /Users/lkn315/Documents/stoch_phyl_mod_shape\n"
     ]
    },
    {
     "name": "stdout",
     "output_type": "stream",
     "text": [
      "> args <- commandArgs(trailingOnly = TRUE)\n",
      "> \n",
      "> # do what we want \n",
      "> tree = read.tree(paste(args[1], '.nw', sep=''))\n",
      "> vcv_ = vcv(tree)\n",
      "> write.table(vcv_, file=paste(args[1],'_vcv.csv', sep=''), row.names=F, col.names=F)\n",
      "> \n"
     ]
    }
   ],
   "source": [
    "for i in range(n_datasets):\n",
    "  subprocess.run(['python', 'simulate_data.py', \n",
    "                '-dt', f'{dt}',\n",
    "                '-a', f'{alpha_sim}',\n",
    "                '-s', f'{sigma_sim}',\n",
    "                '-ov', f'{gamma}',\n",
    "                '-root', f'{rootpath}',\n",
    "                '-o', f'{outpath}/simdata', \n",
    "                '-simtree', f'{treepath}', \n",
    "                '-sti', f'{sti}', # whether or not do the stratonovich ito corr\n",
    "                '-rb', '0'  \n",
    "                  ])"
   ]
  },
  {
   "cell_type": "markdown",
   "metadata": {},
   "source": [
    "##### 2. Run MCMC to infer posterior \n",
    "\n",
    "We show in the notebook how to run MCMC but in practice we do not run MCMC from a notebook and this is just to give an example of how to run the mcmc.py script.  \n",
    "\n",
    "A few comments regarding the mcmc.py script: \n",
    "\n",
    "Some of the variables in the code are not named in accordance with the paper (see below):\n",
    "- gtheta = sigma \n",
    "- kalpha = alpha \n",
    "- obs_var = gamma \n",
    "- mirrored Gaussian = reflected Gaussian\n",
    "\n",
    "In the paper we update parameters by evaluating $g_s(x_s; \\theta)$ in the code we refer to this as \"logrhorilde\" and not g_s. "
   ]
  },
  {
   "cell_type": "code",
   "execution_count": 4,
   "metadata": {},
   "outputs": [],
   "source": [
    "with open (f'{outpath}.sh', 'w') as rsh:\n",
    "    rsh.write(f'''#!/bin/bash\n",
    "read seed\n",
    "              \n",
    "screen -md -S {outpath} python mcmc.py -N {n_iter} -l {lambd} -dt {dt} -datapath {outpath}/simdata -tau_sigma {tau_sigma} -tau_alpha {tau_alpha} -palpha {prior_alpha[0]} {round(prior_alpha[1]-prior_alpha[0],2)} -psigma {prior_sigma[0]} {round(prior_sigma[1]-prior_sigma[0],2)} -ov {gamma} -super_root {x_s} -o {outpath}/runs -ds $seed\n",
    "screen -md -S {outpath} python mcmc.py -N {n_iter} -l {lambd} -dt {dt} -datapath {outpath}/simdata -tau_sigma {tau_sigma} -tau_alpha {tau_alpha} -palpha {prior_alpha[0]} {round(prior_alpha[1]-prior_alpha[0],2)} -psigma {prior_sigma[0]} {round(prior_sigma[1]-prior_sigma[0],2)} -ov {gamma} -super_root {x_s} -o {outpath}/runs -ds $seed\n",
    "screen -md -S {outpath} python mcmc.py -N {n_iter} -l {lambd} -dt {dt} -datapath {outpath}/simdata -tau_sigma {tau_sigma} -tau_alpha {tau_alpha} -palpha {prior_alpha[0]} {round(prior_alpha[1]-prior_alpha[0],2)} -psigma {prior_sigma[0]} {round(prior_sigma[1]-prior_sigma[0],2)} -ov {gamma} -super_root {x_s} -o {outpath}/runs -ds $seed\n",
    "\n",
    "'''\n",
    "    )"
   ]
  },
  {
   "cell_type": "markdown",
   "metadata": {},
   "source": [
    "We runs the bash script generated above from the commandline. "
   ]
  },
  {
   "cell_type": "markdown",
   "metadata": {},
   "source": [
    "##### 3. Assess convergence and plot convergence diagnostics\n",
    "\n",
    "We first convergence by running the diagnostics.py plot. After that all convergence diagnostics in one plot using the notebook 2-root-experiment/diagnostics_all_exp.ipynb. "
   ]
  },
  {
   "cell_type": "code",
   "execution_count": null,
   "metadata": {},
   "outputs": [],
   "source": [
    "#! ls _root-experiment/runs | while read seed; do python diagnostics.py -folder_runs _root-experiment/runs/$seed -folder_simdata _root-experiment/simdata/$seed -MCMC_iter 100 -burnin 10 -nnodes 9 -simtree data/chazot_subtree.nw; done "
   ]
  },
  {
   "cell_type": "markdown",
   "metadata": {},
   "source": [
    "We plot a summary of the convergence diagnostics by running the script in the folder \"2-root-experiment\" named \"diagnostis_all_exp.ipynb\". "
   ]
  },
  {
   "cell_type": "markdown",
   "metadata": {},
   "source": [
    "##### 5. Compute mean squared error\n",
    "\n",
    "We compute the mean squared error between mean, phylogenetic mean, posterior mean, posterior mode and posterior median by running the notebook 4.2-root-experiment/roots-estimation.ipynb."
   ]
  }
 ],
 "metadata": {
  "kernelspec": {
   "display_name": "stoch_phyl_mod_shape",
   "language": "python",
   "name": "python3"
  },
  "language_info": {
   "codemirror_mode": {
    "name": "ipython",
    "version": 3
   },
   "file_extension": ".py",
   "mimetype": "text/x-python",
   "name": "python",
   "nbconvert_exporter": "python",
   "pygments_lexer": "ipython3",
   "version": "3.11.9"
  }
 },
 "nbformat": 4,
 "nbformat_minor": 2
}
